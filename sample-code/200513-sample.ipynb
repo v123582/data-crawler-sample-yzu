{
 "cells": [
  {
   "cell_type": "markdown",
   "metadata": {},
   "source": [
    "# Python 網路爬蟲實作技術\n",
    "\n",
    "* 元智大學資工系\n",
    "* 張維元 @ 2020/05/13(Wed.)"
   ]
  },
  {
   "cell_type": "code",
   "execution_count": 1,
   "metadata": {},
   "outputs": [
    {
     "name": "stdout",
     "output_type": "stream",
     "text": [
      "Hello World\n"
     ]
    }
   ],
   "source": [
    "print('Hello World')"
   ]
  },
  {
   "cell_type": "code",
   "execution_count": 2,
   "metadata": {},
   "outputs": [
    {
     "name": "stdout",
     "output_type": "stream",
     "text": [
      "/Users/wei/Dropbox/Materials/20200506-交大產學運籌中心 - 創業輔一把系列課程-Python 網路爬蟲實作技術/sample-code\n"
     ]
    }
   ],
   "source": [
    "import os\n",
    "print(os.getcwd())"
   ]
  },
  {
   "cell_type": "markdown",
   "metadata": {},
   "source": [
    "## 04 如何使用 Python 存取 API 資料"
   ]
  },
  {
   "cell_type": "markdown",
   "metadata": {},
   "source": [
    "### Example：Dcard API"
   ]
  },
  {
   "cell_type": "code",
   "execution_count": 3,
   "metadata": {},
   "outputs": [],
   "source": [
    "import requests\n",
    "# 引入函式庫\n",
    "\n",
    "r = requests.get('https://www.dcard.tw/_api/forums/job/posts?popular=true')\n",
    "# 想要爬資料的目標網址\n",
    "response = r.text\n",
    "# 模擬發送請求的動作"
   ]
  },
  {
   "cell_type": "code",
   "execution_count": 5,
   "metadata": {},
   "outputs": [
    {
     "data": {
      "text/plain": [
       "'[{\"id\":225578807,\"title\":\"<請先點我> 工作板＆實習、打工職缺刊登說明\",\"excerpt\":\"工作板主要供分享職場工作心得、面試、正職、招考過程分享、各類型工作內容介紹、勞工工作權益與相關法案議題討論相關文章。文章發文後請加上話題，如：經驗分享、職業介紹、勞工權益、徵才等....，「實習職缺/刊登」請點：\",\"anonymousSchool\":false,\"anonymousDepartment\":true,\"pinned\":true,\"forumId\":\"6eeeafb2-9dac-4d81-ae4b-ffecf0ad4444\",\"replyId\":null,\"createdAt\":\"2017-01-01T06:27:39.650Z\",\"updatedAt\":\"2020-02-27T02:54:18.710Z\",\"commentCount\":39,\"likeCount\":699,\"withNickname\":true,\"tags\":[],\"topics\":[\"工作板\",\"Dcard公告\",\"實習職缺\",\"打工職缺\"],\"meta\":{},\"forumName\":\"工作\",\"forumAlias\":\"job\",\"nsfw\":false,\"gender\":\"D\",\"school\":\"客服小天使\",\"department\":\"dcard_support_2\",\"replyTitle\":null,\"mediaMeta\":[],\"reactions\":[{\"id\":\"286f599c-f86a-4932-82f0-f5a06f1eca03\",\"count\":696},{\"id\":\"e8e6bc5d-41b0-4129-b134-97507523d7ff\",\"count\":2},{\"id\":\"aa0d425f-d530-4478-9a77-fe3aedc79eea\",\"count\":1}],\"hidden\":false,\"customStyle\":null,\"isSuspiciousAccount\":false,\"layout\":\"classic\",\"pinnedType\":\"dcard\",\"pinnedPriority\":1582772058000,\"withImages\":false,\"withVideos\":false,\"media\":[],\"reportReasonText\":\"\",\"postAvatar\":\"\"},{\"id\":233651655,\"title\":\"沒有行銷相關經歷，作品集我這樣準備\",\"excerpt\":\"知道最近很多人在準備畢業後的求職履歷，想跟大家分享我當初是如何找到第一份行銷工作的（好啦其實是實習），簡單說明一下我的背景。我大學讀的是經營管理系。那時剛升大三，我應徵了一間臺北的新創公司，職位是「社\",\"anonymousSchool\":false,\"anonymousDepartment\":true,\"pinned\":false,\"forumId\":\"6eeeafb2-9dac-4d81-ae4b-ffecf0ad4444\",\"replyId\":null,\"createdAt\":\"2020-05-11T04:29:41.730Z\",\"updatedAt\":\"2020-05-11T04:29:41.730Z\",\"commentCount\":9,\"likeCount\":451,\"withNickname\":true,\"tags\":[],\"topics\":[\"找工作\",\"行銷\",\"面試\",\"面試經驗\",\"求職\"],\"meta\":{\"layout\":\"classic\"},\"forumName\":\"工作\",\"forumAlias\":\"job\",\"nsfw\":false,\"gender\":\"F\",\"school\":\"品牌女子\",\"department\":\"ananote\",\"replyTitle\":null,\"mediaMeta\":[{\"id\":\"86ec80e4-e491-467c-9167-1c7b9d208b9a\",\"url\":\"https://megapx-assets.dcard.tw/images/c447d3f7-5115-447a-a9d2-6f15de6a52bc/160.jpeg\",\"normalizedUrl\":\"https://megapx-assets.dcard.tw/images/c447d3f7-5115-447a-a9d2-6f15de6a52bc/160.jpeg\",\"thumbnail\":\"https://megapx-assets.dcard.tw/images/c447d3f7-5115-447a-a9d2-6f15de6a52bc/160.jpeg\",\"type\":\"image/thumbnail\",\"tags\":[],\"createdAt\":\"2020-05-11T04:29:41.730Z\",\"updatedAt\":\"2020-05-11T04:29:41.730Z\",\"width\":160,\"height\":160},{\"id\":\"86ec80e4-e491-467c-9167-1c7b9d208b9a\",\"url\":\"https://megapx-assets.dcard.tw/images/c447d3f7-5115-447a-a9d2-6f15de6a52bc/full.jpeg\",\"normalizedUrl\":\"https://megapx.dcard.tw/v1/images/c447d3f7-5115-447a-a9d2-6f15de6a52bc\",\"thumbnail\":\"https://megapx-assets.dcard.tw/images/c447d3f7-5115-447a-a9d2-6f15de6a52bc/160.jpeg\",\"type\":\"image/megapx\",\"tags\":[],\"createdAt\":\"2020-05-11T04:29:41.730Z\",\"updatedAt\":\"2020-05-11T04:29:41.730Z\",\"width\":1080,\"height\":1080},{\"id\":\"523dc874-13c6-4399-88f6-087daed003d8\",\"url\":\"https://megapx-assets.dcard.tw/images/12d606d8-557f-48ba-aec6-54b9237074b6/full.jpeg\",\"normalizedUrl\":\"https://megapx.dcard.tw/v1/images/12d606d8-557f-48ba-aec6-54b9237074b6\",\"thumbnail\":\"https://megapx-assets.dcard.tw/images/12d606d8-557f-48ba-aec6-54b9237074b6/160.jpeg\",\"type\":\"image/megapx\",\"tags\":[],\"createdAt\":\"2020-05-11T04:29:41.730Z\",\"updatedAt\":\"2020-05-11T04:29:41.730Z\",\"width\":1080,\"height\":1080},{\"id\":\"714abbbc-fac8-4064-b584-388647a5695f\",\"url\":\"https://megapx-assets.dcard.tw/images/8c016b04-5067-415b-be89-82470fdd4603/full.jpeg\",\"normalizedUrl\":\"https://megapx.dcard.tw/v1/images/8c016b04-5067-415b-be89-82470fdd4603\",\"thumbnail\":\"https://megapx-assets.dcard.tw/images/8c016b04-5067-415b-be89-82470fdd4603/160.jpeg\",\"type\":\"image/megapx\",\"tags\":[],\"createdAt\":\"2020-05-11T04:29:41.730Z\",\"updatedAt\":\"2020-05-11T04:29:41.730Z\",\"width\":1080,\"height\":1080},{\"id\":\"98dfebbc-cb2a-4776-b0ab-45dea7399f11\",\"url\":\"https://megapx-assets.dcard.tw/images/fc9089ee-cff0-48e4-a7ed-02b16b4c4b3e/full.jpeg\",\"normalizedUrl\":\"https://megapx.dcard.tw/v1/images/fc9089ee-cff0-48e4-a7ed-02b16b4c4b3e\",\"thumbnail\":\"https://megapx-assets.dcard.tw/images/fc9089ee-cff0-48e4-a7ed-02b16b4c4b3e/160.jpeg\",\"type\":\"image/megapx\",\"tags\":[],\"createdAt\":\"2020-05-11T04:29:41.730Z\",\"updatedAt\":\"2020-05-11T04:29:41.730Z\",\"width\":1080,\"height\":1080},{\"id\":\"eeb22108-3db7-488d-a980-f57188be7188\",\"url\":\"https://megapx-assets.dcard.tw/images/d1fcc9a1-0f0a-40fa-9ef8-6b10f0b0eb8b/full.jpeg\",\"normalizedUrl\":\"https://megapx.dcard.tw/v1/images/d1fcc9a1-0f0a-40fa-9ef8-6b10f0b0eb8b\",\"thumbnail\":\"https://megapx-assets.dcard.tw/images/d1fcc9a1-0f0a-40fa-9ef8-6b10f0b0eb8b/160.jpeg\",\"type\":\"image/megapx\",\"tags\":[],\"createdAt\":\"2020-05-11T04:29:41.730Z\",\"updatedAt\":\"2020-05-11T04:29:41.730Z\",\"width\":1080,\"height\":1080},{\"id\":\"3468e0f1-c5fe-4944-b835-501424738c41\",\"url\":\"https://megapx-assets.dcard.tw/images/d92808a5-a367-456b-a0ee-c76ff6e769f4/full.jpeg\",\"normalizedUrl\":\"https://megapx.dcard.tw/v1/images/d92808a5-a367-456b-a0ee-c76ff6e769f4\",\"thumbnail\":\"https://megapx-assets.dcard.tw/images/d92808a5-a367-456b-a0ee-c76ff6e769f4/160.jpeg\",\"type\":\"image/megapx\",\"tags\":[],\"createdAt\":\"2020-05-11T04:29:41.730Z\",\"updatedAt\":\"2020-05-11T04:29:41.730Z\",\"width\":1080,\"height\":1080},{\"id\":\"c5f7da49-8670-49e2-ba8f-1ce2765cd235\",\"url\":\"https://megapx-assets.dcard.tw/images/2426e968-8587-4875-8e7d-696664201bf6/full.jpeg\",\"normalizedUrl\":\"https://megapx.dcard.tw/v1/images/2426e968-8587-4875-8e7d-696664201bf6\",\"thumbnail\":\"https://megapx-assets.dcard.tw/images/2426e968-8587-4875-8e7d-696664201bf6/160.jpeg\",\"type\":\"image/megapx\",\"tags\":[],\"createdAt\":\"2020-05-11T04:29:41.730Z\",\"updatedAt\":\"2020-05-11T04:29:41.730Z\",\"width\":1080,\"height\":1080},{\"id\":\"9db405fb-0063-48db-b3f1-f7786c85a88d\",\"url\":\"https://megapx-assets.dcard.tw/images/bf5b7f2b-e98b-4ce5-b33d-8ef18917af5c/full.jpeg\",\"normalizedUrl\":\"https://megapx.dcard.tw/v1/images/bf5b7f2b-e98b-4ce5-b33d-8ef18917af5c\",\"thumbnail\":\"https://megapx-assets.dcard.tw/images/bf5b7f2b-e98b-4ce5-b33d-8ef18917af5c/160.jpeg\",\"type\":\"image/megapx\",\"tags\":[],\"createdAt\":\"2020-05-11T04:29:41.730Z\",\"updatedAt\":\"2020-05-11T04:29:41.730Z\",\"width\":750,\"height\":738}],\"reactions\":[{\"id\":\"286f599c-f86a-4932-82f0-f5a06f1eca03\",\"count\":451}],\"hidden\":false,\"customStyle\":null,\"isSuspiciousAccount\":false,\"layout\":\"classic\",\"withImages\":true,\"withVideos\":false,\"media\":[{\"url\":\"https://megapx-assets.dcard.tw/images/c447d3f7-5115-447a-a9d2-6f15de6a52bc/full.jpeg\"},{\"url\":\"https://megapx-assets.dcard.tw/images/12d606d8-557f-48ba-aec6-54b9237074b6/full.jpeg\"},{\"url\":\"https://megapx-assets.dcard.tw/images/8c016b04-5067-415b-be89-82470fdd4603/full.jpeg\"},{\"url\":\"https://megapx-assets.dcard.tw/images/fc9089ee-cff0-48e4-a7ed-02b16b4c4b3e/full.jpeg\"},{\"url\":\"https://megapx-assets.dcard.tw/images/d1fcc9a1-0f0a-40fa-9ef8-6b10f0b0eb8b/full.jpeg\"},{\"url\":\"https://megapx-assets.dcard.tw/images/d92808a5-a367-456b-a0ee-c76ff6e769f4/full.jpeg\"},{\"url\":\"https://megapx-assets.dcard.tw/images/2426e968-8587-4875-8e7d-696664201bf6/full.jpeg\"},{\"url\":\"https://megapx-assets.dcard.tw/images/bf5b7f2b-e98b-4ce5-b33d-8ef18917af5c/full.jpeg\"}],\"reportReasonText\":\"\",\"postAvatar\":\"\"},{\"id\":233654866,\"title\":\"因為疫情，我被生活工場裁員了\",\"excerpt\":\"我被裁員了，他們說因為疫情，必須縮減人力，我就這樣很突然的被新店長告知後就做到10號，他們要我寫離職單自願離職，還說我才做兩個月不會有遣散費，（已問過勞工局，其實是有，我想說兩個月前就沒有疫情嗎？還應\",\"anonymousSchool\":false,\"anonymousDepartment\":true,\"pinned\":false,\"forumId\":\"6eeeafb2-9dac-4d81-ae4b-ffecf0ad4444\",\"replyId\":null,\"createdAt\":\"2020-05-11T13:24:27.845Z\",\"updatedAt\":\"2020-05-12T11:25:47.856Z\",\"commentCount\":11,\"likeCount\":62,\"withNickname\":true,\"tags\":[\"HIDE_THUMBNAIL\"],\"topics\":[\"疫情\",\"工作\",\"離職\",\"工作經驗\",\"生活工場\"],\"meta\":{\"layout\":\"classic\"},\"forumName\":\"工作\",\"forumAlias\":\"job\",\"nsfw\":false,\"gender\":\"F\",\"school\":\"我只是太怨恨才發文\",\"department\":\"bullshit80661\",\"replyTitle\":null,\"mediaMeta\":[],\"reactions\":[{\"id\":\"286f599c-f86a-4932-82f0-f5a06f1eca03\",\"count\":58},{\"id\":\"aa0d425f-d530-4478-9a77-fe3aedc79eea\",\"count\":3},{\"id\":\"514c2569-fd53-4d9d-a415-bf0f88e7329f\",\"count\":1}],\"hidden\":false,\"customStyle\":{},\"isSuspiciousAccount\":false,\"layout\":\"classic\",\"withImages\":false,\"withVideos\":false,\"media\":[],\"reportReasonText\":\"\",\"postAvatar\":\"\"},{\"id\":233652996,\"title\":\"我年收入破200萬，我很厲害。\",\"excerpt\":\"我不愛唸書，（翻譯：你們只會念書），畢業後當完兵，去某高職學煮飯，考過丙級跟乙級證照後開早午餐店。早上4點到店，營業時間早上4點到下午2點，我是開在純住宅區，非加盟店。（翻譯：我很有遠見開了間早午餐店\",\"anonymousSchool\":true,\"anonymousDepartment\":true,\"pinned\":false,\"forumId\":\"6eeeafb2-9dac-4d81-ae4b-ffecf0ad4444\",\"replyId\":233645134,\"createdAt\":\"2020-05-11T08:15:26.149Z\",\"updatedAt\":\"2020-05-11T08:15:26.149Z\",\"commentCount\":12,\"likeCount\":34,\"withNickname\":false,\"tags\":[],\"topics\":[\"年薪\",\"工作\"],\"meta\":{\"layout\":\"classic\"},\"forumName\":\"工作\",\"forumAlias\":\"job\",\"nsfw\":false,\"gender\":\"M\",\"replyTitle\":\"我年收入破200萬\",\"mediaMeta\":[],\"reactions\":[{\"id\":\"286f599c-f86a-4932-82f0-f5a06f1eca03\",\"count\":33},{\"id\":\"e8e6bc5d-41b0-4129-b134-97507523d7ff\",\"count\":1}],\"hidden\":false,\"customStyle\":null,\"isSuspiciousAccount\":false,\"layout\":\"classic\",\"withImages\":false,\"withVideos\":false,\"media\":[],\"reportReasonText\":\"\",\"postAvatar\":\"\"},{\"id\":233655413,\"title\":\"父母的期待\",\"excerpt\":\"本人我在今年一月初跟公司提離職，講好三月離開，結果好死不死遇到疫情凸^-^凸，原本待的公司是某民營銀行櫃員，做了大概一年左右，工作約半年時就已經萌生強烈離職的念頭，過的超級生不如死，我都覺得我快得憂鬱\",\"anonymousSchool\":true,\"anonymousDepartment\":true,\"pinned\":false,\"forumId\":\"6eeeafb2-9dac-4d81-ae4b-ffecf0ad4444\",\"replyId\":null,\"createdAt\":\"2020-05-11T14:37:53.388Z\",\"updatedAt\":\"2020-05-11T14:37:53.388Z\",\"commentCount\":13,\"likeCount\":31,\"withNickname\":false,\"tags\":[\"HIDE_THUMBNAIL\"],\"topics\":[\"求職\"],\"meta\":{\"layout\":\"classic\"},\"forumName\":\"工作\",\"forumAlias\":\"job\",\"nsfw\":false,\"gender\":\"F\",\"replyTitle\":null,\"mediaMeta\":[],\"reactions\":[{\"id\":\"286f599c-f86a-4932-82f0-f5a06f1eca03\",\"count\":31}],\"hidden\":false,\"customStyle\":null,\"isSuspiciousAccount\":false,\"layout\":\"classic\",\"withImages\":false,\"withVideos\":false,\"media\":[],\"reportReasonText\":\"\",\"postAvatar\":\"\"},{\"id\":233656998,\"title\":\"職務大搜查\",\"excerpt\":\"從小到出社會至今一直找不到人生目標與興趣喜好，工作也不知道要做什麼，完全沒一個方向，專業能力也幾乎是零，想進修或要做什麼“不那麼厭世”的工作也完全沒一個頭緒覺得人生很惶恐無奈。工作看起來千百種但不知道\",\"anonymousSchool\":false,\"anonymousDepartment\":true,\"pinned\":false,\"forumId\":\"6eeeafb2-9dac-4d81-ae4b-ffecf0ad4444\",\"replyId\":null,\"createdAt\":\"2020-05-11T19:03:27.828Z\",\"updatedAt\":\"2020-05-11T19:10:37.416Z\",\"commentCount\":8,\"likeCount\":28,\"withNickname\":false,\"tags\":[],\"topics\":[\"工作\",\"工作經驗\",\"求職\",\"職業介紹\"],\"meta\":{\"layout\":\"classic\"},\"forumName\":\"工作\",\"forumAlias\":\"job\",\"nsfw\":false,\"gender\":\"F\",\"school\":\"嘉南藥理大學\",\"replyTitle\":null,\"mediaMeta\":[],\"reactions\":[{\"id\":\"286f599c-f86a-4932-82f0-f5a06f1eca03\",\"count\":28}],\"hidden\":false,\"customStyle\":null,\"isSuspiciousAccount\":false,\"layout\":\"classic\",\"withImages\":false,\"withVideos\":false,\"media\":[],\"reportReasonText\":\"\",\"postAvatar\":\"\"},{\"id\":233654816,\"title\":\"104家教網 小工具 #爬蟲#產生excel表\",\"excerpt\":\"紀念一下自己主動找的六個案子，都還沒有後續，花點時間做了這個小工具，希望各位不必花太多時間整理每個案子的細節，也祝各位早日找到學生，本來想放在軟工版，但鑑於是自己找工作的時候，產生的悲鳴，而有此工具，\",\"anonymousSchool\":false,\"anonymousDepartment\":true,\"pinned\":false,\"forumId\":\"6eeeafb2-9dac-4d81-ae4b-ffecf0ad4444\",\"replyId\":null,\"createdAt\":\"2020-05-11T13:18:54.247Z\",\"updatedAt\":\"2020-05-11T13:18:54.247Z\",\"commentCount\":0,\"likeCount\":27,\"withNickname\":true,\"tags\":[],\"topics\":[\"工作\",\"小工具\",\"爬蟲\"],\"meta\":{\"layout\":\"classic\"},\"forumName\":\"工作\",\"forumAlias\":\"job\",\"nsfw\":false,\"gender\":\"M\",\"school\":\"三豬\",\"department\":\"ironstrongman\",\"replyTitle\":null,\"mediaMeta\":[{\"id\":\"2913ae3c-cafa-4290-af90-b913517c566b\",\"url\":\"https://imgur.dcard.tw/QjPTdO1.png\",\"normalizedUrl\":\"https://imgur.dcard.tw/QjPTdO1.png\",\"thumbnail\":\"https://imgur.dcard.tw/QjPTdO1.png\",\"type\":\"image/thumbnail\",\"tags\":[\"ANNOTATED\"],\"createdAt\":\"2020-05-11T13:18:54.247Z\",\"updatedAt\":\"2020-05-11T13:18:54.247Z\"},{\"id\":\"2913ae3c-cafa-4290-af90-b913517c566b\",\"url\":\"https://imgur.dcard.tw/QjPTdO1.png\",\"normalizedUrl\":\"\",\"thumbnail\":\"https://imgur.dcard.tw/QjPTdO1.png\",\"type\":\"image/png\",\"tags\":[\"ANNOTATED\"],\"createdAt\":\"2020-05-11T13:18:54.247Z\",\"updatedAt\":\"2020-05-11T13:18:54.247Z\"},{\"id\":\"6887975a-8d37-4a7c-9ae7-134967d5916b\",\"url\":\"https://imgur.dcard.tw/620au5n.png\",\"normalizedUrl\":\"\",\"thumbnail\":\"https://imgur.dcard.tw/620au5n.png\",\"type\":\"image/png\",\"tags\":[\"ANNOTATED_FAILED\"],\"createdAt\":\"2020-05-11T13:18:54.247Z\",\"updatedAt\":\"2020-05-11T13:18:54.247Z\"},{\"id\":\"e2c65b96-fc2f-422e-8d54-fb5a4fc18ee1\",\"url\":\"https://imgur.dcard.tw/DuE1xRc.png\",\"normalizedUrl\":\"\",\"thumbnail\":\"https://imgur.dcard.tw/DuE1xRc.png\",\"type\":\"image/png\",\"tags\":[\"ANNOTATED\"],\"createdAt\":\"2020-05-11T13:18:54.247Z\",\"updatedAt\":\"2020-05-11T13:18:54.247Z\"},{\"id\":\"e7ab6c70-b7dd-4a86-8be4-7519d68e636e\",\"url\":\"https://imgur.dcard.tw/mfeDPQS.png\",\"normalizedUrl\":\"\",\"thumbnail\":\"https://imgur.dcard.tw/mfeDPQS.png\",\"type\":\"image/png\",\"tags\":[\"ANNOTATED\"],\"createdAt\":\"2020-05-11T13:18:54.247Z\",\"updatedAt\":\"2020-05-11T13:18:54.247Z\"},{\"id\":\"a2c7ba14-27d4-4474-9dad-dd217c5a2557\",\"url\":\"https://imgur.dcard.tw/p52QWEE.png\",\"normalizedUrl\":\"\",\"thumbnail\":\"https://imgur.dcard.tw/p52QWEE.png\",\"type\":\"image/png\",\"tags\":[\"ANNOTATED_FAILED\"],\"createdAt\":\"2020-05-11T13:18:54.247Z\",\"updatedAt\":\"2020-05-11T13:18:54.247Z\"},{\"id\":\"9b2059ea-4773-4955-907b-27fabdfced62\",\"url\":\"https://imgur.dcard.tw/4JS0tv1.png\",\"normalizedUrl\":\"\",\"thumbnail\":\"https://imgur.dcard.tw/4JS0tv1.png\",\"type\":\"image/png\",\"tags\":[\"ANNOTATED\"],\"createdAt\":\"2020-05-11T13:18:54.247Z\",\"updatedAt\":\"2020-05-11T13:18:54.247Z\"},{\"id\":\"bfe74bbd-ff84-4c64-8775-a93f7102aec6\",\"url\":\"https://imgur.dcard.tw/PYbVfcX.png\",\"normalizedUrl\":\"\",\"thumbnail\":\"https://imgur.dcard.tw/PYbVfcX.png\",\"type\":\"image/png\",\"tags\":[\"ANNOTATED\"],\"createdAt\":\"2020-05-11T13:18:54.247Z\",\"updatedAt\":\"2020-05-11T13:18:54.247Z\"},{\"id\":\"bdf16bea-69c9-48ce-aa7e-a1630a0a834d\",\"url\":\"https://imgur.dcard.tw/rPxrsIH.png\",\"normalizedUrl\":\"\",\"thumbnail\":\"https://imgur.dcard.tw/rPxrsIH.png\",\"type\":\"image/png\",\"tags\":[\"ANNOTATED\"],\"createdAt\":\"2020-05-11T13:18:54.247Z\",\"updatedAt\":\"2020-05-11T13:18:54.247Z\"},{\"id\":\"abc03732-72bc-41d5-b22e-0c8237c696cf\",\"url\":\"https://imgur.dcard.tw/omhMK7g.png\",\"normalizedUrl\":\"\",\"thumbnail\":\"https://imgur.dcard.tw/omhMK7g.png\",\"type\":\"image/png\",\"tags\":[\"ANNOTATED\"],\"createdAt\":\"2020-05-11T13:18:54.247Z\",\"updatedAt\":\"2020-05-11T13:18:54.247Z\"}],\"reactions\":[{\"id\":\"286f599c-f86a-4932-82f0-f5a06f1eca03\",\"count\":27}],\"hidden\":false,\"customStyle\":null,\"isSuspiciousAccount\":false,\"layout\":\"classic\",\"withImages\":true,\"withVideos\":false,\"media\":[{\"url\":\"http://i.imgur.com/QjPTdO1.png\"},{\"url\":\"http://i.imgur.com/620au5n.png\"},{\"url\":\"http://i.imgur.com/DuE1xRc.png\"},{\"url\":\"http://i.imgur.com/mfeDPQS.png\"},{\"url\":\"http://i.imgur.com/p52QWEE.png\"},{\"url\":\"http://i.imgur.com/4JS0tv1.png\"},{\"url\":\"http://i.imgur.com/PYbVfcX.png\"},{\"url\":\"http://i.imgur.com/rPxrsIH.png\"},{\"url\":\"http://i.imgur.com/omhMK7g.png\"}],\"reportReasonText\":\"\",\"postAvatar\":\"\"},{\"id\":233657333,\"title\":\"到工作場所前焦慮 到後又變不會\",\"excerpt\":\"我覺得我很奇怪，最近我在做約聘的工作，剛進入這個環境，我上班前我會變得焦慮 心臟會跳很快，也不怎麼有食慾 會稍微反胃，但到了上班場所後 又變得平靜 感覺好像還好了，雖然也不是到放鬆 但焦慮情況感覺比較\",\"anonymousSchool\":true,\"anonymousDepartment\":true,\"pinned\":false,\"forumId\":\"6eeeafb2-9dac-4d81-ae4b-ffecf0ad4444\",\"replyId\":null,\"createdAt\":\"2020-05-11T23:56:41.119Z\",\"updatedAt\":\"2020-05-11T23:56:41.119Z\",\"commentCount\":8,\"likeCount\":24,\"withNickname\":false,\"tags\":[\"HIDE_THUMBNAIL\"],\"topics\":[\"焦慮\",\"工作\"],\"meta\":{\"layout\":\"classic\"},\"forumName\":\"工作\",\"forumAlias\":\"job\",\"nsfw\":false,\"gender\":\"F\",\"replyTitle\":null,\"mediaMeta\":[],\"reactions\":[{\"id\":\"286f599c-f86a-4932-82f0-f5a06f1eca03\",\"count\":24}],\"hidden\":false,\"customStyle\":null,\"isSuspiciousAccount\":false,\"layout\":\"classic\",\"withImages\":false,\"withVideos\":false,\"media\":[],\"reportReasonText\":\"\",\"postAvatar\":\"\"},{\"id\":233657366,\"title\":\"新人尷尬期\",\"excerpt\":\"很好奇大家都怎麼度過新人尷尬期的，想融入其他人或是在主管面前留下好印象，這階段真的超敏感，今天是新公司報到第一天，上半天是HR教育訓練，結束後就被帶回各部門，看各部門怎麼交接工作。每個新進員工都會配一\",\"anonymousSchool\":true,\"anonymousDepartment\":true,\"pinned\":false,\"forumId\":\"6eeeafb2-9dac-4d81-ae4b-ffecf0ad4444\",\"replyId\":null,\"createdAt\":\"2020-05-12T00:11:59.724Z\",\"updatedAt\":\"2020-05-12T00:11:59.724Z\",\"commentCount\":6,\"likeCount\":20,\"withNickname\":false,\"tags\":[\"HIDE_THUMBNAIL\"],\"topics\":[\"工作\",\"尷尬\",\"工作經驗\",\"同事\",\"工作態度\"],\"meta\":{\"layout\":\"classic\"},\"forumName\":\"工作\",\"forumAlias\":\"job\",\"nsfw\":false,\"gender\":\"F\",\"replyTitle\":null,\"mediaMeta\":[],\"reactions\":[{\"id\":\"286f599c-f86a-4932-82f0-f5a06f1eca03\",\"count\":20}],\"hidden\":false,\"customStyle\":null,\"isSuspiciousAccount\":false,\"layout\":\"classic\",\"withImages\":false,\"withVideos\":false,\"media\":[],\"reportReasonText\":\"\",\"postAvatar\":\"\"},{\"id\":233654047,\"title\":\"有駕照就不會遲到的狗屁概念\",\"excerpt\":\"前一份工作是全職的行政櫃檯，全內勤不需出差也不能外出，面試時老闆娘問我真的沒有駕照嗎？（她在104找到我請我來面試，上面我沒有勾有駕照因為還沒考），我說沒有我搭公車上下班，她說：蛤？！好吧那沒關係，搭\",\"anonymousSchool\":false,\"anonymousDepartment\":true,\"pinned\":false,\"forumId\":\"6eeeafb2-9dac-4d81-ae4b-ffecf0ad4444\",\"replyId\":null,\"createdAt\":\"2020-05-11T11:20:15.996Z\",\"updatedAt\":\"2020-05-11T11:20:15.996Z\",\"commentCount\":6,\"likeCount\":19,\"withNickname\":true,\"tags\":[],\"topics\":[\"工作\",\"求職\",\"面試經驗\"],\"meta\":{\"layout\":\"classic\"},\"forumName\":\"工作\",\"forumAlias\":\"job\",\"nsfw\":false,\"gender\":\"F\",\"school\":\"            \",\"department\":\"cyybbky\",\"replyTitle\":null,\"mediaMeta\":[],\"reactions\":[{\"id\":\"286f599c-f86a-4932-82f0-f5a06f1eca03\",\"count\":18},{\"id\":\"e8e6bc5d-41b0-4129-b134-97507523d7ff\",\"count\":1}],\"hidden\":false,\"customStyle\":null,\"isSuspiciousAccount\":false,\"layout\":\"classic\",\"withImages\":false,\"withVideos\":false,\"media\":[],\"reportReasonText\":\"\",\"postAvatar\":\"\"},{\"id\":233651715,\"title\":\"分享一下在104應徵後的雇主已讀率\",\"excerpt\":\"現在剛畢業在找工作，從3月開始投履歷到現在也投了60家左右，投遞的都是職缺更新日期近的，不是萬年職缺那種，但目前已讀率大概50%左右，也只有30家會讀，疫情前，一兩年前找實習打工的時候，也是找職缺更新\",\"anonymousSchool\":true,\"anonymousDepartment\":true,\"pinned\":false,\"forumId\":\"6eeeafb2-9dac-4d81-ae4b-ffecf0ad4444\",\"replyId\":null,\"createdAt\":\"2020-05-11T04:41:23.619Z\",\"updatedAt\":\"2020-05-11T04:41:23.619Z\",\"commentCount\":7,\"likeCount\":15,\"withNickname\":false,\"tags\":[],\"topics\":[\"工作\",\"工作經驗\",\"求職\",\"面試\",\"打工\"],\"meta\":{\"layout\":\"classic\"},\"forumName\":\"工作\",\"forumAlias\":\"job\",\"nsfw\":false,\"gender\":\"M\",\"replyTitle\":null,\"mediaMeta\":[],\"reactions\":[{\"id\":\"286f599c-f86a-4932-82f0-f5a06f1eca03\",\"count\":15}],\"hidden\":false,\"customStyle\":null,\"isSuspiciousAccount\":false,\"layout\":\"classic\",\"withImages\":false,\"withVideos\":false,\"media\":[],\"reportReasonText\":\"\",\"postAvatar\":\"\"},{\"id\":233658937,\"title\":\"大學畢業後待業一年多，對應徵銀行櫃員的影響？\",\"excerpt\":\"我是去年的應屆畢業生，因為是轉學生所以延畢一個學期，今年一月畢業後，我開始準備年底的國營職員聯招，我想說如果今年不幸落榜就去銀行當櫃員，但是聯招也要等到明年3、4月才會放榜，所以我想請問這樣待業一年多\",\"anonymousSchool\":true,\"anonymousDepartment\":true,\"pinned\":false,\"forumId\":\"6eeeafb2-9dac-4d81-ae4b-ffecf0ad4444\",\"replyId\":null,\"createdAt\":\"2020-05-12T06:16:08.725Z\",\"updatedAt\":\"2020-05-12T06:16:51.061Z\",\"commentCount\":9,\"likeCount\":14,\"withNickname\":false,\"tags\":[\"HIDE_THUMBNAIL\"],\"topics\":[\"銀行\",\"求職\",\"待業\",\"面試\"],\"meta\":{\"layout\":\"classic\"},\"forumName\":\"工作\",\"forumAlias\":\"job\",\"nsfw\":false,\"gender\":\"F\",\"replyTitle\":null,\"mediaMeta\":[],\"reactions\":[{\"id\":\"286f599c-f86a-4932-82f0-f5a06f1eca03\",\"count\":14}],\"hidden\":false,\"customStyle\":null,\"isSuspiciousAccount\":false,\"layout\":\"classic\",\"withImages\":false,\"withVideos\":false,\"media\":[],\"reportReasonText\":\"\",\"postAvatar\":\"\"},{\"id\":233658376,\"title\":\"注意一間自稱中國信託擴大徵才的詐騙\",\"excerpt\":\"小弟我最近在找工作 於是有刊登在104人力銀行 並設定拒絕保險業，這間公司疑似會用其他企業（非保險業）名義得到你的資訊，打電話來「您好，我們中國信託在中部擴大徵才，有三種職缺，儲備幹部，行銷經理等等，\",\"anonymousSchool\":true,\"anonymousDepartment\":true,\"pinned\":false,\"forumId\":\"6eeeafb2-9dac-4d81-ae4b-ffecf0ad4444\",\"replyId\":null,\"createdAt\":\"2020-05-12T04:30:29.476Z\",\"updatedAt\":\"2020-05-12T04:32:00.946Z\",\"commentCount\":2,\"likeCount\":13,\"withNickname\":false,\"tags\":[\"HIDE_THUMBNAIL\"],\"topics\":[\"中國\",\"詐騙\",\"面試\",\"信託\",\"面試經驗\"],\"meta\":{\"layout\":\"classic\"},\"forumName\":\"工作\",\"forumAlias\":\"job\",\"nsfw\":false,\"gender\":\"M\",\"replyTitle\":null,\"mediaMeta\":[],\"reactions\":[{\"id\":\"286f599c-f86a-4932-82f0-f5a06f1eca03\",\"count\":10},{\"id\":\"4b018f48-e184-445f-adf1-fc8e04ba09b9\",\"count\":2},{\"id\":\"aa0d425f-d530-4478-9a77-fe3aedc79eea\",\"count\":1}],\"hidden\":false,\"customStyle\":null,\"isSuspiciousAccount\":false,\"layout\":\"classic\",\"withImages\":false,\"withVideos\":false,\"media\":[],\"reportReasonText\":\"\",\"postAvatar\":\"\"},{\"id\":233657542,\"title\":\"要離職了被上司問想要什麼禮物\",\"excerpt\":\"今年畢業的我，要離開做滿三年的工讀生，今天被問想要什麼離職禮物，菜鳥的我不知道阿，可以包紅包嗎還是有紀念價值的比較好（金幣？），可以跟我分享大家的看法嗎><\",\"anonymousSchool\":true,\"anonymousDepartment\":true,\"pinned\":false,\"forumId\":\"6eeeafb2-9dac-4d81-ae4b-ffecf0ad4444\",\"replyId\":null,\"createdAt\":\"2020-05-12T01:24:58.172Z\",\"updatedAt\":\"2020-05-12T01:24:58.172Z\",\"commentCount\":5,\"likeCount\":11,\"withNickname\":false,\"tags\":[],\"topics\":[\"禮物\",\"離職\"],\"meta\":{\"layout\":\"classic\"},\"forumName\":\"工作\",\"forumAlias\":\"job\",\"nsfw\":false,\"gender\":\"F\",\"replyTitle\":null,\"mediaMeta\":[],\"reactions\":[{\"id\":\"286f599c-f86a-4932-82f0-f5a06f1eca03\",\"count\":11}],\"hidden\":false,\"customStyle\":null,\"isSuspiciousAccount\":false,\"layout\":\"classic\",\"withImages\":false,\"withVideos\":false,\"media\":[],\"reportReasonText\":\"\",\"postAvatar\":\"\"},{\"id\":233655248,\"title\":\"為什麼頭腦不好又沒目標的窮人還要上大學？\",\"excerpt\":\"畢業季快到了，每逢畢業季都有很奇怪的現象，有些剛畢業的新鮮人，做的不是自己的本科系的工作，問他為什麼不朝自己本科發展，他說沒興趣......那你當初唸幾個意思的？不然還有一個比較慘的情況就是想找本科，\",\"anonymousSchool\":true,\"anonymousDepartment\":true,\"pinned\":false,\"forumId\":\"6eeeafb2-9dac-4d81-ae4b-ffecf0ad4444\",\"replyId\":null,\"createdAt\":\"2020-05-11T14:16:42.089Z\",\"updatedAt\":\"2020-05-11T14:16:42.089Z\",\"commentCount\":19,\"likeCount\":11,\"withNickname\":false,\"tags\":[],\"topics\":[\"工作\",\"工作態度\"],\"meta\":{\"layout\":\"classic\"},\"forumName\":\"工作\",\"forumAlias\":\"job\",\"nsfw\":false,\"gender\":\"M\",\"replyTitle\":null,\"mediaMeta\":[],\"reactions\":[{\"id\":\"286f599c-f86a-4932-82f0-f5a06f1eca03\",\"count\":11}],\"hidden\":false,\"customStyle\":null,\"isSuspiciousAccount\":false,\"layout\":\"classic\",\"withImages\":false,\"withVideos\":false,\"media\":[],\"reportReasonText\":\"\",\"postAvatar\":\"\"},{\"id\":233652181,\"title\":\"#請益 商科未來發展方向求指教\",\"excerpt\":\"已爬了許多文，但對未來方向還是相當迷茫，希望版上的高手有什麼建議都可以提供給我，我都會虛心接受 還請各位多多指教~，我目前就讀的是國立四大的類企管所碩一（名稱非企管但相同性質，因為不想被認出），大學也\",\"anonymousSchool\":true,\"anonymousDepartment\":true,\"pinned\":false,\"forumId\":\"6eeeafb2-9dac-4d81-ae4b-ffecf0ad4444\",\"replyId\":null,\"createdAt\":\"2020-05-11T06:04:59.192Z\",\"updatedAt\":\"2020-05-11T06:04:59.192Z\",\"commentCount\":5,\"likeCount\":11,\"withNickname\":false,\"tags\":[],\"topics\":[\"工作\",\"未來\"],\"meta\":{\"layout\":\"classic\"},\"forumName\":\"工作\",\"forumAlias\":\"job\",\"nsfw\":false,\"gender\":\"F\",\"replyTitle\":null,\"mediaMeta\":[],\"reactions\":[{\"id\":\"286f599c-f86a-4932-82f0-f5a06f1eca03\",\"count\":11}],\"hidden\":false,\"customStyle\":null,\"isSuspiciousAccount\":false,\"layout\":\"classic\",\"withImages\":false,\"withVideos\":false,\"media\":[],\"reportReasonText\":\"\",\"postAvatar\":\"\"},{\"id\":233651280,\"title\":\"無可避免的靜脈曲張\",\"excerpt\":\"畢業後工作至今未滿2年，我就已經出現第一期靜脈曲張的情況，雖然在上班時間我已經盡可能找空檔坐下了，但是忙碌的時候還是必須離開椅子，看著皮膚上日益明顯的血管絲，每天上班的心情就更加糟糕，就連在無所事事的\",\"anonymousSchool\":true,\"anonymousDepartment\":true,\"pinned\":false,\"forumId\":\"6eeeafb2-9dac-4d81-ae4b-ffecf0ad4444\",\"replyId\":null,\"createdAt\":\"2020-05-11T03:24:23.366Z\",\"updatedAt\":\"2020-05-11T03:24:23.366Z\",\"commentCount\":9,\"likeCount\":10,\"withNickname\":false,\"tags\":[],\"topics\":[\"工作\",\"工作經驗\",\"職業傷害\"],\"meta\":{\"layout\":\"classic\"},\"forumName\":\"工作\",\"forumAlias\":\"job\",\"nsfw\":false,\"gender\":\"F\",\"replyTitle\":null,\"mediaMeta\":[],\"reactions\":[{\"id\":\"286f599c-f86a-4932-82f0-f5a06f1eca03\",\"count\":9},{\"id\":\"e8e6bc5d-41b0-4129-b134-97507523d7ff\",\"count\":1}],\"hidden\":false,\"customStyle\":null,\"isSuspiciousAccount\":false,\"layout\":\"classic\",\"withImages\":false,\"withVideos\":false,\"media\":[],\"reportReasonText\":\"\",\"postAvatar\":\"\"},{\"id\":233658887,\"title\":\"非自願離職的資遣費問題\",\"excerpt\":\"唉 老闆用經營不順裁員工，我五月底就沒工作了，但我問會計關於資遣費問題，會計卻說「這部分老闆沒提到」我：？？？於是我上網看一下規定，「如果雇主是因為員工表現不佳而開除，就必須要遵守勞基法，給付資遣費（\",\"anonymousSchool\":true,\"anonymousDepartment\":true,\"pinned\":false,\"forumId\":\"6eeeafb2-9dac-4d81-ae4b-ffecf0ad4444\",\"replyId\":null,\"createdAt\":\"2020-05-12T06:05:48.151Z\",\"updatedAt\":\"2020-05-12T06:06:27.396Z\",\"commentCount\":7,\"likeCount\":9,\"withNickname\":false,\"tags\":[\"HIDE_THUMBNAIL\"],\"topics\":[\"工作\",\"資遣\"],\"meta\":{\"layout\":\"classic\"},\"forumName\":\"工作\",\"forumAlias\":\"job\",\"nsfw\":false,\"gender\":\"F\",\"replyTitle\":null,\"mediaMeta\":[],\"reactions\":[{\"id\":\"286f599c-f86a-4932-82f0-f5a06f1eca03\",\"count\":9}],\"hidden\":false,\"customStyle\":null,\"isSuspiciousAccount\":false,\"layout\":\"classic\",\"withImages\":false,\"withVideos\":false,\"media\":[],\"reportReasonText\":\"\",\"postAvatar\":\"\"},{\"id\":233656642,\"title\":\"(求解！)我寶貴的那些時間阿😭\",\"excerpt\":\"潛水四年沒想到首po就獻給工作版了，結果居然是因為快被氣哭才來（；´༎ຶД༎ຶ`），（如有錯版煩請告知），事情是這樣的，身為今年應屆畢業生苦哈哈的求職者（哈不出來了..），在今年2月get一份豪宅行政\",\"anonymousSchool\":true,\"anonymousDepartment\":true,\"pinned\":false,\"forumId\":\"6eeeafb2-9dac-4d81-ae4b-ffecf0ad4444\",\"replyId\":null,\"createdAt\":\"2020-05-11T17:28:00.037Z\",\"updatedAt\":\"2020-05-11T17:42:04.223Z\",\"commentCount\":6,\"likeCount\":9,\"withNickname\":false,\"tags\":[\"HIDE_THUMBNAIL\"],\"topics\":[\"面試經驗\",\"應屆畢業生\",\"勞工權益\"],\"meta\":{\"layout\":\"classic\"},\"forumName\":\"工作\",\"forumAlias\":\"job\",\"nsfw\":false,\"gender\":\"F\",\"replyTitle\":null,\"mediaMeta\":[],\"reactions\":[{\"id\":\"286f599c-f86a-4932-82f0-f5a06f1eca03\",\"count\":9}],\"hidden\":false,\"customStyle\":null,\"isSuspiciousAccount\":false,\"layout\":\"classic\",\"withImages\":false,\"withVideos\":false,\"media\":[],\"reportReasonText\":\"\",\"postAvatar\":\"\"},{\"id\":233655005,\"title\":\"試用期不知道能不能過\",\"excerpt\":\"我是去年畢業的學生 之前第一份工作試用期沒過被資譴，後來重新振作 現在在外商公司上班 下個月月初就是試用期到期日了 今天主管跟我約談 有跟我說我有小多問題需要去改 他給我調整的方向也有點出我的問題 他\",\"anonymousSchool\":false,\"anonymousDepartment\":true,\"pinned\":false,\"forumId\":\"6eeeafb2-9dac-4d81-ae4b-ffecf0ad4444\",\"replyId\":null,\"createdAt\":\"2020-05-11T13:42:36.841Z\",\"updatedAt\":\"2020-05-11T13:43:01.802Z\",\"commentCount\":2,\"likeCount\":9,\"withNickname\":false,\"tags\":[],\"topics\":[\"工作\",\"工作經驗\",\"試用期\"],\"meta\":{\"layout\":\"classic\"},\"forumName\":\"工作\",\"forumAlias\":\"job\",\"nsfw\":false,\"gender\":\"F\",\"school\":\"輔仁大學\",\"replyTitle\":null,\"mediaMeta\":[],\"reactions\":[{\"id\":\"286f599c-f86a-4932-82f0-f5a06f1eca03\",\"count\":9}],\"hidden\":false,\"customStyle\":null,\"isSuspiciousAccount\":false,\"layout\":\"classic\",\"withImages\":false,\"withVideos\":false,\"media\":[],\"reportReasonText\":\"\",\"postAvatar\":\"\"},{\"id\":233651553,\"title\":\"蝦皮暑期實習\",\"excerpt\":\"大家安，看到之前的文章有大大前幾天收到面試通知了，表定是今天會開始安排面試，想問不曉得有沒有其他大大也收到面試通知了，我還沒收到 豪緊張，我是投operation的 有拍影片\",\"anonymousSchool\":true,\"anonymousDepartment\":true,\"pinned\":false,\"forumId\":\"6eeeafb2-9dac-4d81-ae4b-ffecf0ad4444\",\"replyId\":null,\"createdAt\":\"2020-05-11T04:09:59.585Z\",\"updatedAt\":\"2020-05-11T04:09:59.585Z\",\"commentCount\":78,\"likeCount\":8,\"withNickname\":false,\"tags\":[\"HIDE_THUMBNAIL\"],\"topics\":[\"蝦皮\"],\"meta\":{\"layout\":\"classic\"},\"forumName\":\"工作\",\"forumAlias\":\"job\",\"nsfw\":false,\"gender\":\"F\",\"replyTitle\":null,\"mediaMeta\":[],\"reactions\":[{\"id\":\"286f599c-f86a-4932-82f0-f5a06f1eca03\",\"count\":8}],\"hidden\":false,\"customStyle\":null,\"isSuspiciousAccount\":false,\"layout\":\"classic\",\"withImages\":false,\"withVideos\":false,\"media\":[],\"reportReasonText\":\"\",\"postAvatar\":\"\"},{\"id\":233661045,\"title\":\"工作選擇\",\"excerpt\":\"目前有兩份工作都拿到錄取通知了，可是真的很苦惱想問問大家的意見，1.工作職稱：業務助理，工作內容：出口貿易、寄送樣品，待遇：28000，上班時間：8：30-17：30，休假：週休二日、見紅就休，產業：\",\"anonymousSchool\":true,\"anonymousDepartment\":true,\"pinned\":false,\"forumId\":\"6eeeafb2-9dac-4d81-ae4b-ffecf0ad4444\",\"replyId\":null,\"createdAt\":\"2020-05-12T12:22:26.599Z\",\"updatedAt\":\"2020-05-12T12:22:26.599Z\",\"commentCount\":12,\"likeCount\":7,\"withNickname\":false,\"tags\":[\"HIDE_THUMBNAIL\"],\"topics\":[\"求職\"],\"meta\":{\"layout\":\"classic\"},\"forumName\":\"工作\",\"forumAlias\":\"job\",\"nsfw\":false,\"gender\":\"F\",\"replyTitle\":null,\"mediaMeta\":[],\"reactions\":[{\"id\":\"286f599c-f86a-4932-82f0-f5a06f1eca03\",\"count\":7}],\"hidden\":false,\"customStyle\":null,\"isSuspiciousAccount\":false,\"layout\":\"classic\",\"withImages\":false,\"withVideos\":false,\"media\":[],\"reportReasonText\":\"\",\"postAvatar\":\"\"},{\"id\":233656803,\"title\":\"寧缺勿濫？\",\"excerpt\":\"想請問大家，如果已經待業了一個多月，但最近只有錄取一份工作，而這份工作的內容跟薪資也很普通，但因為最近工作不太好找，大家會將就著去做嗎？還是會再繼續找工作？\",\"anonymousSchool\":true,\"anonymousDepartment\":true,\"pinned\":false,\"forumId\":\"6eeeafb2-9dac-4d81-ae4b-ffecf0ad4444\",\"replyId\":null,\"createdAt\":\"2020-05-11T17:59:30.768Z\",\"updatedAt\":\"2020-05-11T17:59:30.768Z\",\"commentCount\":6,\"likeCount\":7,\"withNickname\":false,\"tags\":[\"HIDE_THUMBNAIL\"],\"topics\":[\"工作\"],\"meta\":{\"layout\":\"classic\"},\"forumName\":\"工作\",\"forumAlias\":\"job\",\"nsfw\":false,\"gender\":\"F\",\"replyTitle\":null,\"mediaMeta\":[],\"reactions\":[{\"id\":\"286f599c-f86a-4932-82f0-f5a06f1eca03\",\"count\":7}],\"hidden\":false,\"customStyle\":null,\"isSuspiciousAccount\":false,\"layout\":\"classic\",\"withImages\":false,\"withVideos\":false,\"media\":[],\"reportReasonText\":\"\",\"postAvatar\":\"\"},{\"id\":233655101,\"title\":\"服飾業最近都沒有缺嗎😭\",\"excerpt\":\"等了好一陣子的服飾品牌開缺，看GU一直掛在人力銀行上面，投履歷也完全沒消息，打去總公司詢問卻說沒缺人，我就很納悶 這樣我要怎麼知道，你們到底什麼時候才有缺，這波疫情讓想進服飾的道路變得更狹窄了，好想進\",\"anonymousSchool\":true,\"anonymousDepartment\":true,\"pinned\":false,\"forumId\":\"6eeeafb2-9dac-4d81-ae4b-ffecf0ad4444\",\"replyId\":null,\"createdAt\":\"2020-05-11T13:55:08.783Z\",\"updatedAt\":\"2020-05-11T13:55:08.783Z\",\"commentCount\":2,\"likeCount\":7,\"withNickname\":false,\"tags\":[\"HIDE_THUMBNAIL\"],\"topics\":[\"服飾\",\"工作\",\"求職\",\"徵才\"],\"meta\":{\"layout\":\"classic\"},\"forumName\":\"工作\",\"forumAlias\":\"job\",\"nsfw\":false,\"gender\":\"F\",\"replyTitle\":null,\"mediaMeta\":[],\"reactions\":[{\"id\":\"286f599c-f86a-4932-82f0-f5a06f1eca03\",\"count\":7}],\"hidden\":false,\"customStyle\":null,\"isSuspiciousAccount\":false,\"layout\":\"classic\",\"withImages\":false,\"withVideos\":false,\"media\":[],\"reportReasonText\":\"\",\"postAvatar\":\"\"},{\"id\":233653799,\"title\":\"國泰CIP\",\"excerpt\":\"國泰CIP暑期實習適性測驗做完了，有人接到電話了嗎？\",\"anonymousSchool\":false,\"anonymousDepartment\":true,\"pinned\":false,\"forumId\":\"6eeeafb2-9dac-4d81-ae4b-ffecf0ad4444\",\"replyId\":null,\"createdAt\":\"2020-05-11T10:38:37.151Z\",\"updatedAt\":\"2020-05-11T10:38:37.151Z\",\"commentCount\":29,\"likeCount\":7,\"withNickname\":false,\"tags\":[\"HIDE_THUMBNAIL\"],\"topics\":[\"國泰\",\"實習\"],\"meta\":{\"layout\":\"classic\"},\"forumName\":\"工作\",\"forumAlias\":\"job\",\"nsfw\":false,\"gender\":\"M\",\"school\":\"國立政治大學\",\"replyTitle\":null,\"mediaMeta\":[],\"reactions\":[{\"id\":\"286f599c-f86a-4932-82f0-f5a06f1eca03\",\"count\":7}],\"hidden\":false,\"customStyle\":null,\"isSuspiciousAccount\":false,\"layout\":\"classic\",\"withImages\":false,\"withVideos\":false,\"media\":[],\"reportReasonText\":\"\",\"postAvatar\":\"\"},{\"id\":233661836,\"title\":\"新鮮人第一份工作的薪資調查\",\"excerpt\":\"先前那棟已經蓋了四千多樓，有興趣的可以點上面連結，我比較好奇每個人第一份工作的薪資，以及薪資逐年成長的幅度，到底能不能跟的上物價以及房價…，================ 本人範例 ========\",\"anonymousSchool\":true,\"anonymousDepartment\":true,\"pinned\":false,\"forumId\":\"6eeeafb2-9dac-4d81-ae4b-ffecf0ad4444\",\"replyId\":233516619,\"createdAt\":\"2020-05-12T14:19:40.595Z\",\"updatedAt\":\"2020-05-12T14:19:40.595Z\",\"commentCount\":1,\"likeCount\":6,\"withNickname\":false,\"tags\":[],\"topics\":[\"月薪\",\"薪資\",\"工作\",\"求職\",\"新鮮人\"],\"meta\":{\"layout\":\"classic\"},\"forumName\":\"工作\",\"forumAlias\":\"job\",\"nsfw\":false,\"gender\":\"M\",\"replyTitle\":\"#薪資交流 大家的待遇多少呢？\",\"mediaMeta\":[],\"reactions\":[{\"id\":\"286f599c-f86a-4932-82f0-f5a06f1eca03\",\"count\":6}],\"hidden\":false,\"customStyle\":null,\"isSuspiciousAccount\":false,\"layout\":\"classic\",\"withImages\":false,\"withVideos\":false,\"media\":[],\"reportReasonText\":\"\",\"postAvatar\":\"\"},{\"id\":233661758,\"title\":\"老闆問我公司需不需要補助學英文\",\"excerpt\":\"不知道大家有沒有以下的經驗，當一個人突然對你很好，反而會覺得很緊張，對方是不是有計謀，或是他其實有其他想法之類等等等，某天下午，我跟幾個同事被老闆叫到辦公室，原本以為又做錯什麼，準備要被訓話，然而沒想\",\"anonymousSchool\":true,\"anonymousDepartment\":true,\"pinned\":false,\"forumId\":\"6eeeafb2-9dac-4d81-ae4b-ffecf0ad4444\",\"replyId\":null,\"createdAt\":\"2020-05-12T14:08:51.625Z\",\"updatedAt\":\"2020-05-12T14:08:51.625Z\",\"commentCount\":2,\"likeCount\":6,\"withNickname\":false,\"tags\":[],\"topics\":[\"老闆\",\"補助\",\"英文\",\"工作經驗\"],\"meta\":{\"layout\":\"classic\"},\"forumName\":\"工作\",\"forumAlias\":\"job\",\"nsfw\":false,\"gender\":\"F\",\"replyTitle\":null,\"mediaMeta\":[{\"id\":\"c6263d85-3098-4d7b-89c6-8df43bd00838\",\"url\":\"https://megapx-assets.dcard.tw/images/40413769-e44e-4933-a852-cb8fcc49e0ac/160.jpeg\",\"normalizedUrl\":\"https://megapx-assets.dcard.tw/images/40413769-e44e-4933-a852-cb8fcc49e0ac/160.jpeg\",\"thumbnail\":\"https://megapx-assets.dcard.tw/images/40413769-e44e-4933-a852-cb8fcc49e0ac/160.jpeg\",\"type\":\"image/thumbnail\",\"tags\":[\"ANNOTATED\"],\"createdAt\":\"2020-05-12T14:08:51.625Z\",\"updatedAt\":\"2020-05-12T14:08:51.625Z\",\"width\":160,\"height\":91},{\"id\":\"c6263d85-3098-4d7b-89c6-8df43bd00838\",\"url\":\"https://megapx-assets.dcard.tw/images/40413769-e44e-4933-a852-cb8fcc49e0ac/full.jpeg\",\"normalizedUrl\":\"https://megapx.dcard.tw/v1/images/40413769-e44e-4933-a852-cb8fcc49e0ac\",\"thumbnail\":\"https://megapx-assets.dcard.tw/images/40413769-e44e-4933-a852-cb8fcc49e0ac/160.jpeg\",\"type\":\"image/megapx\",\"tags\":[\"ANNOTATED\"],\"createdAt\":\"2020-05-12T14:08:51.625Z\",\"updatedAt\":\"2020-05-12T14:08:51.625Z\",\"width\":558,\"height\":318}],\"reactions\":[{\"id\":\"286f599c-f86a-4932-82f0-f5a06f1eca03\",\"count\":6}],\"hidden\":false,\"customStyle\":null,\"isSuspiciousAccount\":false,\"layout\":\"classic\",\"withImages\":true,\"withVideos\":false,\"media\":[{\"url\":\"https://megapx-assets.dcard.tw/images/40413769-e44e-4933-a852-cb8fcc49e0ac/full.jpeg\"}],\"reportReasonText\":\"\",\"postAvatar\":\"\"},{\"id\":233660019,\"title\":\"公司邀請面試只寄信而沒打電話\",\"excerpt\":\"最近在人力銀行上投遞履歷，陸續有收到一些面試邀約，但有間公司只寄出104通知信而沒打電話聯絡，且通知信上只請我在上班時間前去面談，這種作法直覺上我會認為這是流動率高的工作，以至於求才單位才沒多花心思在\",\"anonymousSchool\":true,\"anonymousDepartment\":true,\"pinned\":false,\"forumId\":\"6eeeafb2-9dac-4d81-ae4b-ffecf0ad4444\",\"replyId\":null,\"createdAt\":\"2020-05-12T09:27:56.361Z\",\"updatedAt\":\"2020-05-12T09:27:56.361Z\",\"commentCount\":9,\"likeCount\":6,\"withNickname\":false,\"tags\":[],\"topics\":[\"面試\",\"工作\",\"求職\"],\"meta\":{\"layout\":\"classic\"},\"forumName\":\"工作\",\"forumAlias\":\"job\",\"nsfw\":false,\"gender\":\"F\",\"replyTitle\":null,\"mediaMeta\":[],\"reactions\":[{\"id\":\"286f599c-f86a-4932-82f0-f5a06f1eca03\",\"count\":6}],\"hidden\":false,\"customStyle\":null,\"isSuspiciousAccount\":false,\"layout\":\"classic\",\"withImages\":false,\"withVideos\":false,\"media\":[],\"reportReasonText\":\"\",\"postAvatar\":\"\"},{\"id\":233659824,\"title\":\"英文教材編輯相關工作該讀研究所嗎？\",\"excerpt\":\"我想請問，想走英文教材編輯，像是空中英語，或是童書編輯，這方面的工作，應該要讀研究所嗎？本人目前已有教學經驗，（補習班、家教、私立小學英文老師），看了很多教材編輯工作的應徵條件，都要5年教學經驗，或是\",\"anonymousSchool\":true,\"anonymousDepartment\":true,\"pinned\":false,\"forumId\":\"6eeeafb2-9dac-4d81-ae4b-ffecf0ad4444\",\"replyId\":null,\"createdAt\":\"2020-05-12T08:56:39.174Z\",\"updatedAt\":\"2020-05-12T13:08:46.895Z\",\"commentCount\":5,\"likeCount\":5,\"withNickname\":false,\"tags\":[\"HIDE_THUMBNAIL\"],\"topics\":[\"研究所\",\"英文\",\"教材\",\"工作\",\"教材編輯\"],\"meta\":{\"layout\":\"classic\"},\"forumName\":\"工作\",\"forumAlias\":\"job\",\"nsfw\":false,\"gender\":\"F\",\"replyTitle\":null,\"mediaMeta\":[],\"reactions\":[{\"id\":\"286f599c-f86a-4932-82f0-f5a06f1eca03\",\"count\":5}],\"hidden\":false,\"customStyle\":null,\"isSuspiciousAccount\":false,\"layout\":\"classic\",\"withImages\":false,\"withVideos\":false,\"media\":[],\"reportReasonText\":\"\",\"postAvatar\":\"\"},{\"id\":233659387,\"title\":\"我想問...104人力銀行\",\"excerpt\":\"有人會在104人力網投履歷重複投同一間公司嗎？因為我3月被通知可以面試，但最後面試沒上，近期又看到同間公司相同職缺，想要再重複投一次可以嗎？但是我曾經已經去面試過了 會不會造成反感？\",\"anonymousSchool\":true,\"anonymousDepartment\":true,\"pinned\":false,\"forumId\":\"6eeeafb2-9dac-4d81-ae4b-ffecf0ad4444\",\"replyId\":null,\"createdAt\":\"2020-05-12T07:35:15.869Z\",\"updatedAt\":\"2020-05-12T07:35:15.869Z\",\"commentCount\":6,\"likeCount\":5,\"withNickname\":false,\"tags\":[\"HIDE_THUMBNAIL\"],\"topics\":[\"工作\",\"求職\"],\"meta\":{\"layout\":\"classic\"},\"forumName\":\"工作\",\"forumAlias\":\"job\",\"nsfw\":false,\"gender\":\"F\",\"replyTitle\":null,\"mediaMeta\":[],\"reactions\":[{\"id\":\"286f599c-f86a-4932-82f0-f5a06f1eca03\",\"count\":4},{\"id\":\"4b018f48-e184-445f-adf1-fc8e04ba09b9\",\"count\":1}],\"hidden\":false,\"customStyle\":null,\"isSuspiciousAccount\":false,\"layout\":\"classic\",\"withImages\":false,\"withVideos\":false,\"media\":[],\"reportReasonText\":\"\",\"postAvatar\":\"\"}]'"
      ]
     },
     "execution_count": 5,
     "metadata": {},
     "output_type": "execute_result"
    }
   ],
   "source": [
    "response"
   ]
  },
  {
   "cell_type": "code",
   "execution_count": 6,
   "metadata": {},
   "outputs": [
    {
     "data": {
      "text/plain": [
       "'['"
      ]
     },
     "execution_count": 6,
     "metadata": {},
     "output_type": "execute_result"
    }
   ],
   "source": [
    "response[0]"
   ]
  },
  {
   "cell_type": "code",
   "execution_count": 7,
   "metadata": {
    "scrolled": true
   },
   "outputs": [
    {
     "data": {
      "text/plain": [
       "str"
      ]
     },
     "execution_count": 7,
     "metadata": {},
     "output_type": "execute_result"
    }
   ],
   "source": [
    "type(response)"
   ]
  },
  {
   "cell_type": "code",
   "execution_count": 8,
   "metadata": {},
   "outputs": [
    {
     "name": "stdout",
     "output_type": "stream",
     "text": [
      "[{'id': 225578807, 'title': '<請先點我> 工作板＆實習、打工職缺刊登說明', 'excerpt': '工作板主要供分享職場工作心得、面試、正職、招考過程分享、各類型工作內容介紹、勞工工作權益與相關法案議題討論相關文章。文章發文後請加上話題，如：經驗分享、職業介紹、勞工權益、徵才等....，「實習職缺/刊登」請點：', 'anonymousSchool': False, 'anonymousDepartment': True, 'pinned': True, 'forumId': '6eeeafb2-9dac-4d81-ae4b-ffecf0ad4444', 'replyId': None, 'createdAt': '2017-01-01T06:27:39.650Z', 'updatedAt': '2020-02-27T02:54:18.710Z', 'commentCount': 39, 'likeCount': 699, 'withNickname': True, 'tags': [], 'topics': ['工作板', 'Dcard公告', '實習職缺', '打工職缺'], 'meta': {}, 'forumName': '工作', 'forumAlias': 'job', 'nsfw': False, 'gender': 'D', 'school': '客服小天使', 'department': 'dcard_support_2', 'replyTitle': None, 'mediaMeta': [], 'reactions': [{'id': '286f599c-f86a-4932-82f0-f5a06f1eca03', 'count': 696}, {'id': 'e8e6bc5d-41b0-4129-b134-97507523d7ff', 'count': 2}, {'id': 'aa0d425f-d530-4478-9a77-fe3aedc79eea', 'count': 1}], 'hidden': False, 'customStyle': None, 'isSuspiciousAccount': False, 'layout': 'classic', 'pinnedType': 'dcard', 'pinnedPriority': 1582772058000, 'withImages': False, 'withVideos': False, 'media': [], 'reportReasonText': '', 'postAvatar': ''}, {'id': 233651655, 'title': '沒有行銷相關經歷，作品集我這樣準備', 'excerpt': '知道最近很多人在準備畢業後的求職履歷，想跟大家分享我當初是如何找到第一份行銷工作的（好啦其實是實習），簡單說明一下我的背景。我大學讀的是經營管理系。那時剛升大三，我應徵了一間臺北的新創公司，職位是「社', 'anonymousSchool': False, 'anonymousDepartment': True, 'pinned': False, 'forumId': '6eeeafb2-9dac-4d81-ae4b-ffecf0ad4444', 'replyId': None, 'createdAt': '2020-05-11T04:29:41.730Z', 'updatedAt': '2020-05-11T04:29:41.730Z', 'commentCount': 9, 'likeCount': 451, 'withNickname': True, 'tags': [], 'topics': ['找工作', '行銷', '面試', '面試經驗', '求職'], 'meta': {'layout': 'classic'}, 'forumName': '工作', 'forumAlias': 'job', 'nsfw': False, 'gender': 'F', 'school': '品牌女子', 'department': 'ananote', 'replyTitle': None, 'mediaMeta': [{'id': '86ec80e4-e491-467c-9167-1c7b9d208b9a', 'url': 'https://megapx-assets.dcard.tw/images/c447d3f7-5115-447a-a9d2-6f15de6a52bc/160.jpeg', 'normalizedUrl': 'https://megapx-assets.dcard.tw/images/c447d3f7-5115-447a-a9d2-6f15de6a52bc/160.jpeg', 'thumbnail': 'https://megapx-assets.dcard.tw/images/c447d3f7-5115-447a-a9d2-6f15de6a52bc/160.jpeg', 'type': 'image/thumbnail', 'tags': [], 'createdAt': '2020-05-11T04:29:41.730Z', 'updatedAt': '2020-05-11T04:29:41.730Z', 'width': 160, 'height': 160}, {'id': '86ec80e4-e491-467c-9167-1c7b9d208b9a', 'url': 'https://megapx-assets.dcard.tw/images/c447d3f7-5115-447a-a9d2-6f15de6a52bc/full.jpeg', 'normalizedUrl': 'https://megapx.dcard.tw/v1/images/c447d3f7-5115-447a-a9d2-6f15de6a52bc', 'thumbnail': 'https://megapx-assets.dcard.tw/images/c447d3f7-5115-447a-a9d2-6f15de6a52bc/160.jpeg', 'type': 'image/megapx', 'tags': [], 'createdAt': '2020-05-11T04:29:41.730Z', 'updatedAt': '2020-05-11T04:29:41.730Z', 'width': 1080, 'height': 1080}, {'id': '523dc874-13c6-4399-88f6-087daed003d8', 'url': 'https://megapx-assets.dcard.tw/images/12d606d8-557f-48ba-aec6-54b9237074b6/full.jpeg', 'normalizedUrl': 'https://megapx.dcard.tw/v1/images/12d606d8-557f-48ba-aec6-54b9237074b6', 'thumbnail': 'https://megapx-assets.dcard.tw/images/12d606d8-557f-48ba-aec6-54b9237074b6/160.jpeg', 'type': 'image/megapx', 'tags': [], 'createdAt': '2020-05-11T04:29:41.730Z', 'updatedAt': '2020-05-11T04:29:41.730Z', 'width': 1080, 'height': 1080}, {'id': '714abbbc-fac8-4064-b584-388647a5695f', 'url': 'https://megapx-assets.dcard.tw/images/8c016b04-5067-415b-be89-82470fdd4603/full.jpeg', 'normalizedUrl': 'https://megapx.dcard.tw/v1/images/8c016b04-5067-415b-be89-82470fdd4603', 'thumbnail': 'https://megapx-assets.dcard.tw/images/8c016b04-5067-415b-be89-82470fdd4603/160.jpeg', 'type': 'image/megapx', 'tags': [], 'createdAt': '2020-05-11T04:29:41.730Z', 'updatedAt': '2020-05-11T04:29:41.730Z', 'width': 1080, 'height': 1080}, {'id': '98dfebbc-cb2a-4776-b0ab-45dea7399f11', 'url': 'https://megapx-assets.dcard.tw/images/fc9089ee-cff0-48e4-a7ed-02b16b4c4b3e/full.jpeg', 'normalizedUrl': 'https://megapx.dcard.tw/v1/images/fc9089ee-cff0-48e4-a7ed-02b16b4c4b3e', 'thumbnail': 'https://megapx-assets.dcard.tw/images/fc9089ee-cff0-48e4-a7ed-02b16b4c4b3e/160.jpeg', 'type': 'image/megapx', 'tags': [], 'createdAt': '2020-05-11T04:29:41.730Z', 'updatedAt': '2020-05-11T04:29:41.730Z', 'width': 1080, 'height': 1080}, {'id': 'eeb22108-3db7-488d-a980-f57188be7188', 'url': 'https://megapx-assets.dcard.tw/images/d1fcc9a1-0f0a-40fa-9ef8-6b10f0b0eb8b/full.jpeg', 'normalizedUrl': 'https://megapx.dcard.tw/v1/images/d1fcc9a1-0f0a-40fa-9ef8-6b10f0b0eb8b', 'thumbnail': 'https://megapx-assets.dcard.tw/images/d1fcc9a1-0f0a-40fa-9ef8-6b10f0b0eb8b/160.jpeg', 'type': 'image/megapx', 'tags': [], 'createdAt': '2020-05-11T04:29:41.730Z', 'updatedAt': '2020-05-11T04:29:41.730Z', 'width': 1080, 'height': 1080}, {'id': '3468e0f1-c5fe-4944-b835-501424738c41', 'url': 'https://megapx-assets.dcard.tw/images/d92808a5-a367-456b-a0ee-c76ff6e769f4/full.jpeg', 'normalizedUrl': 'https://megapx.dcard.tw/v1/images/d92808a5-a367-456b-a0ee-c76ff6e769f4', 'thumbnail': 'https://megapx-assets.dcard.tw/images/d92808a5-a367-456b-a0ee-c76ff6e769f4/160.jpeg', 'type': 'image/megapx', 'tags': [], 'createdAt': '2020-05-11T04:29:41.730Z', 'updatedAt': '2020-05-11T04:29:41.730Z', 'width': 1080, 'height': 1080}, {'id': 'c5f7da49-8670-49e2-ba8f-1ce2765cd235', 'url': 'https://megapx-assets.dcard.tw/images/2426e968-8587-4875-8e7d-696664201bf6/full.jpeg', 'normalizedUrl': 'https://megapx.dcard.tw/v1/images/2426e968-8587-4875-8e7d-696664201bf6', 'thumbnail': 'https://megapx-assets.dcard.tw/images/2426e968-8587-4875-8e7d-696664201bf6/160.jpeg', 'type': 'image/megapx', 'tags': [], 'createdAt': '2020-05-11T04:29:41.730Z', 'updatedAt': '2020-05-11T04:29:41.730Z', 'width': 1080, 'height': 1080}, {'id': '9db405fb-0063-48db-b3f1-f7786c85a88d', 'url': 'https://megapx-assets.dcard.tw/images/bf5b7f2b-e98b-4ce5-b33d-8ef18917af5c/full.jpeg', 'normalizedUrl': 'https://megapx.dcard.tw/v1/images/bf5b7f2b-e98b-4ce5-b33d-8ef18917af5c', 'thumbnail': 'https://megapx-assets.dcard.tw/images/bf5b7f2b-e98b-4ce5-b33d-8ef18917af5c/160.jpeg', 'type': 'image/megapx', 'tags': [], 'createdAt': '2020-05-11T04:29:41.730Z', 'updatedAt': '2020-05-11T04:29:41.730Z', 'width': 750, 'height': 738}], 'reactions': [{'id': '286f599c-f86a-4932-82f0-f5a06f1eca03', 'count': 451}], 'hidden': False, 'customStyle': None, 'isSuspiciousAccount': False, 'layout': 'classic', 'withImages': True, 'withVideos': False, 'media': [{'url': 'https://megapx-assets.dcard.tw/images/c447d3f7-5115-447a-a9d2-6f15de6a52bc/full.jpeg'}, {'url': 'https://megapx-assets.dcard.tw/images/12d606d8-557f-48ba-aec6-54b9237074b6/full.jpeg'}, {'url': 'https://megapx-assets.dcard.tw/images/8c016b04-5067-415b-be89-82470fdd4603/full.jpeg'}, {'url': 'https://megapx-assets.dcard.tw/images/fc9089ee-cff0-48e4-a7ed-02b16b4c4b3e/full.jpeg'}, {'url': 'https://megapx-assets.dcard.tw/images/d1fcc9a1-0f0a-40fa-9ef8-6b10f0b0eb8b/full.jpeg'}, {'url': 'https://megapx-assets.dcard.tw/images/d92808a5-a367-456b-a0ee-c76ff6e769f4/full.jpeg'}, {'url': 'https://megapx-assets.dcard.tw/images/2426e968-8587-4875-8e7d-696664201bf6/full.jpeg'}, {'url': 'https://megapx-assets.dcard.tw/images/bf5b7f2b-e98b-4ce5-b33d-8ef18917af5c/full.jpeg'}], 'reportReasonText': '', 'postAvatar': ''}, {'id': 233654866, 'title': '因為疫情，我被生活工場裁員了', 'excerpt': '我被裁員了，他們說因為疫情，必須縮減人力，我就這樣很突然的被新店長告知後就做到10號，他們要我寫離職單自願離職，還說我才做兩個月不會有遣散費，（已問過勞工局，其實是有，我想說兩個月前就沒有疫情嗎？還應', 'anonymousSchool': False, 'anonymousDepartment': True, 'pinned': False, 'forumId': '6eeeafb2-9dac-4d81-ae4b-ffecf0ad4444', 'replyId': None, 'createdAt': '2020-05-11T13:24:27.845Z', 'updatedAt': '2020-05-12T11:25:47.856Z', 'commentCount': 11, 'likeCount': 62, 'withNickname': True, 'tags': ['HIDE_THUMBNAIL'], 'topics': ['疫情', '工作', '離職', '工作經驗', '生活工場'], 'meta': {'layout': 'classic'}, 'forumName': '工作', 'forumAlias': 'job', 'nsfw': False, 'gender': 'F', 'school': '我只是太怨恨才發文', 'department': 'bullshit80661', 'replyTitle': None, 'mediaMeta': [], 'reactions': [{'id': '286f599c-f86a-4932-82f0-f5a06f1eca03', 'count': 58}, {'id': 'aa0d425f-d530-4478-9a77-fe3aedc79eea', 'count': 3}, {'id': '514c2569-fd53-4d9d-a415-bf0f88e7329f', 'count': 1}], 'hidden': False, 'customStyle': {}, 'isSuspiciousAccount': False, 'layout': 'classic', 'withImages': False, 'withVideos': False, 'media': [], 'reportReasonText': '', 'postAvatar': ''}, {'id': 233652996, 'title': '我年收入破200萬，我很厲害。', 'excerpt': '我不愛唸書，（翻譯：你們只會念書），畢業後當完兵，去某高職學煮飯，考過丙級跟乙級證照後開早午餐店。早上4點到店，營業時間早上4點到下午2點，我是開在純住宅區，非加盟店。（翻譯：我很有遠見開了間早午餐店', 'anonymousSchool': True, 'anonymousDepartment': True, 'pinned': False, 'forumId': '6eeeafb2-9dac-4d81-ae4b-ffecf0ad4444', 'replyId': 233645134, 'createdAt': '2020-05-11T08:15:26.149Z', 'updatedAt': '2020-05-11T08:15:26.149Z', 'commentCount': 12, 'likeCount': 34, 'withNickname': False, 'tags': [], 'topics': ['年薪', '工作'], 'meta': {'layout': 'classic'}, 'forumName': '工作', 'forumAlias': 'job', 'nsfw': False, 'gender': 'M', 'replyTitle': '我年收入破200萬', 'mediaMeta': [], 'reactions': [{'id': '286f599c-f86a-4932-82f0-f5a06f1eca03', 'count': 33}, {'id': 'e8e6bc5d-41b0-4129-b134-97507523d7ff', 'count': 1}], 'hidden': False, 'customStyle': None, 'isSuspiciousAccount': False, 'layout': 'classic', 'withImages': False, 'withVideos': False, 'media': [], 'reportReasonText': '', 'postAvatar': ''}, {'id': 233655413, 'title': '父母的期待', 'excerpt': '本人我在今年一月初跟公司提離職，講好三月離開，結果好死不死遇到疫情凸^-^凸，原本待的公司是某民營銀行櫃員，做了大概一年左右，工作約半年時就已經萌生強烈離職的念頭，過的超級生不如死，我都覺得我快得憂鬱', 'anonymousSchool': True, 'anonymousDepartment': True, 'pinned': False, 'forumId': '6eeeafb2-9dac-4d81-ae4b-ffecf0ad4444', 'replyId': None, 'createdAt': '2020-05-11T14:37:53.388Z', 'updatedAt': '2020-05-11T14:37:53.388Z', 'commentCount': 13, 'likeCount': 31, 'withNickname': False, 'tags': ['HIDE_THUMBNAIL'], 'topics': ['求職'], 'meta': {'layout': 'classic'}, 'forumName': '工作', 'forumAlias': 'job', 'nsfw': False, 'gender': 'F', 'replyTitle': None, 'mediaMeta': [], 'reactions': [{'id': '286f599c-f86a-4932-82f0-f5a06f1eca03', 'count': 31}], 'hidden': False, 'customStyle': None, 'isSuspiciousAccount': False, 'layout': 'classic', 'withImages': False, 'withVideos': False, 'media': [], 'reportReasonText': '', 'postAvatar': ''}, {'id': 233656998, 'title': '職務大搜查', 'excerpt': '從小到出社會至今一直找不到人生目標與興趣喜好，工作也不知道要做什麼，完全沒一個方向，專業能力也幾乎是零，想進修或要做什麼“不那麼厭世”的工作也完全沒一個頭緒覺得人生很惶恐無奈。工作看起來千百種但不知道', 'anonymousSchool': False, 'anonymousDepartment': True, 'pinned': False, 'forumId': '6eeeafb2-9dac-4d81-ae4b-ffecf0ad4444', 'replyId': None, 'createdAt': '2020-05-11T19:03:27.828Z', 'updatedAt': '2020-05-11T19:10:37.416Z', 'commentCount': 8, 'likeCount': 28, 'withNickname': False, 'tags': [], 'topics': ['工作', '工作經驗', '求職', '職業介紹'], 'meta': {'layout': 'classic'}, 'forumName': '工作', 'forumAlias': 'job', 'nsfw': False, 'gender': 'F', 'school': '嘉南藥理大學', 'replyTitle': None, 'mediaMeta': [], 'reactions': [{'id': '286f599c-f86a-4932-82f0-f5a06f1eca03', 'count': 28}], 'hidden': False, 'customStyle': None, 'isSuspiciousAccount': False, 'layout': 'classic', 'withImages': False, 'withVideos': False, 'media': [], 'reportReasonText': '', 'postAvatar': ''}, {'id': 233654816, 'title': '104家教網 小工具 #爬蟲#產生excel表', 'excerpt': '紀念一下自己主動找的六個案子，都還沒有後續，花點時間做了這個小工具，希望各位不必花太多時間整理每個案子的細節，也祝各位早日找到學生，本來想放在軟工版，但鑑於是自己找工作的時候，產生的悲鳴，而有此工具，', 'anonymousSchool': False, 'anonymousDepartment': True, 'pinned': False, 'forumId': '6eeeafb2-9dac-4d81-ae4b-ffecf0ad4444', 'replyId': None, 'createdAt': '2020-05-11T13:18:54.247Z', 'updatedAt': '2020-05-11T13:18:54.247Z', 'commentCount': 0, 'likeCount': 27, 'withNickname': True, 'tags': [], 'topics': ['工作', '小工具', '爬蟲'], 'meta': {'layout': 'classic'}, 'forumName': '工作', 'forumAlias': 'job', 'nsfw': False, 'gender': 'M', 'school': '三豬', 'department': 'ironstrongman', 'replyTitle': None, 'mediaMeta': [{'id': '2913ae3c-cafa-4290-af90-b913517c566b', 'url': 'https://imgur.dcard.tw/QjPTdO1.png', 'normalizedUrl': 'https://imgur.dcard.tw/QjPTdO1.png', 'thumbnail': 'https://imgur.dcard.tw/QjPTdO1.png', 'type': 'image/thumbnail', 'tags': ['ANNOTATED'], 'createdAt': '2020-05-11T13:18:54.247Z', 'updatedAt': '2020-05-11T13:18:54.247Z'}, {'id': '2913ae3c-cafa-4290-af90-b913517c566b', 'url': 'https://imgur.dcard.tw/QjPTdO1.png', 'normalizedUrl': '', 'thumbnail': 'https://imgur.dcard.tw/QjPTdO1.png', 'type': 'image/png', 'tags': ['ANNOTATED'], 'createdAt': '2020-05-11T13:18:54.247Z', 'updatedAt': '2020-05-11T13:18:54.247Z'}, {'id': '6887975a-8d37-4a7c-9ae7-134967d5916b', 'url': 'https://imgur.dcard.tw/620au5n.png', 'normalizedUrl': '', 'thumbnail': 'https://imgur.dcard.tw/620au5n.png', 'type': 'image/png', 'tags': ['ANNOTATED_FAILED'], 'createdAt': '2020-05-11T13:18:54.247Z', 'updatedAt': '2020-05-11T13:18:54.247Z'}, {'id': 'e2c65b96-fc2f-422e-8d54-fb5a4fc18ee1', 'url': 'https://imgur.dcard.tw/DuE1xRc.png', 'normalizedUrl': '', 'thumbnail': 'https://imgur.dcard.tw/DuE1xRc.png', 'type': 'image/png', 'tags': ['ANNOTATED'], 'createdAt': '2020-05-11T13:18:54.247Z', 'updatedAt': '2020-05-11T13:18:54.247Z'}, {'id': 'e7ab6c70-b7dd-4a86-8be4-7519d68e636e', 'url': 'https://imgur.dcard.tw/mfeDPQS.png', 'normalizedUrl': '', 'thumbnail': 'https://imgur.dcard.tw/mfeDPQS.png', 'type': 'image/png', 'tags': ['ANNOTATED'], 'createdAt': '2020-05-11T13:18:54.247Z', 'updatedAt': '2020-05-11T13:18:54.247Z'}, {'id': 'a2c7ba14-27d4-4474-9dad-dd217c5a2557', 'url': 'https://imgur.dcard.tw/p52QWEE.png', 'normalizedUrl': '', 'thumbnail': 'https://imgur.dcard.tw/p52QWEE.png', 'type': 'image/png', 'tags': ['ANNOTATED_FAILED'], 'createdAt': '2020-05-11T13:18:54.247Z', 'updatedAt': '2020-05-11T13:18:54.247Z'}, {'id': '9b2059ea-4773-4955-907b-27fabdfced62', 'url': 'https://imgur.dcard.tw/4JS0tv1.png', 'normalizedUrl': '', 'thumbnail': 'https://imgur.dcard.tw/4JS0tv1.png', 'type': 'image/png', 'tags': ['ANNOTATED'], 'createdAt': '2020-05-11T13:18:54.247Z', 'updatedAt': '2020-05-11T13:18:54.247Z'}, {'id': 'bfe74bbd-ff84-4c64-8775-a93f7102aec6', 'url': 'https://imgur.dcard.tw/PYbVfcX.png', 'normalizedUrl': '', 'thumbnail': 'https://imgur.dcard.tw/PYbVfcX.png', 'type': 'image/png', 'tags': ['ANNOTATED'], 'createdAt': '2020-05-11T13:18:54.247Z', 'updatedAt': '2020-05-11T13:18:54.247Z'}, {'id': 'bdf16bea-69c9-48ce-aa7e-a1630a0a834d', 'url': 'https://imgur.dcard.tw/rPxrsIH.png', 'normalizedUrl': '', 'thumbnail': 'https://imgur.dcard.tw/rPxrsIH.png', 'type': 'image/png', 'tags': ['ANNOTATED'], 'createdAt': '2020-05-11T13:18:54.247Z', 'updatedAt': '2020-05-11T13:18:54.247Z'}, {'id': 'abc03732-72bc-41d5-b22e-0c8237c696cf', 'url': 'https://imgur.dcard.tw/omhMK7g.png', 'normalizedUrl': '', 'thumbnail': 'https://imgur.dcard.tw/omhMK7g.png', 'type': 'image/png', 'tags': ['ANNOTATED'], 'createdAt': '2020-05-11T13:18:54.247Z', 'updatedAt': '2020-05-11T13:18:54.247Z'}], 'reactions': [{'id': '286f599c-f86a-4932-82f0-f5a06f1eca03', 'count': 27}], 'hidden': False, 'customStyle': None, 'isSuspiciousAccount': False, 'layout': 'classic', 'withImages': True, 'withVideos': False, 'media': [{'url': 'http://i.imgur.com/QjPTdO1.png'}, {'url': 'http://i.imgur.com/620au5n.png'}, {'url': 'http://i.imgur.com/DuE1xRc.png'}, {'url': 'http://i.imgur.com/mfeDPQS.png'}, {'url': 'http://i.imgur.com/p52QWEE.png'}, {'url': 'http://i.imgur.com/4JS0tv1.png'}, {'url': 'http://i.imgur.com/PYbVfcX.png'}, {'url': 'http://i.imgur.com/rPxrsIH.png'}, {'url': 'http://i.imgur.com/omhMK7g.png'}], 'reportReasonText': '', 'postAvatar': ''}, {'id': 233657333, 'title': '到工作場所前焦慮 到後又變不會', 'excerpt': '我覺得我很奇怪，最近我在做約聘的工作，剛進入這個環境，我上班前我會變得焦慮 心臟會跳很快，也不怎麼有食慾 會稍微反胃，但到了上班場所後 又變得平靜 感覺好像還好了，雖然也不是到放鬆 但焦慮情況感覺比較', 'anonymousSchool': True, 'anonymousDepartment': True, 'pinned': False, 'forumId': '6eeeafb2-9dac-4d81-ae4b-ffecf0ad4444', 'replyId': None, 'createdAt': '2020-05-11T23:56:41.119Z', 'updatedAt': '2020-05-11T23:56:41.119Z', 'commentCount': 8, 'likeCount': 24, 'withNickname': False, 'tags': ['HIDE_THUMBNAIL'], 'topics': ['焦慮', '工作'], 'meta': {'layout': 'classic'}, 'forumName': '工作', 'forumAlias': 'job', 'nsfw': False, 'gender': 'F', 'replyTitle': None, 'mediaMeta': [], 'reactions': [{'id': '286f599c-f86a-4932-82f0-f5a06f1eca03', 'count': 24}], 'hidden': False, 'customStyle': None, 'isSuspiciousAccount': False, 'layout': 'classic', 'withImages': False, 'withVideos': False, 'media': [], 'reportReasonText': '', 'postAvatar': ''}, {'id': 233657366, 'title': '新人尷尬期', 'excerpt': '很好奇大家都怎麼度過新人尷尬期的，想融入其他人或是在主管面前留下好印象，這階段真的超敏感，今天是新公司報到第一天，上半天是HR教育訓練，結束後就被帶回各部門，看各部門怎麼交接工作。每個新進員工都會配一', 'anonymousSchool': True, 'anonymousDepartment': True, 'pinned': False, 'forumId': '6eeeafb2-9dac-4d81-ae4b-ffecf0ad4444', 'replyId': None, 'createdAt': '2020-05-12T00:11:59.724Z', 'updatedAt': '2020-05-12T00:11:59.724Z', 'commentCount': 6, 'likeCount': 20, 'withNickname': False, 'tags': ['HIDE_THUMBNAIL'], 'topics': ['工作', '尷尬', '工作經驗', '同事', '工作態度'], 'meta': {'layout': 'classic'}, 'forumName': '工作', 'forumAlias': 'job', 'nsfw': False, 'gender': 'F', 'replyTitle': None, 'mediaMeta': [], 'reactions': [{'id': '286f599c-f86a-4932-82f0-f5a06f1eca03', 'count': 20}], 'hidden': False, 'customStyle': None, 'isSuspiciousAccount': False, 'layout': 'classic', 'withImages': False, 'withVideos': False, 'media': [], 'reportReasonText': '', 'postAvatar': ''}, {'id': 233654047, 'title': '有駕照就不會遲到的狗屁概念', 'excerpt': '前一份工作是全職的行政櫃檯，全內勤不需出差也不能外出，面試時老闆娘問我真的沒有駕照嗎？（她在104找到我請我來面試，上面我沒有勾有駕照因為還沒考），我說沒有我搭公車上下班，她說：蛤？！好吧那沒關係，搭', 'anonymousSchool': False, 'anonymousDepartment': True, 'pinned': False, 'forumId': '6eeeafb2-9dac-4d81-ae4b-ffecf0ad4444', 'replyId': None, 'createdAt': '2020-05-11T11:20:15.996Z', 'updatedAt': '2020-05-11T11:20:15.996Z', 'commentCount': 6, 'likeCount': 19, 'withNickname': True, 'tags': [], 'topics': ['工作', '求職', '面試經驗'], 'meta': {'layout': 'classic'}, 'forumName': '工作', 'forumAlias': 'job', 'nsfw': False, 'gender': 'F', 'school': '            ', 'department': 'cyybbky', 'replyTitle': None, 'mediaMeta': [], 'reactions': [{'id': '286f599c-f86a-4932-82f0-f5a06f1eca03', 'count': 18}, {'id': 'e8e6bc5d-41b0-4129-b134-97507523d7ff', 'count': 1}], 'hidden': False, 'customStyle': None, 'isSuspiciousAccount': False, 'layout': 'classic', 'withImages': False, 'withVideos': False, 'media': [], 'reportReasonText': '', 'postAvatar': ''}, {'id': 233651715, 'title': '分享一下在104應徵後的雇主已讀率', 'excerpt': '現在剛畢業在找工作，從3月開始投履歷到現在也投了60家左右，投遞的都是職缺更新日期近的，不是萬年職缺那種，但目前已讀率大概50%左右，也只有30家會讀，疫情前，一兩年前找實習打工的時候，也是找職缺更新', 'anonymousSchool': True, 'anonymousDepartment': True, 'pinned': False, 'forumId': '6eeeafb2-9dac-4d81-ae4b-ffecf0ad4444', 'replyId': None, 'createdAt': '2020-05-11T04:41:23.619Z', 'updatedAt': '2020-05-11T04:41:23.619Z', 'commentCount': 7, 'likeCount': 15, 'withNickname': False, 'tags': [], 'topics': ['工作', '工作經驗', '求職', '面試', '打工'], 'meta': {'layout': 'classic'}, 'forumName': '工作', 'forumAlias': 'job', 'nsfw': False, 'gender': 'M', 'replyTitle': None, 'mediaMeta': [], 'reactions': [{'id': '286f599c-f86a-4932-82f0-f5a06f1eca03', 'count': 15}], 'hidden': False, 'customStyle': None, 'isSuspiciousAccount': False, 'layout': 'classic', 'withImages': False, 'withVideos': False, 'media': [], 'reportReasonText': '', 'postAvatar': ''}, {'id': 233658937, 'title': '大學畢業後待業一年多，對應徵銀行櫃員的影響？', 'excerpt': '我是去年的應屆畢業生，因為是轉學生所以延畢一個學期，今年一月畢業後，我開始準備年底的國營職員聯招，我想說如果今年不幸落榜就去銀行當櫃員，但是聯招也要等到明年3、4月才會放榜，所以我想請問這樣待業一年多', 'anonymousSchool': True, 'anonymousDepartment': True, 'pinned': False, 'forumId': '6eeeafb2-9dac-4d81-ae4b-ffecf0ad4444', 'replyId': None, 'createdAt': '2020-05-12T06:16:08.725Z', 'updatedAt': '2020-05-12T06:16:51.061Z', 'commentCount': 9, 'likeCount': 14, 'withNickname': False, 'tags': ['HIDE_THUMBNAIL'], 'topics': ['銀行', '求職', '待業', '面試'], 'meta': {'layout': 'classic'}, 'forumName': '工作', 'forumAlias': 'job', 'nsfw': False, 'gender': 'F', 'replyTitle': None, 'mediaMeta': [], 'reactions': [{'id': '286f599c-f86a-4932-82f0-f5a06f1eca03', 'count': 14}], 'hidden': False, 'customStyle': None, 'isSuspiciousAccount': False, 'layout': 'classic', 'withImages': False, 'withVideos': False, 'media': [], 'reportReasonText': '', 'postAvatar': ''}, {'id': 233658376, 'title': '注意一間自稱中國信託擴大徵才的詐騙', 'excerpt': '小弟我最近在找工作 於是有刊登在104人力銀行 並設定拒絕保險業，這間公司疑似會用其他企業（非保險業）名義得到你的資訊，打電話來「您好，我們中國信託在中部擴大徵才，有三種職缺，儲備幹部，行銷經理等等，', 'anonymousSchool': True, 'anonymousDepartment': True, 'pinned': False, 'forumId': '6eeeafb2-9dac-4d81-ae4b-ffecf0ad4444', 'replyId': None, 'createdAt': '2020-05-12T04:30:29.476Z', 'updatedAt': '2020-05-12T04:32:00.946Z', 'commentCount': 2, 'likeCount': 13, 'withNickname': False, 'tags': ['HIDE_THUMBNAIL'], 'topics': ['中國', '詐騙', '面試', '信託', '面試經驗'], 'meta': {'layout': 'classic'}, 'forumName': '工作', 'forumAlias': 'job', 'nsfw': False, 'gender': 'M', 'replyTitle': None, 'mediaMeta': [], 'reactions': [{'id': '286f599c-f86a-4932-82f0-f5a06f1eca03', 'count': 10}, {'id': '4b018f48-e184-445f-adf1-fc8e04ba09b9', 'count': 2}, {'id': 'aa0d425f-d530-4478-9a77-fe3aedc79eea', 'count': 1}], 'hidden': False, 'customStyle': None, 'isSuspiciousAccount': False, 'layout': 'classic', 'withImages': False, 'withVideos': False, 'media': [], 'reportReasonText': '', 'postAvatar': ''}, {'id': 233657542, 'title': '要離職了被上司問想要什麼禮物', 'excerpt': '今年畢業的我，要離開做滿三年的工讀生，今天被問想要什麼離職禮物，菜鳥的我不知道阿，可以包紅包嗎還是有紀念價值的比較好（金幣？），可以跟我分享大家的看法嗎><', 'anonymousSchool': True, 'anonymousDepartment': True, 'pinned': False, 'forumId': '6eeeafb2-9dac-4d81-ae4b-ffecf0ad4444', 'replyId': None, 'createdAt': '2020-05-12T01:24:58.172Z', 'updatedAt': '2020-05-12T01:24:58.172Z', 'commentCount': 5, 'likeCount': 11, 'withNickname': False, 'tags': [], 'topics': ['禮物', '離職'], 'meta': {'layout': 'classic'}, 'forumName': '工作', 'forumAlias': 'job', 'nsfw': False, 'gender': 'F', 'replyTitle': None, 'mediaMeta': [], 'reactions': [{'id': '286f599c-f86a-4932-82f0-f5a06f1eca03', 'count': 11}], 'hidden': False, 'customStyle': None, 'isSuspiciousAccount': False, 'layout': 'classic', 'withImages': False, 'withVideos': False, 'media': [], 'reportReasonText': '', 'postAvatar': ''}, {'id': 233655248, 'title': '為什麼頭腦不好又沒目標的窮人還要上大學？', 'excerpt': '畢業季快到了，每逢畢業季都有很奇怪的現象，有些剛畢業的新鮮人，做的不是自己的本科系的工作，問他為什麼不朝自己本科發展，他說沒興趣......那你當初唸幾個意思的？不然還有一個比較慘的情況就是想找本科，', 'anonymousSchool': True, 'anonymousDepartment': True, 'pinned': False, 'forumId': '6eeeafb2-9dac-4d81-ae4b-ffecf0ad4444', 'replyId': None, 'createdAt': '2020-05-11T14:16:42.089Z', 'updatedAt': '2020-05-11T14:16:42.089Z', 'commentCount': 19, 'likeCount': 11, 'withNickname': False, 'tags': [], 'topics': ['工作', '工作態度'], 'meta': {'layout': 'classic'}, 'forumName': '工作', 'forumAlias': 'job', 'nsfw': False, 'gender': 'M', 'replyTitle': None, 'mediaMeta': [], 'reactions': [{'id': '286f599c-f86a-4932-82f0-f5a06f1eca03', 'count': 11}], 'hidden': False, 'customStyle': None, 'isSuspiciousAccount': False, 'layout': 'classic', 'withImages': False, 'withVideos': False, 'media': [], 'reportReasonText': '', 'postAvatar': ''}, {'id': 233652181, 'title': '#請益 商科未來發展方向求指教', 'excerpt': '已爬了許多文，但對未來方向還是相當迷茫，希望版上的高手有什麼建議都可以提供給我，我都會虛心接受 還請各位多多指教~，我目前就讀的是國立四大的類企管所碩一（名稱非企管但相同性質，因為不想被認出），大學也', 'anonymousSchool': True, 'anonymousDepartment': True, 'pinned': False, 'forumId': '6eeeafb2-9dac-4d81-ae4b-ffecf0ad4444', 'replyId': None, 'createdAt': '2020-05-11T06:04:59.192Z', 'updatedAt': '2020-05-11T06:04:59.192Z', 'commentCount': 5, 'likeCount': 11, 'withNickname': False, 'tags': [], 'topics': ['工作', '未來'], 'meta': {'layout': 'classic'}, 'forumName': '工作', 'forumAlias': 'job', 'nsfw': False, 'gender': 'F', 'replyTitle': None, 'mediaMeta': [], 'reactions': [{'id': '286f599c-f86a-4932-82f0-f5a06f1eca03', 'count': 11}], 'hidden': False, 'customStyle': None, 'isSuspiciousAccount': False, 'layout': 'classic', 'withImages': False, 'withVideos': False, 'media': [], 'reportReasonText': '', 'postAvatar': ''}, {'id': 233651280, 'title': '無可避免的靜脈曲張', 'excerpt': '畢業後工作至今未滿2年，我就已經出現第一期靜脈曲張的情況，雖然在上班時間我已經盡可能找空檔坐下了，但是忙碌的時候還是必須離開椅子，看著皮膚上日益明顯的血管絲，每天上班的心情就更加糟糕，就連在無所事事的', 'anonymousSchool': True, 'anonymousDepartment': True, 'pinned': False, 'forumId': '6eeeafb2-9dac-4d81-ae4b-ffecf0ad4444', 'replyId': None, 'createdAt': '2020-05-11T03:24:23.366Z', 'updatedAt': '2020-05-11T03:24:23.366Z', 'commentCount': 9, 'likeCount': 10, 'withNickname': False, 'tags': [], 'topics': ['工作', '工作經驗', '職業傷害'], 'meta': {'layout': 'classic'}, 'forumName': '工作', 'forumAlias': 'job', 'nsfw': False, 'gender': 'F', 'replyTitle': None, 'mediaMeta': [], 'reactions': [{'id': '286f599c-f86a-4932-82f0-f5a06f1eca03', 'count': 9}, {'id': 'e8e6bc5d-41b0-4129-b134-97507523d7ff', 'count': 1}], 'hidden': False, 'customStyle': None, 'isSuspiciousAccount': False, 'layout': 'classic', 'withImages': False, 'withVideos': False, 'media': [], 'reportReasonText': '', 'postAvatar': ''}, {'id': 233658887, 'title': '非自願離職的資遣費問題', 'excerpt': '唉 老闆用經營不順裁員工，我五月底就沒工作了，但我問會計關於資遣費問題，會計卻說「這部分老闆沒提到」我：？？？於是我上網看一下規定，「如果雇主是因為員工表現不佳而開除，就必須要遵守勞基法，給付資遣費（', 'anonymousSchool': True, 'anonymousDepartment': True, 'pinned': False, 'forumId': '6eeeafb2-9dac-4d81-ae4b-ffecf0ad4444', 'replyId': None, 'createdAt': '2020-05-12T06:05:48.151Z', 'updatedAt': '2020-05-12T06:06:27.396Z', 'commentCount': 7, 'likeCount': 9, 'withNickname': False, 'tags': ['HIDE_THUMBNAIL'], 'topics': ['工作', '資遣'], 'meta': {'layout': 'classic'}, 'forumName': '工作', 'forumAlias': 'job', 'nsfw': False, 'gender': 'F', 'replyTitle': None, 'mediaMeta': [], 'reactions': [{'id': '286f599c-f86a-4932-82f0-f5a06f1eca03', 'count': 9}], 'hidden': False, 'customStyle': None, 'isSuspiciousAccount': False, 'layout': 'classic', 'withImages': False, 'withVideos': False, 'media': [], 'reportReasonText': '', 'postAvatar': ''}, {'id': 233656642, 'title': '(求解！)我寶貴的那些時間阿😭', 'excerpt': '潛水四年沒想到首po就獻給工作版了，結果居然是因為快被氣哭才來（；´༎ຶД༎ຶ`），（如有錯版煩請告知），事情是這樣的，身為今年應屆畢業生苦哈哈的求職者（哈不出來了..），在今年2月get一份豪宅行政', 'anonymousSchool': True, 'anonymousDepartment': True, 'pinned': False, 'forumId': '6eeeafb2-9dac-4d81-ae4b-ffecf0ad4444', 'replyId': None, 'createdAt': '2020-05-11T17:28:00.037Z', 'updatedAt': '2020-05-11T17:42:04.223Z', 'commentCount': 6, 'likeCount': 9, 'withNickname': False, 'tags': ['HIDE_THUMBNAIL'], 'topics': ['面試經驗', '應屆畢業生', '勞工權益'], 'meta': {'layout': 'classic'}, 'forumName': '工作', 'forumAlias': 'job', 'nsfw': False, 'gender': 'F', 'replyTitle': None, 'mediaMeta': [], 'reactions': [{'id': '286f599c-f86a-4932-82f0-f5a06f1eca03', 'count': 9}], 'hidden': False, 'customStyle': None, 'isSuspiciousAccount': False, 'layout': 'classic', 'withImages': False, 'withVideos': False, 'media': [], 'reportReasonText': '', 'postAvatar': ''}, {'id': 233655005, 'title': '試用期不知道能不能過', 'excerpt': '我是去年畢業的學生 之前第一份工作試用期沒過被資譴，後來重新振作 現在在外商公司上班 下個月月初就是試用期到期日了 今天主管跟我約談 有跟我說我有小多問題需要去改 他給我調整的方向也有點出我的問題 他', 'anonymousSchool': False, 'anonymousDepartment': True, 'pinned': False, 'forumId': '6eeeafb2-9dac-4d81-ae4b-ffecf0ad4444', 'replyId': None, 'createdAt': '2020-05-11T13:42:36.841Z', 'updatedAt': '2020-05-11T13:43:01.802Z', 'commentCount': 2, 'likeCount': 9, 'withNickname': False, 'tags': [], 'topics': ['工作', '工作經驗', '試用期'], 'meta': {'layout': 'classic'}, 'forumName': '工作', 'forumAlias': 'job', 'nsfw': False, 'gender': 'F', 'school': '輔仁大學', 'replyTitle': None, 'mediaMeta': [], 'reactions': [{'id': '286f599c-f86a-4932-82f0-f5a06f1eca03', 'count': 9}], 'hidden': False, 'customStyle': None, 'isSuspiciousAccount': False, 'layout': 'classic', 'withImages': False, 'withVideos': False, 'media': [], 'reportReasonText': '', 'postAvatar': ''}, {'id': 233651553, 'title': '蝦皮暑期實習', 'excerpt': '大家安，看到之前的文章有大大前幾天收到面試通知了，表定是今天會開始安排面試，想問不曉得有沒有其他大大也收到面試通知了，我還沒收到 豪緊張，我是投operation的 有拍影片', 'anonymousSchool': True, 'anonymousDepartment': True, 'pinned': False, 'forumId': '6eeeafb2-9dac-4d81-ae4b-ffecf0ad4444', 'replyId': None, 'createdAt': '2020-05-11T04:09:59.585Z', 'updatedAt': '2020-05-11T04:09:59.585Z', 'commentCount': 78, 'likeCount': 8, 'withNickname': False, 'tags': ['HIDE_THUMBNAIL'], 'topics': ['蝦皮'], 'meta': {'layout': 'classic'}, 'forumName': '工作', 'forumAlias': 'job', 'nsfw': False, 'gender': 'F', 'replyTitle': None, 'mediaMeta': [], 'reactions': [{'id': '286f599c-f86a-4932-82f0-f5a06f1eca03', 'count': 8}], 'hidden': False, 'customStyle': None, 'isSuspiciousAccount': False, 'layout': 'classic', 'withImages': False, 'withVideos': False, 'media': [], 'reportReasonText': '', 'postAvatar': ''}, {'id': 233661045, 'title': '工作選擇', 'excerpt': '目前有兩份工作都拿到錄取通知了，可是真的很苦惱想問問大家的意見，1.工作職稱：業務助理，工作內容：出口貿易、寄送樣品，待遇：28000，上班時間：8：30-17：30，休假：週休二日、見紅就休，產業：', 'anonymousSchool': True, 'anonymousDepartment': True, 'pinned': False, 'forumId': '6eeeafb2-9dac-4d81-ae4b-ffecf0ad4444', 'replyId': None, 'createdAt': '2020-05-12T12:22:26.599Z', 'updatedAt': '2020-05-12T12:22:26.599Z', 'commentCount': 12, 'likeCount': 7, 'withNickname': False, 'tags': ['HIDE_THUMBNAIL'], 'topics': ['求職'], 'meta': {'layout': 'classic'}, 'forumName': '工作', 'forumAlias': 'job', 'nsfw': False, 'gender': 'F', 'replyTitle': None, 'mediaMeta': [], 'reactions': [{'id': '286f599c-f86a-4932-82f0-f5a06f1eca03', 'count': 7}], 'hidden': False, 'customStyle': None, 'isSuspiciousAccount': False, 'layout': 'classic', 'withImages': False, 'withVideos': False, 'media': [], 'reportReasonText': '', 'postAvatar': ''}, {'id': 233656803, 'title': '寧缺勿濫？', 'excerpt': '想請問大家，如果已經待業了一個多月，但最近只有錄取一份工作，而這份工作的內容跟薪資也很普通，但因為最近工作不太好找，大家會將就著去做嗎？還是會再繼續找工作？', 'anonymousSchool': True, 'anonymousDepartment': True, 'pinned': False, 'forumId': '6eeeafb2-9dac-4d81-ae4b-ffecf0ad4444', 'replyId': None, 'createdAt': '2020-05-11T17:59:30.768Z', 'updatedAt': '2020-05-11T17:59:30.768Z', 'commentCount': 6, 'likeCount': 7, 'withNickname': False, 'tags': ['HIDE_THUMBNAIL'], 'topics': ['工作'], 'meta': {'layout': 'classic'}, 'forumName': '工作', 'forumAlias': 'job', 'nsfw': False, 'gender': 'F', 'replyTitle': None, 'mediaMeta': [], 'reactions': [{'id': '286f599c-f86a-4932-82f0-f5a06f1eca03', 'count': 7}], 'hidden': False, 'customStyle': None, 'isSuspiciousAccount': False, 'layout': 'classic', 'withImages': False, 'withVideos': False, 'media': [], 'reportReasonText': '', 'postAvatar': ''}, {'id': 233655101, 'title': '服飾業最近都沒有缺嗎😭', 'excerpt': '等了好一陣子的服飾品牌開缺，看GU一直掛在人力銀行上面，投履歷也完全沒消息，打去總公司詢問卻說沒缺人，我就很納悶 這樣我要怎麼知道，你們到底什麼時候才有缺，這波疫情讓想進服飾的道路變得更狹窄了，好想進', 'anonymousSchool': True, 'anonymousDepartment': True, 'pinned': False, 'forumId': '6eeeafb2-9dac-4d81-ae4b-ffecf0ad4444', 'replyId': None, 'createdAt': '2020-05-11T13:55:08.783Z', 'updatedAt': '2020-05-11T13:55:08.783Z', 'commentCount': 2, 'likeCount': 7, 'withNickname': False, 'tags': ['HIDE_THUMBNAIL'], 'topics': ['服飾', '工作', '求職', '徵才'], 'meta': {'layout': 'classic'}, 'forumName': '工作', 'forumAlias': 'job', 'nsfw': False, 'gender': 'F', 'replyTitle': None, 'mediaMeta': [], 'reactions': [{'id': '286f599c-f86a-4932-82f0-f5a06f1eca03', 'count': 7}], 'hidden': False, 'customStyle': None, 'isSuspiciousAccount': False, 'layout': 'classic', 'withImages': False, 'withVideos': False, 'media': [], 'reportReasonText': '', 'postAvatar': ''}, {'id': 233653799, 'title': '國泰CIP', 'excerpt': '國泰CIP暑期實習適性測驗做完了，有人接到電話了嗎？', 'anonymousSchool': False, 'anonymousDepartment': True, 'pinned': False, 'forumId': '6eeeafb2-9dac-4d81-ae4b-ffecf0ad4444', 'replyId': None, 'createdAt': '2020-05-11T10:38:37.151Z', 'updatedAt': '2020-05-11T10:38:37.151Z', 'commentCount': 29, 'likeCount': 7, 'withNickname': False, 'tags': ['HIDE_THUMBNAIL'], 'topics': ['國泰', '實習'], 'meta': {'layout': 'classic'}, 'forumName': '工作', 'forumAlias': 'job', 'nsfw': False, 'gender': 'M', 'school': '國立政治大學', 'replyTitle': None, 'mediaMeta': [], 'reactions': [{'id': '286f599c-f86a-4932-82f0-f5a06f1eca03', 'count': 7}], 'hidden': False, 'customStyle': None, 'isSuspiciousAccount': False, 'layout': 'classic', 'withImages': False, 'withVideos': False, 'media': [], 'reportReasonText': '', 'postAvatar': ''}, {'id': 233661836, 'title': '新鮮人第一份工作的薪資調查', 'excerpt': '先前那棟已經蓋了四千多樓，有興趣的可以點上面連結，我比較好奇每個人第一份工作的薪資，以及薪資逐年成長的幅度，到底能不能跟的上物價以及房價…，================ 本人範例 ========', 'anonymousSchool': True, 'anonymousDepartment': True, 'pinned': False, 'forumId': '6eeeafb2-9dac-4d81-ae4b-ffecf0ad4444', 'replyId': 233516619, 'createdAt': '2020-05-12T14:19:40.595Z', 'updatedAt': '2020-05-12T14:19:40.595Z', 'commentCount': 1, 'likeCount': 6, 'withNickname': False, 'tags': [], 'topics': ['月薪', '薪資', '工作', '求職', '新鮮人'], 'meta': {'layout': 'classic'}, 'forumName': '工作', 'forumAlias': 'job', 'nsfw': False, 'gender': 'M', 'replyTitle': '#薪資交流 大家的待遇多少呢？', 'mediaMeta': [], 'reactions': [{'id': '286f599c-f86a-4932-82f0-f5a06f1eca03', 'count': 6}], 'hidden': False, 'customStyle': None, 'isSuspiciousAccount': False, 'layout': 'classic', 'withImages': False, 'withVideos': False, 'media': [], 'reportReasonText': '', 'postAvatar': ''}, {'id': 233661758, 'title': '老闆問我公司需不需要補助學英文', 'excerpt': '不知道大家有沒有以下的經驗，當一個人突然對你很好，反而會覺得很緊張，對方是不是有計謀，或是他其實有其他想法之類等等等，某天下午，我跟幾個同事被老闆叫到辦公室，原本以為又做錯什麼，準備要被訓話，然而沒想', 'anonymousSchool': True, 'anonymousDepartment': True, 'pinned': False, 'forumId': '6eeeafb2-9dac-4d81-ae4b-ffecf0ad4444', 'replyId': None, 'createdAt': '2020-05-12T14:08:51.625Z', 'updatedAt': '2020-05-12T14:08:51.625Z', 'commentCount': 2, 'likeCount': 6, 'withNickname': False, 'tags': [], 'topics': ['老闆', '補助', '英文', '工作經驗'], 'meta': {'layout': 'classic'}, 'forumName': '工作', 'forumAlias': 'job', 'nsfw': False, 'gender': 'F', 'replyTitle': None, 'mediaMeta': [{'id': 'c6263d85-3098-4d7b-89c6-8df43bd00838', 'url': 'https://megapx-assets.dcard.tw/images/40413769-e44e-4933-a852-cb8fcc49e0ac/160.jpeg', 'normalizedUrl': 'https://megapx-assets.dcard.tw/images/40413769-e44e-4933-a852-cb8fcc49e0ac/160.jpeg', 'thumbnail': 'https://megapx-assets.dcard.tw/images/40413769-e44e-4933-a852-cb8fcc49e0ac/160.jpeg', 'type': 'image/thumbnail', 'tags': ['ANNOTATED'], 'createdAt': '2020-05-12T14:08:51.625Z', 'updatedAt': '2020-05-12T14:08:51.625Z', 'width': 160, 'height': 91}, {'id': 'c6263d85-3098-4d7b-89c6-8df43bd00838', 'url': 'https://megapx-assets.dcard.tw/images/40413769-e44e-4933-a852-cb8fcc49e0ac/full.jpeg', 'normalizedUrl': 'https://megapx.dcard.tw/v1/images/40413769-e44e-4933-a852-cb8fcc49e0ac', 'thumbnail': 'https://megapx-assets.dcard.tw/images/40413769-e44e-4933-a852-cb8fcc49e0ac/160.jpeg', 'type': 'image/megapx', 'tags': ['ANNOTATED'], 'createdAt': '2020-05-12T14:08:51.625Z', 'updatedAt': '2020-05-12T14:08:51.625Z', 'width': 558, 'height': 318}], 'reactions': [{'id': '286f599c-f86a-4932-82f0-f5a06f1eca03', 'count': 6}], 'hidden': False, 'customStyle': None, 'isSuspiciousAccount': False, 'layout': 'classic', 'withImages': True, 'withVideos': False, 'media': [{'url': 'https://megapx-assets.dcard.tw/images/40413769-e44e-4933-a852-cb8fcc49e0ac/full.jpeg'}], 'reportReasonText': '', 'postAvatar': ''}, {'id': 233660019, 'title': '公司邀請面試只寄信而沒打電話', 'excerpt': '最近在人力銀行上投遞履歷，陸續有收到一些面試邀約，但有間公司只寄出104通知信而沒打電話聯絡，且通知信上只請我在上班時間前去面談，這種作法直覺上我會認為這是流動率高的工作，以至於求才單位才沒多花心思在', 'anonymousSchool': True, 'anonymousDepartment': True, 'pinned': False, 'forumId': '6eeeafb2-9dac-4d81-ae4b-ffecf0ad4444', 'replyId': None, 'createdAt': '2020-05-12T09:27:56.361Z', 'updatedAt': '2020-05-12T09:27:56.361Z', 'commentCount': 9, 'likeCount': 6, 'withNickname': False, 'tags': [], 'topics': ['面試', '工作', '求職'], 'meta': {'layout': 'classic'}, 'forumName': '工作', 'forumAlias': 'job', 'nsfw': False, 'gender': 'F', 'replyTitle': None, 'mediaMeta': [], 'reactions': [{'id': '286f599c-f86a-4932-82f0-f5a06f1eca03', 'count': 6}], 'hidden': False, 'customStyle': None, 'isSuspiciousAccount': False, 'layout': 'classic', 'withImages': False, 'withVideos': False, 'media': [], 'reportReasonText': '', 'postAvatar': ''}, {'id': 233659824, 'title': '英文教材編輯相關工作該讀研究所嗎？', 'excerpt': '我想請問，想走英文教材編輯，像是空中英語，或是童書編輯，這方面的工作，應該要讀研究所嗎？本人目前已有教學經驗，（補習班、家教、私立小學英文老師），看了很多教材編輯工作的應徵條件，都要5年教學經驗，或是', 'anonymousSchool': True, 'anonymousDepartment': True, 'pinned': False, 'forumId': '6eeeafb2-9dac-4d81-ae4b-ffecf0ad4444', 'replyId': None, 'createdAt': '2020-05-12T08:56:39.174Z', 'updatedAt': '2020-05-12T13:08:46.895Z', 'commentCount': 5, 'likeCount': 5, 'withNickname': False, 'tags': ['HIDE_THUMBNAIL'], 'topics': ['研究所', '英文', '教材', '工作', '教材編輯'], 'meta': {'layout': 'classic'}, 'forumName': '工作', 'forumAlias': 'job', 'nsfw': False, 'gender': 'F', 'replyTitle': None, 'mediaMeta': [], 'reactions': [{'id': '286f599c-f86a-4932-82f0-f5a06f1eca03', 'count': 5}], 'hidden': False, 'customStyle': None, 'isSuspiciousAccount': False, 'layout': 'classic', 'withImages': False, 'withVideos': False, 'media': [], 'reportReasonText': '', 'postAvatar': ''}, {'id': 233659387, 'title': '我想問...104人力銀行', 'excerpt': '有人會在104人力網投履歷重複投同一間公司嗎？因為我3月被通知可以面試，但最後面試沒上，近期又看到同間公司相同職缺，想要再重複投一次可以嗎？但是我曾經已經去面試過了 會不會造成反感？', 'anonymousSchool': True, 'anonymousDepartment': True, 'pinned': False, 'forumId': '6eeeafb2-9dac-4d81-ae4b-ffecf0ad4444', 'replyId': None, 'createdAt': '2020-05-12T07:35:15.869Z', 'updatedAt': '2020-05-12T07:35:15.869Z', 'commentCount': 6, 'likeCount': 5, 'withNickname': False, 'tags': ['HIDE_THUMBNAIL'], 'topics': ['工作', '求職'], 'meta': {'layout': 'classic'}, 'forumName': '工作', 'forumAlias': 'job', 'nsfw': False, 'gender': 'F', 'replyTitle': None, 'mediaMeta': [], 'reactions': [{'id': '286f599c-f86a-4932-82f0-f5a06f1eca03', 'count': 4}, {'id': '4b018f48-e184-445f-adf1-fc8e04ba09b9', 'count': 1}], 'hidden': False, 'customStyle': None, 'isSuspiciousAccount': False, 'layout': 'classic', 'withImages': False, 'withVideos': False, 'media': [], 'reportReasonText': '', 'postAvatar': ''}]\n"
     ]
    }
   ],
   "source": [
    "import json\n",
    "data = json.loads(response)\n",
    "print(data)"
   ]
  },
  {
   "cell_type": "code",
   "execution_count": 11,
   "metadata": {},
   "outputs": [
    {
     "data": {
      "text/plain": [
       "{'id': 225578807,\n",
       " 'title': '<請先點我> 工作板＆實習、打工職缺刊登說明',\n",
       " 'excerpt': '工作板主要供分享職場工作心得、面試、正職、招考過程分享、各類型工作內容介紹、勞工工作權益與相關法案議題討論相關文章。文章發文後請加上話題，如：經驗分享、職業介紹、勞工權益、徵才等....，「實習職缺/刊登」請點：',\n",
       " 'anonymousSchool': False,\n",
       " 'anonymousDepartment': True,\n",
       " 'pinned': True,\n",
       " 'forumId': '6eeeafb2-9dac-4d81-ae4b-ffecf0ad4444',\n",
       " 'replyId': None,\n",
       " 'createdAt': '2017-01-01T06:27:39.650Z',\n",
       " 'updatedAt': '2020-02-27T02:54:18.710Z',\n",
       " 'commentCount': 39,\n",
       " 'likeCount': 699,\n",
       " 'withNickname': True,\n",
       " 'tags': [],\n",
       " 'topics': ['工作板', 'Dcard公告', '實習職缺', '打工職缺'],\n",
       " 'meta': {},\n",
       " 'forumName': '工作',\n",
       " 'forumAlias': 'job',\n",
       " 'nsfw': False,\n",
       " 'gender': 'D',\n",
       " 'school': '客服小天使',\n",
       " 'department': 'dcard_support_2',\n",
       " 'replyTitle': None,\n",
       " 'mediaMeta': [],\n",
       " 'reactions': [{'id': '286f599c-f86a-4932-82f0-f5a06f1eca03', 'count': 696},\n",
       "  {'id': 'e8e6bc5d-41b0-4129-b134-97507523d7ff', 'count': 2},\n",
       "  {'id': 'aa0d425f-d530-4478-9a77-fe3aedc79eea', 'count': 1}],\n",
       " 'hidden': False,\n",
       " 'customStyle': None,\n",
       " 'isSuspiciousAccount': False,\n",
       " 'layout': 'classic',\n",
       " 'pinnedType': 'dcard',\n",
       " 'pinnedPriority': 1582772058000,\n",
       " 'withImages': False,\n",
       " 'withVideos': False,\n",
       " 'media': [],\n",
       " 'reportReasonText': '',\n",
       " 'postAvatar': ''}"
      ]
     },
     "execution_count": 11,
     "metadata": {},
     "output_type": "execute_result"
    }
   ],
   "source": [
    "data[0]"
   ]
  },
  {
   "cell_type": "code",
   "execution_count": 12,
   "metadata": {
    "scrolled": true
   },
   "outputs": [
    {
     "data": {
      "text/plain": [
       "list"
      ]
     },
     "execution_count": 12,
     "metadata": {},
     "output_type": "execute_result"
    }
   ],
   "source": [
    "type(data)"
   ]
  },
  {
   "cell_type": "code",
   "execution_count": 13,
   "metadata": {},
   "outputs": [
    {
     "data": {
      "text/plain": [
       "'<請先點我> 工作板＆實習、打工職缺刊登說明'"
      ]
     },
     "execution_count": 13,
     "metadata": {},
     "output_type": "execute_result"
    }
   ],
   "source": [
    "data[0]['title']"
   ]
  },
  {
   "cell_type": "code",
   "execution_count": 14,
   "metadata": {},
   "outputs": [
    {
     "name": "stdout",
     "output_type": "stream",
     "text": [
      "<請先點我> 工作板＆實習、打工職缺刊登說明\n",
      "沒有行銷相關經歷，作品集我這樣準備\n",
      "因為疫情，我被生活工場裁員了\n",
      "我年收入破200萬，我很厲害。\n",
      "父母的期待\n",
      "職務大搜查\n",
      "104家教網 小工具 #爬蟲#產生excel表\n",
      "到工作場所前焦慮 到後又變不會\n",
      "新人尷尬期\n",
      "有駕照就不會遲到的狗屁概念\n",
      "分享一下在104應徵後的雇主已讀率\n",
      "大學畢業後待業一年多，對應徵銀行櫃員的影響？\n",
      "注意一間自稱中國信託擴大徵才的詐騙\n",
      "要離職了被上司問想要什麼禮物\n",
      "為什麼頭腦不好又沒目標的窮人還要上大學？\n",
      "#請益 商科未來發展方向求指教\n",
      "無可避免的靜脈曲張\n",
      "非自願離職的資遣費問題\n",
      "(求解！)我寶貴的那些時間阿😭\n",
      "試用期不知道能不能過\n",
      "蝦皮暑期實習\n",
      "工作選擇\n",
      "寧缺勿濫？\n",
      "服飾業最近都沒有缺嗎😭\n",
      "國泰CIP\n",
      "新鮮人第一份工作的薪資調查\n",
      "老闆問我公司需不需要補助學英文\n",
      "公司邀請面試只寄信而沒打電話\n",
      "英文教材編輯相關工作該讀研究所嗎？\n",
      "我想問...104人力銀行\n"
     ]
    }
   ],
   "source": [
    "for d in data:\n",
    "    print(d['title'])"
   ]
  },
  {
   "cell_type": "markdown",
   "metadata": {},
   "source": [
    "### Example: Dcard API"
   ]
  },
  {
   "cell_type": "code",
   "execution_count": null,
   "metadata": {},
   "outputs": [],
   "source": [
    "# Example: Dcard API\n",
    "\n",
    "import requests\n",
    "# 引入函式庫\n",
    "\n",
    "r = requests.get('https://www.dcard.tw/_api/forums/job/posts?popular=true')\n",
    "# 想要爬資料的目標網址\n",
    "response = r.text\n",
    "# 模擬發送請求的動作\n",
    "\n",
    "import json\n",
    "data = json.loads(response)\n",
    "data"
   ]
  },
  {
   "cell_type": "markdown",
   "metadata": {},
   "source": [
    "### 動手實作：Dcard API\n",
    "\n",
    "#### API: https://www.dcard.tw/_api/forums/pet/posts?popular=true\n",
    "\n",
    "* ① 請告訴我這個 API 一次會回傳幾筆資料？每一筆資料包含哪些欄位？\n",
    "* ② 取出每一筆資料的「標題」、「貼文時間」、「留言人數」、「按讚人數」\n",
    "* ③ 計算熱門/非熱門文章的「平均留言人數」與「平均按讚人數」\n"
   ]
  },
  {
   "cell_type": "markdown",
   "metadata": {},
   "source": [
    "#### ① 請告訴我這個 API 一次會回傳幾筆資料？每一筆資料包含哪些欄位？"
   ]
  },
  {
   "cell_type": "code",
   "execution_count": 16,
   "metadata": {
    "scrolled": true
   },
   "outputs": [
    {
     "data": {
      "text/plain": [
       "'\\nYour Code\\n'"
      ]
     },
     "execution_count": 16,
     "metadata": {},
     "output_type": "execute_result"
    }
   ],
   "source": [
    "'''\n",
    "Your Code\n",
    "'''"
   ]
  },
  {
   "cell_type": "code",
   "execution_count": 120,
   "metadata": {},
   "outputs": [
    {
     "name": "stdout",
     "output_type": "stream",
     "text": [
      "30\n",
      "['id', 'title', 'excerpt', 'anonymousSchool', 'anonymousDepartment', 'pinned', 'forumId', 'replyId', 'createdAt', 'updatedAt', 'commentCount', 'likeCount', 'withNickname', 'tags', 'topics', 'meta', 'forumName', 'forumAlias', 'nsfw', 'gender', 'school', 'department', 'replyTitle', 'mediaMeta', 'reactions', 'hidden', 'customStyle', 'isSuspiciousAccount', 'layout', 'withImages', 'withVideos', 'media', 'reportReasonText', 'postAvatar']\n"
     ]
    }
   ],
   "source": [
    "# API: https://www.dcard.tw/_api/forums/pet/posts?popular=true\n",
    "\n",
    "# 參考解答：① 請告訴我這個 API 一次會回傳幾筆資料？每一筆資料包含哪些欄位？\n",
    "\n",
    "import requests\n",
    "r = requests.get('https://www.dcard.tw/_api/forums/pet/posts?popular=true')\n",
    "response = r.text\n",
    "\n",
    "import json\n",
    "data = json.loads(response)\n",
    "\n",
    "print(len(data))\n",
    "print(list(data[0].keys()))"
   ]
  },
  {
   "cell_type": "markdown",
   "metadata": {},
   "source": [
    "#### ② 取出每一筆資料的「標題」、「貼文時間」、「留言人數」、「按讚人數」"
   ]
  },
  {
   "cell_type": "code",
   "execution_count": 16,
   "metadata": {
    "scrolled": false
   },
   "outputs": [
    {
     "data": {
      "text/plain": [
       "'\\nYour Code\\n'"
      ]
     },
     "execution_count": 16,
     "metadata": {},
     "output_type": "execute_result"
    }
   ],
   "source": [
    "'''\n",
    "Your Code\n",
    "'''"
   ]
  },
  {
   "cell_type": "code",
   "execution_count": 121,
   "metadata": {},
   "outputs": [
    {
     "name": "stdout",
     "output_type": "stream",
     "text": [
      "🐶毛孩子😽在家一起防疫🏋🏻‍♂️的好吃好用組👍🏻\n",
      "2020-05-06T06:04:02.907Z\n",
      "0\n",
      "======\n",
      "我不會放棄 請你也不要放棄\n",
      "2020-05-05T18:19:26.166Z\n",
      "21\n",
      "======\n",
      "養了一隻灰白色的哈士奇 文長\n",
      "2020-05-06T08:32:50.714Z\n",
      "5\n",
      "======\n",
      "我家可愛的博美❤️\n",
      "2020-05-06T07:46:14.329Z\n",
      "6\n",
      "======\n",
      "拜託不要再用太空包了\n",
      "2020-05-06T15:54:55.457Z\n",
      "6\n",
      "======\n",
      "亞洲大學的可愛柴柴\n",
      "2020-05-06T04:17:45.331Z\n",
      "3\n",
      "======\n",
      "離開前的最後一個作品\n",
      "2020-05-05T17:02:17.212Z\n",
      "11\n",
      "======\n",
      "很喜歡嘴巴開開的黃金鼠\n",
      "2020-05-06T16:50:50.468Z\n",
      "3\n",
      "======\n",
      "限時的這隻貓貓！！\n",
      "2020-05-06T15:05:11.640Z\n",
      "2\n",
      "======\n",
      "#美短 有一種冷是鏟屎官覺得你冷😹\n",
      "2020-05-06T04:03:03.523Z\n",
      "2\n",
      "======\n",
      "薯家三兄弟（三線鼠\n",
      "2020-05-05T17:42:21.603Z\n",
      "4\n",
      "======\n",
      "曬一下我家小惡魔\n",
      "2020-05-06T07:56:22.195Z\n",
      "5\n",
      "======\n",
      "拜託領養代替購買\n",
      "2020-05-06T15:36:40.865Z\n",
      "2\n",
      "======\n",
      "她也很奇怪🐦\n",
      "2020-05-06T14:33:55.133Z\n",
      "1\n",
      "======\n",
      "拜託這樣真的母湯\n",
      "2020-05-06T04:15:25.858Z\n",
      "2\n",
      "======\n",
      "急問，我該怎麼處理這隻鳥？\n",
      "2020-05-06T13:21:18.564Z\n",
      "10\n",
      "======\n",
      "有愛就美\n",
      "2020-05-06T02:41:01.991Z\n",
      "3\n",
      "======\n",
      "Tina又來了\n",
      "2020-05-06T12:06:26.563Z\n",
      "4\n",
      "======\n",
      "關於幼柴的問題\n",
      "2020-05-06T11:51:54.951Z\n",
      "3\n",
      "======\n",
      "（圖）請教，這是什麼的幼蛇？\n",
      "2020-05-06T02:25:03.709Z\n",
      "6\n",
      "======\n",
      "愈來愈像人類\n",
      "2020-05-05T17:19:03.265Z\n",
      "13\n",
      "======\n",
      "殺手螺生寶寶了\n",
      "2020-05-06T11:35:10.478Z\n",
      "1\n",
      "======\n",
      "暴走の雙子座\n",
      "2020-05-06T10:38:32.836Z\n",
      "6\n",
      "======\n",
      "#記得開聲音🔊 療癒的🐱吃播系列\n",
      "2020-05-06T05:18:05.621Z\n",
      "10\n",
      "======\n",
      "新手養兔子🐰\n",
      "2020-05-05T16:00:09.397Z\n",
      "10\n",
      "======\n",
      "薯之呼吸第一式-發ㄎㄧㄤ\n",
      "2020-05-06T05:04:40.905Z\n",
      "2\n",
      "======\n",
      "#急尋 #台中市 #狗狗 #走失 \n",
      "5/6早上9點北屯區走失 請大家幫忙~\n",
      "2020-05-06T04:06:48.988Z\n",
      "2\n",
      "======\n",
      "亞洲大學同學你的兔兔🤤🤤\n",
      "2020-05-06T23:56:36.418Z\n",
      "0\n",
      "======\n",
      "生日初體驗❤\n",
      "2020-05-06T11:15:40.437Z\n",
      "0\n",
      "======\n",
      "我家的胖弟弟#多圖#多肉\n",
      "2020-05-06T07:33:21.041Z\n",
      "1\n",
      "======\n"
     ]
    }
   ],
   "source": [
    "# 參考解答：② 取出每一筆資料的「標題」、「貼文時間」、「留言人數」、「按讚人數」\n",
    "\n",
    "for d in data:\n",
    "    print(d['title'])\n",
    "    print(d['createdAt'])\n",
    "    print(d['commentCount'])\n",
    "    print('======')"
   ]
  },
  {
   "cell_type": "markdown",
   "metadata": {},
   "source": [
    "#### ③ 計算熱門/非熱門文章的「平均留言人數」與「平均按讚人數」"
   ]
  },
  {
   "cell_type": "code",
   "execution_count": 16,
   "metadata": {
    "scrolled": true
   },
   "outputs": [
    {
     "data": {
      "text/plain": [
       "'\\nYour Code\\n'"
      ]
     },
     "execution_count": 16,
     "metadata": {},
     "output_type": "execute_result"
    }
   ],
   "source": [
    "'''\n",
    "Your Code\n",
    "'''"
   ]
  },
  {
   "cell_type": "code",
   "execution_count": 122,
   "metadata": {},
   "outputs": [
    {
     "name": "stdout",
     "output_type": "stream",
     "text": [
      "4.8 22.4\n"
     ]
    }
   ],
   "source": [
    "# 參考解答：③ 計算熱門文章的「平均留言人數」與「平均按讚人數」\n",
    "\n",
    "commentCount = 0\n",
    "likeCount = 0\n",
    "for d in data:\n",
    "    commentCount += d['commentCount']\n",
    "    likeCount += d['likeCount']\n",
    "\n",
    "print(commentCount/len(data), likeCount/len(data))\n",
    "    "
   ]
  },
  {
   "cell_type": "code",
   "execution_count": 123,
   "metadata": {},
   "outputs": [
    {
     "name": "stdout",
     "output_type": "stream",
     "text": [
      "3.2666666666666666 8.8\n"
     ]
    }
   ],
   "source": [
    "# ③ 計算非熱門文章的「平均留言人數」與「平均按讚人數」\n",
    "\n",
    "r = requests.get('https://www.dcard.tw/_api/forums/pet/posts?popular=false')\n",
    "response = r.text\n",
    "data = json.loads(response)\n",
    "\n",
    "commentCount = 0\n",
    "likeCount = 0\n",
    "\n",
    "for d in data:\n",
    "    commentCount += d['commentCount']\n",
    "    likeCount += d['likeCount']\n",
    "\n",
    "print(commentCount/len(data), likeCount/len(data))\n",
    "    "
   ]
  },
  {
   "cell_type": "markdown",
   "metadata": {},
   "source": [
    "### 動手實作：Dcard API\n",
    "\n",
    "#### API: https://www.dcard.tw/_api/forums\n",
    "\n",
    "* ④ 請問 Dcard 總共有幾個看板？\n",
    "* ⑤ 請問最熱門/最新建立的看板是哪一個？\n"
   ]
  },
  {
   "cell_type": "markdown",
   "metadata": {},
   "source": [
    "#### ④ 請問 Dcard 總共有幾個看板？"
   ]
  },
  {
   "cell_type": "code",
   "execution_count": 16,
   "metadata": {
    "scrolled": true
   },
   "outputs": [
    {
     "data": {
      "text/plain": [
       "'\\nYour Code\\n'"
      ]
     },
     "execution_count": 16,
     "metadata": {},
     "output_type": "execute_result"
    }
   ],
   "source": [
    "'''\n",
    "Your Code\n",
    "'''"
   ]
  },
  {
   "cell_type": "code",
   "execution_count": 124,
   "metadata": {},
   "outputs": [
    {
     "name": "stdout",
     "output_type": "stream",
     "text": [
      "402\n"
     ]
    }
   ],
   "source": [
    "# API: https://www.dcard.tw/_api/forums\n",
    "# 參考解答：④ 請問 Dcard 總共有幾個看板？\n",
    "\n",
    "import requests\n",
    "r = requests.get('https://www.dcard.tw/_api/forums')\n",
    "response = r.text\n",
    "\n",
    "import json\n",
    "data = json.loads(response)\n",
    "\n",
    "print(len(data))"
   ]
  },
  {
   "cell_type": "code",
   "execution_count": 126,
   "metadata": {
    "scrolled": false
   },
   "outputs": [
    {
     "data": {
      "text/plain": [
       "{'id': '7f125e07-4460-4ea5-80b5-33f0e9aafa0c',\n",
       " 'alias': 'midnightlab',\n",
       " 'name': '午夜實驗室',\n",
       " 'description': '午夜實驗室10/6、10/7即將在華山登場！這裏提供大家交流活動資訊與討論，請大家要遵守 Dcard 板規喔！',\n",
       " 'subscriptionCount': 1845,\n",
       " 'subscribed': False,\n",
       " 'read': False,\n",
       " 'createdAt': '2016-05-14T19:15:15.698Z',\n",
       " 'updatedAt': '2018-11-05T03:24:32.914Z',\n",
       " 'canPost': False,\n",
       " 'ignorePost': False,\n",
       " 'invisible': True,\n",
       " 'isSchool': False,\n",
       " 'fullyAnonymous': False,\n",
       " 'canUseNickname': True,\n",
       " 'postThumbnail': {'size': 'small'},\n",
       " 'shouldCategorized': False,\n",
       " 'shouldPostCategorized': False,\n",
       " 'titlePlaceholder': '',\n",
       " 'postTitlePlaceholder': '',\n",
       " 'ipCountryCondition': {},\n",
       " 'subcategories': [],\n",
       " 'topics': ['午夜實驗室'],\n",
       " 'nsfw': False,\n",
       " 'mediaThreshold': {},\n",
       " 'limitCountries': [],\n",
       " 'limitStage': 0,\n",
       " 'availableLayouts': ['classic'],\n",
       " 'postCount': {'last30Days': 1},\n",
       " 'favorite': False}"
      ]
     },
     "execution_count": 126,
     "metadata": {},
     "output_type": "execute_result"
    }
   ],
   "source": [
    "data[0]"
   ]
  },
  {
   "cell_type": "markdown",
   "metadata": {},
   "source": [
    "#### ⑤ 請問最熱門/最新建立的看板是哪一個？"
   ]
  },
  {
   "cell_type": "code",
   "execution_count": 17,
   "metadata": {},
   "outputs": [
    {
     "data": {
      "text/plain": [
       "'\\nYour Code\\n'"
      ]
     },
     "execution_count": 17,
     "metadata": {},
     "output_type": "execute_result"
    }
   ],
   "source": [
    "'''\n",
    "Your Code\n",
    "'''"
   ]
  },
  {
   "cell_type": "code",
   "execution_count": 128,
   "metadata": {},
   "outputs": [
    {
     "name": "stdout",
     "output_type": "stream",
     "text": [
      "西斯 352455\n"
     ]
    }
   ],
   "source": [
    "# 參考解答：⑤ 請問最熱門的看板是哪一個？ - 方法一\n",
    "\n",
    "MAX = 0\n",
    "NAME = ''\n",
    "\n",
    "for d in data:\n",
    "#     print(d['name'], d['subscriptionCount'])\n",
    "    if d['subscriptionCount'] > MAX:\n",
    "        MAX = d['subscriptionCount']\n",
    "        NAME = d['name']\n",
    "          \n",
    "print(NAME, MAX)"
   ]
  },
  {
   "cell_type": "code",
   "execution_count": 129,
   "metadata": {
    "scrolled": true
   },
   "outputs": [
    {
     "name": "stdout",
     "output_type": "stream",
     "text": [
      "西斯 352455\n",
      "感情 296181\n",
      "穿搭 237800\n",
      "美妝 227118\n",
      "星座 197147\n",
      "有趣 170920\n",
      "美食 168835\n",
      "女孩 149743\n",
      "心情 126168\n",
      "旅遊 116541\n",
      "寵物 108184\n",
      "理財 105641\n",
      "健身 104892\n",
      "梗圖 96344\n",
      "省錢 94486\n",
      "時事 91955\n",
      "Netflix 86598\n",
      "笑話 86020\n",
      "電影 85588\n",
      "彩虹 84032\n",
      "靈異 80789\n",
      "網路購物 80288\n",
      "手作 76367\n",
      "工作 74239\n",
      "閒聊 71612\n",
      "美髮 70736\n",
      "烹飪 70434\n",
      "YouTuber 68699\n",
      "減肥 67172\n",
      "居家生活 66610\n",
      "攝影 65253\n",
      "遊戲 64058\n",
      "語言 61481\n",
      "戲劇綜藝 59317\n",
      "動漫 57185\n",
      "追星 55997\n",
      "信用卡 53639\n",
      "考試 53555\n",
      "汽機車 53066\n",
      "歐美影集 52737\n",
      "3C 50795\n",
      "美甲 49439\n",
      "精品 49346\n",
      "打工職缺 48169\n",
      "音樂 47702\n",
      "西斯文學 47596\n",
      "Apple 46281\n",
      "留學 45224\n",
      "武漢肺炎 44698\n",
      "塔羅 43628\n",
      "香氛 41668\n",
      "曬貓 38958\n",
      "書籍 38160\n",
      "色情漫畫 36003\n",
      "隱形眼鏡 31995\n",
      "男孩 31072\n",
      "航空 30557\n",
      "球鞋 30149\n",
      "表特 29812\n",
      "日劇 28714\n",
      "實習職缺 28505\n",
      "金融 27745\n",
      "醫美 27725\n",
      "結婚 27513\n",
      "品酒 26843\n",
      "護理 26088\n",
      "新生季 25965\n",
      "BL 25052\n",
      "零食 24728\n",
      "籃球 24707\n",
      "咖啡 24668\n",
      "App 24355\n",
      "運動 24126\n",
      "牙齒矯正 23776\n",
      "小說 23715\n",
      "韓綜 23603\n",
      "設計 23472\n",
      "手搖 23412\n",
      "獨立音樂 23097\n",
      "插畫 23080\n",
      "研究所 23076\n",
      "文具 22759\n",
      "重機 22262\n",
      "超商 22026\n",
      "動物森友會 20739\n",
      "公職 20653\n",
      "寶可夢 20234\n",
      "日本生活 19840\n",
      "軟體工程師 19588\n",
      "BTS 19577\n",
      "韓星 19518\n",
      "廢文 19456\n",
      "台中 19254\n",
      "無痕生活 18390\n",
      "聖誕CiaoCiao 18351\n",
      "Les 17994\n",
      "蠟筆小新 17811\n",
      "男同志西斯 17802\n",
      "詩文 16413\n",
      "速食 16195\n",
      "手寫 15863\n",
      "行動支付 15374\n",
      "音樂活動 15203\n",
      "課程 14990\n",
      "漫威 14475\n",
      "嘻哈 14452\n",
      "淡江大學 14268\n",
      "臺灣大學 13998\n",
      "逢甲大學 13858\n",
      "成功大學 13807\n",
      "迪士尼 13752\n",
      "輔仁大學 13626\n",
      "生理用品 13120\n",
      "軍旅 12823\n",
      "棒球 12783\n",
      "建議回饋 12769\n",
      "量販店 12691\n",
      "醫事人員 12477\n",
      "英雄聯盟 12472\n",
      "玩具 12191\n",
      "韓國留學 12190\n",
      "百合 11754\n",
      "東海大學 11572\n",
      "文化大學 11451\n",
      "呷菜 11394\n",
      "中原大學 11313\n",
      "高雄 11298\n",
      "親子 11091\n",
      "港澳感情事 10798\n",
      "區塊鏈 10579\n",
      "桌遊 10484\n",
      "港澳 u life 10340\n",
      "港澳女生 10314\n",
      "航海王 10308\n",
      "南臺科大 10277\n",
      "五月天 10225\n",
      "自由潛水 10123\n",
      "朝陽科大 9977\n",
      "EXO 9926\n",
      "政治大學 9852\n",
      "銘傳大學 9733\n",
      "大型賽事 9636\n",
      "柯南 9462\n",
      "僑生交流 9318\n",
      "復古 9180\n",
      "建築 9161\n",
      "靜宜大學 9073\n",
      "中科大 9005\n",
      "官方公告 8997\n",
      "國立高雄科技大學 8849\n",
      "BDSM 8815\n",
      "小事公益 8711\n",
      "嘉南藥理大學 8559\n",
      "電子音樂 8558\n",
      "卡娜赫拉 8387\n",
      "台南應用科大 8256\n",
      "舞蹈 8236\n",
      "植物 8116\n",
      "弘光科技大學 7954\n",
      "樂高 7925\n",
      "偽娘 7900\n",
      "排球 7852\n",
      "臺灣警察專科學校 7820\n",
      "智慧家庭 7812\n",
      "義守大學 7784\n",
      "前端工程師 7721\n",
      "中興大學 7462\n",
      "會計 7461\n",
      "屏科大 7257\n",
      "世新大學 7045\n",
      "東吳大學 6838\n",
      "創客 6833\n",
      "虎尾科大 6742\n",
      "科學 6653\n",
      "亞洲大學 6435\n",
      "中職 6403\n",
      "羽球 6391\n",
      "清華大學 6287\n",
      "芳療 6276\n",
      "中央大學 6268\n",
      "輔英科技大學 6261\n",
      "文藻外語大學 6177\n",
      "跨性別 6142\n",
      "足球 6039\n",
      "崑山科大 5996\n",
      "高雄第一科大 5972\n",
      "高應大 5921\n",
      "Cosplay 5918\n",
      "勤益科大 5908\n",
      "五週年紀念 5825\n",
      "中正大學 5800\n",
      "災害回報 5797\n",
      "東華大學 5767\n",
      "實踐大學 5742\n",
      "致理科技大學 5711\n",
      "國立雲林科技大學 5551\n",
      "屏東大學 5550\n",
      "師範大學 5522\n",
      "嶺東科大 5466\n",
      "正修科大 5436\n",
      "交通大學 5431\n",
      "北科大 5374\n",
      "長榮大學 5337\n",
      "Minecraft 5316\n",
      "高雄餐旅大學 5251\n",
      "明新科技大學 5124\n",
      "台科大 5101\n",
      "歐洲生活 5092\n",
      "長庚大學 5090\n",
      "長庚科大 4973\n",
      "中華醫事科技大學 4890\n",
      "元智大學 4808\n",
      "交通運輸 4783\n",
      "樹德科技大學 4760\n",
      "中臺科大 4758\n",
      "僑光科技大學 4701\n",
      "龍華科技大學 4700\n",
      "嘉義大學 4681\n",
      "臺北大學 4628\n",
      "KKBOX 風雲榜 4623\n",
      "高雄海洋科大 4522\n",
      "畢業季 4275\n",
      "港澳西斯 4234\n",
      "樹人醫護管理專科學校 4233\n",
      "單車 4193\n",
      "海洋大學 4191\n",
      "中山大學 4186\n",
      "中山醫學大學 4047\n",
      "中央警察大學 4043\n",
      "醒吾科技大學 3989\n",
      "網球 3936\n",
      "高雄醫學大學 3916\n",
      "臺北商業大學 3915\n",
      "中國科大 3905\n",
      "大葉大學 3824\n",
      "聯合大學 3816\n",
      "視聽設備 3733\n",
      "德明財經科大 3683\n",
      "中國醫藥大學 3682\n",
      "鐵道 3669\n",
      "彰化師範大學 3594\n",
      "劇場 3408\n",
      "健行科大 3396\n",
      "臺北城市科大 3377\n",
      "高雄大學 3371\n",
      "國北護 3336\n",
      "新生醫護管理專科學校 3300\n",
      "乃木坂 46 3279\n",
      "宜蘭大學 3266\n",
      "管樂 3195\n",
      "馬偕醫護管理專科學校 3181\n",
      "時光膠囊 3121\n",
      "臺南大學 3116\n",
      "景文科大 3067\n",
      "萬能科大 3054\n",
      "暨南大學 2970\n",
      "金門大學 2911\n",
      "臺灣藝術大學 2864\n",
      "南華大學 2856\n",
      "明志科大 2830\n",
      "曬狗 2725\n",
      "美和科大 2700\n",
      "國立澎湖科技大學 2699\n",
      "港澳 FM 升學 2652\n",
      "臺北醫學大學 2576\n",
      "身心障礙 2561\n",
      "臺北市立大學 2553\n",
      "元培醫事科大 2532\n",
      "陰陽師 2528\n",
      "大仁科大 2484\n",
      "臺中教育大學 2367\n",
      "臺東大學 2366\n",
      "真理大學 2351\n",
      "高雄師範大學 2302\n",
      "桌球 2266\n",
      "建國科大 2262\n",
      "崇仁醫護管理專科學校 2187\n",
      "敏惠醫護管理專科學校 2178\n",
      "臺灣體育運動大學 2171\n",
      "AKB48 集團 2153\n",
      "新年快樂 2132\n",
      "慈濟科技大學 2118\n",
      "臺北藝術大學 2108\n",
      "布袋戲 1995\n",
      "慈濟大學 1965\n",
      "慈惠醫護管理專科學校 1955\n",
      "仁德醫護管理專科學校 1950\n",
      "玄奘大學 1910\n",
      "亞東技術學院 1906\n",
      "中華大學 1905\n",
      "開南大學 1896\n",
      "遠東科大 1892\n",
      "中華科大 1888\n",
      "爐石戰記 1882\n",
      "午夜實驗室 1845\n",
      "康寧大學 1747\n",
      "中華民國陸軍專科學校 1743\n",
      "修平科大 1692\n",
      "東南科大 1689\n",
      "耕莘健康管理專科學校 1671\n",
      "國防醫學院 1622\n",
      "南開科大 1618\n",
      "國立體育大學 1610\n",
      "經國管理暨健康學院 1603\n",
      "大同大學 1581\n",
      "佛光大學 1577\n",
      "警察 1560\n",
      "臺北教育大學 1560\n",
      "宵夜文 1519\n",
      "港澳 LGBT 1515\n",
      "育達科大 1481\n",
      "黎明技術學院 1423\n",
      "聖約翰科大 1416\n",
      "不能只有我看到 1396\n",
      "求職 1392\n",
      "陽明大學 1364\n",
      "吳鳳科大 1344\n",
      "明道大學 1304\n",
      "育英醫護管理專科學校 1283\n",
      "國立臺南護理專科學校 1266\n",
      "港澳日常 1263\n",
      "高苑科大 1236\n",
      "港澳搞 GAG 1196\n",
      "港澳煲劇 1192\n",
      "麥可傑克森 1152\n",
      "國防大學 1146\n",
      "海外工作 1104\n",
      "臺南藝術大學 1077\n",
      "台北海洋科技大學 1069\n",
      "科技業 1031\n",
      "環球科技大學 1002\n",
      "法律人 980\n",
      "宏國德霖科技大學 976\n",
      "香港中文大學 945\n",
      "創業 918\n",
      "國營 905\n",
      "東方設計大學 899\n",
      "華夏科大 873\n",
      "聖母醫護管理專科學校 860\n",
      "新竹教育大學 853\n",
      "馬偕醫學院 813\n",
      "華梵大學 802\n",
      "教師 787\n",
      "中州科大 769\n",
      "台灣首府大學 730\n",
      "香港理工大學 728\n",
      "南亞技術學院 726\n",
      "崇右影藝科技大學 715\n",
      "港澳二手物品交流 704\n",
      "自由工作者 690\n",
      "餐飲業 650\n",
      "香港大學 639\n",
      "國立臺東專科學校 631\n",
      "保險業 461\n",
      "中華民國海軍軍官學校 459\n",
      "房仲業 457\n",
      "香港科技大學 448\n",
      "空軍航空技術學院 448\n",
      "香港城市大學 432\n",
      "母親節 428\n",
      "消防 418\n",
      "父親節 408\n",
      "服務業 400\n",
      "香港浸會大學 371\n",
      "大華科大 349\n",
      "臺灣戲曲學院 342\n",
      "蘭陽技術學院 324\n",
      "逢甲大學二手物交流 315\n",
      "康寧醫護暨管理專科學校 312\n",
      "大同技術學院 310\n",
      "港澳工作 265\n",
      "香港公開大學 261\n",
      "南榮科大 260\n",
      "中信金融管理學院 254\n",
      "臺灣觀光學院 250\n",
      "香港教育大學 249\n",
      "香港恒生大學 225\n",
      "和春技術學院 224\n",
      "稻江科技暨管理學院 215\n",
      "淡江大學二手物交流 214\n",
      "成功大學二手物交流 207\n",
      "香港樹仁大學 205\n",
      "87 187\n",
      "香港嶺南大學 175\n",
      "大漢技術學院 173\n",
      "高美醫護管理專科學校 155\n",
      "進階西斯版 138\n",
      "亞太創意技術學院 137\n",
      "小禮物 130\n",
      "法鼓文理學院 112\n",
      "測試香港看板 101\n",
      "刪文 32\n",
      "暗黑新生攻略 31\n",
      "HK 贊助活動 20\n",
      "公告 18\n",
      "臨時回報 16\n",
      "公告測試區 1\n",
      "廣告 Demo 0\n",
      "港澳 ACG 0\n",
      "港澳時事 0\n",
      "港澳 Beauty 0\n",
      "選手 0\n"
     ]
    }
   ],
   "source": [
    "# 參考解答：⑤ 請問最熱門的看板是哪一個？ - 方法二\n",
    "\n",
    "sortData = sorted(data, key=lambda k: k['subscriptionCount'])\n",
    "# newlist = sorted(list_to_be_sorted, key=lambda k: k['name']) \n",
    "# reference: https://stackoverflow.com/questions/72899/how-do-i-sort-a-list-of-dictionaries-by-a-value-of-the-dictionary\n",
    "\n",
    "for d in sortData[::-1]:\n",
    "    print(d['name'], d['subscriptionCount'])"
   ]
  },
  {
   "cell_type": "code",
   "execution_count": 130,
   "metadata": {
    "scrolled": false
   },
   "outputs": [
    {
     "name": "stdout",
     "output_type": "stream",
     "text": [
      "房仲業 2020-04-20T06:00:11.736Z\n",
      "法律人 2020-04-20T05:58:32.228Z\n",
      "自由工作者 2020-04-20T05:57:31.723Z\n",
      "消防 2020-04-20T05:56:57.620Z\n",
      "創業 2020-04-20T05:56:27.713Z\n",
      "國營 2020-04-20T05:55:41.006Z\n",
      "保險業 2020-04-20T05:54:56.992Z\n",
      "警察 2020-04-20T05:51:58.957Z\n",
      "求職 2020-04-20T05:51:34.863Z\n",
      "海外工作 2020-04-20T05:51:07.457Z\n",
      "服務業 2020-04-20T05:50:17.769Z\n",
      "教師 2020-04-20T05:49:42.835Z\n",
      "科技業 2020-04-20T05:48:11.419Z\n",
      "餐飲業 2020-04-20T05:47:48.890Z\n",
      "港澳工作 2020-03-31T05:57:36.148Z\n",
      "動物森友會 2020-03-31T03:24:35.412Z\n",
      "曬狗 2020-03-24T03:24:26.856Z\n",
      "不能只有我看到 2020-03-24T03:23:42.682Z\n",
      "宵夜文 2020-03-24T03:23:09.812Z\n",
      "表特 2020-03-10T03:44:54.104Z\n",
      "廣告 Demo 2020-03-09T04:40:44.327Z\n",
      "HK 贊助活動 2020-03-05T04:28:23.785Z\n",
      "測試香港看板 2020-02-25T10:01:27.581Z\n",
      "歐洲生活 2020-02-24T06:40:28.102Z\n",
      "BDSM 2020-02-04T07:53:33.573Z\n",
      "色情漫畫 2020-02-04T07:53:23.573Z\n",
      "男同志西斯 2020-02-04T07:53:13.573Z\n",
      "西斯文學 2020-02-04T07:53:03.573Z\n",
      "西斯 2020-02-04T07:52:53.573Z\n",
      "建議回饋 2020-02-04T07:52:43.573Z\n",
      "災害回報 2020-02-04T07:52:33.573Z\n",
      "廢文 2020-02-04T07:52:23.573Z\n",
      "高雄 2020-02-04T07:52:13.573Z\n",
      "台中 2020-02-04T07:52:03.573Z\n",
      "詩文 2020-02-04T07:51:53.573Z\n",
      "小說 2020-02-04T07:51:43.573Z\n",
      "書籍 2020-02-04T07:51:33.573Z\n",
      "語言 2020-02-04T07:51:23.573Z\n",
      "公職 2020-02-04T07:51:13.573Z\n",
      "會計 2020-02-04T07:51:03.573Z\n",
      "考試 2020-02-04T07:50:53.573Z\n",
      "研究所 2020-02-04T07:50:43.573Z\n",
      "課程 2020-02-04T07:50:33.573Z\n",
      "韓國留學 2020-02-04T07:50:23.573Z\n",
      "留學 2020-02-04T07:50:13.573Z\n",
      "實習職缺 2020-02-04T07:50:03.573Z\n",
      "打工職缺 2020-02-04T07:49:53.573Z\n",
      "日本生活 2020-02-04T07:49:43.573Z\n",
      "科學 2020-02-04T07:49:33.573Z\n",
      "創客 2020-02-04T07:49:23.573Z\n",
      "前端工程師 2020-02-04T07:49:13.573Z\n",
      "軟體工程師 2020-02-04T07:49:03.573Z\n",
      "醫事人員 2020-02-04T07:48:53.573Z\n",
      "護理 2020-02-04T07:48:43.573Z\n",
      "工作 2020-02-04T07:48:33.573Z\n",
      "時事 2020-02-04T07:48:23.573Z\n",
      "金融 2020-02-04T07:48:13.573Z\n",
      "區塊鏈 2020-02-04T07:48:03.573Z\n",
      "行動支付 2020-02-04T07:47:53.573Z\n",
      "省錢 2020-02-04T07:47:43.573Z\n",
      "信用卡 2020-02-04T07:47:33.573Z\n",
      "理財 2020-02-04T07:47:23.573Z\n",
      "視聽設備 2020-02-04T07:47:13.573Z\n",
      "Apple 2020-02-04T07:47:03.573Z\n",
      "智慧家庭 2020-02-04T07:46:53.573Z\n",
      "App 2020-02-04T07:46:43.573Z\n",
      "3C 2020-02-04T07:46:33.573Z\n",
      "軍旅 2020-02-04T07:46:23.573Z\n",
      "男孩 2020-02-04T07:46:13.573Z\n",
      "身心障礙 2020-02-04T07:46:03.573Z\n",
      "大型賽事 2020-02-04T07:45:53.573Z\n",
      "單車 2020-02-04T07:45:43.573Z\n",
      "自由潛水 2020-02-04T07:45:33.573Z\n",
      "減肥 2020-02-04T07:45:23.573Z\n",
      "健身 2020-02-04T07:45:13.573Z\n",
      "舞蹈 2020-02-04T07:45:03.573Z\n",
      "桌球 2020-02-04T07:44:53.573Z\n",
      "排球 2020-02-04T07:44:43.573Z\n",
      "羽球 2020-02-04T07:44:33.573Z\n",
      "籃球 2020-02-04T07:44:23.573Z\n",
      "足球 2020-02-04T07:44:13.573Z\n",
      "網球 2020-02-04T07:44:03.573Z\n",
      "中職 2020-02-04T07:43:53.573Z\n",
      "棒球 2020-02-04T07:43:43.573Z\n",
      "運動 2020-02-04T07:43:33.573Z\n",
      "蠟筆小新 2020-02-04T07:43:23.573Z\n",
      "卡娜赫拉 2020-02-04T07:43:13.573Z\n",
      "航海王 2020-02-04T07:43:03.573Z\n",
      "柯南 2020-02-04T07:42:53.573Z\n",
      "迪士尼 2020-02-04T07:42:43.573Z\n",
      "寶可夢 2020-02-04T07:42:33.573Z\n",
      "Cosplay 2020-02-04T07:42:23.573Z\n",
      "百合 2020-02-04T07:42:13.573Z\n",
      "BL 2020-02-04T07:42:03.573Z\n",
      "動漫 2020-02-04T07:41:53.573Z\n",
      "英雄聯盟 2020-02-04T07:41:43.573Z\n",
      "Minecraft 2020-02-04T07:41:33.573Z\n",
      "陰陽師 2020-02-04T07:41:23.573Z\n",
      "爐石戰記 2020-02-04T07:41:13.573Z\n",
      "桌遊 2020-02-04T07:41:03.573Z\n",
      "遊戲 2020-02-04T07:40:53.573Z\n",
      "劇場 2020-02-04T07:40:43.573Z\n",
      "布袋戲 2020-02-04T07:40:33.573Z\n",
      "復古 2020-02-04T07:40:23.573Z\n",
      "嘻哈 2020-02-04T07:40:13.573Z\n",
      "管樂 2020-02-04T07:40:03.573Z\n",
      "音樂活動 2020-02-04T07:39:53.573Z\n",
      "電子音樂 2020-02-04T07:39:43.573Z\n",
      "獨立音樂 2020-02-04T07:39:33.573Z\n",
      "KKBOX 風雲榜 2020-02-04T07:39:23.573Z\n",
      "音樂 2020-02-04T07:39:13.573Z\n",
      "韓綜 2020-02-04T07:39:03.573Z\n",
      "日劇 2020-02-04T07:38:53.573Z\n",
      "漫威 2020-02-04T07:38:43.573Z\n",
      "Netflix 2020-02-04T07:38:33.573Z\n",
      "歐美影集 2020-02-04T07:38:23.573Z\n",
      "戲劇綜藝 2020-02-04T07:38:13.573Z\n",
      "電影 2020-02-04T07:38:03.573Z\n",
      "旅遊 2020-02-04T07:37:53.573Z\n",
      "量販店 2020-02-04T07:37:43.573Z\n",
      "超商 2020-02-04T07:37:33.573Z\n",
      "零食 2020-02-04T07:37:23.573Z\n",
      "速食 2020-02-04T07:37:13.573Z\n",
      "呷菜 2020-02-04T07:37:03.573Z\n",
      "咖啡 2020-02-04T07:36:53.573Z\n",
      "品酒 2020-02-04T07:36:43.573Z\n",
      "手搖 2020-02-04T07:36:33.573Z\n",
      "烹飪 2020-02-04T07:36:23.573Z\n",
      "美食 2020-02-04T07:36:13.573Z\n",
      "靈異 2020-02-04T07:36:03.573Z\n",
      "塔羅 2020-02-04T07:35:53.573Z\n",
      "星座 2020-02-04T07:35:43.573Z\n",
      "交通運輸 2020-02-04T07:35:33.573Z\n",
      "鐵道 2020-02-04T07:35:23.573Z\n",
      "航空 2020-02-04T07:35:13.573Z\n",
      "重機 2020-02-04T07:35:03.573Z\n",
      "汽機車 2020-02-04T07:34:53.573Z\n",
      "植物 2020-02-04T07:34:43.573Z\n",
      "攝影 2020-02-04T07:34:33.573Z\n",
      "曬貓 2020-02-04T07:34:23.573Z\n",
      "寵物 2020-02-04T07:34:13.573Z\n",
      "無痕生活 2020-02-04T07:34:03.573Z\n",
      "芳療 2020-02-04T07:33:53.573Z\n",
      "建築 2020-02-04T07:33:43.573Z\n",
      "居家生活 2020-02-04T07:33:33.573Z\n",
      "樂高 2020-02-04T07:33:23.573Z\n",
      "玩具 2020-02-04T07:33:13.573Z\n",
      "文具 2020-02-04T07:33:03.573Z\n",
      "手寫 2020-02-04T07:32:53.573Z\n",
      "設計 2020-02-04T07:32:43.573Z\n",
      "插畫 2020-02-04T07:32:33.573Z\n",
      "手作 2020-02-04T07:32:23.573Z\n",
      "麥可傑克森 2020-02-04T07:32:13.573Z\n",
      "五月天 2020-02-04T07:32:03.573Z\n",
      "EXO 2020-02-04T07:31:53.573Z\n",
      "韓星 2020-02-04T07:31:43.573Z\n",
      "乃木坂 46 2020-02-04T07:31:33.573Z\n",
      "AKB48 集團 2020-02-04T07:31:23.573Z\n",
      "BTS 2020-02-04T07:31:13.573Z\n",
      "追星 2020-02-04T07:31:03.573Z\n",
      "Les 2020-02-04T07:30:53.573Z\n",
      "偽娘 2020-02-04T07:30:43.573Z\n",
      "跨性別 2020-02-04T07:30:33.573Z\n",
      "彩虹 2020-02-04T07:30:23.573Z\n",
      "親子 2020-02-04T07:30:13.573Z\n",
      "結婚 2020-02-04T07:30:03.573Z\n",
      "生理用品 2020-02-04T07:29:53.573Z\n",
      "女孩 2020-02-04T07:29:43.573Z\n",
      "梗圖 2020-02-04T07:29:33.573Z\n",
      "笑話 2020-02-04T07:29:23.573Z\n",
      "有趣 2020-02-04T07:29:13.573Z\n",
      "閒聊 2020-02-04T07:29:03.573Z\n",
      "心情 2020-02-04T07:28:53.573Z\n",
      "感情 2020-02-04T07:28:43.573Z\n",
      "精品 2020-02-04T07:28:33.573Z\n",
      "網路購物 2020-02-04T07:28:23.573Z\n",
      "球鞋 2020-02-04T07:28:13.573Z\n",
      "穿搭 2020-02-04T07:28:03.573Z\n",
      "隱形眼鏡 2020-02-04T07:27:53.573Z\n",
      "牙齒矯正 2020-02-04T07:27:43.573Z\n",
      "美髮 2020-02-04T07:27:33.573Z\n",
      "香氛 2020-02-04T07:27:23.573Z\n",
      "醫美 2020-02-04T07:27:13.573Z\n",
      "美甲 2020-02-04T07:27:03.573Z\n",
      "美妝 2020-02-04T07:26:53.573Z\n",
      "畢業季 2020-02-04T07:26:43.573Z\n",
      "新生季 2020-02-04T07:26:33.573Z\n",
      "小事公益 2020-02-04T07:26:23.573Z\n",
      "官方公告 2020-02-04T07:26:13.573Z\n",
      "YouTuber 2020-02-04T07:26:03.573Z\n",
      "新年快樂 2020-02-04T07:25:53.573Z\n",
      "武漢肺炎 2020-02-04T07:25:43.573Z\n",
      "港澳 ACG 2020-01-02T03:23:17.450Z\n",
      "港澳時事 2020-01-02T03:22:36.962Z\n",
      "港澳 Beauty 2020-01-02T03:21:28.406Z\n",
      "港澳二手物品交流 2019-10-28T05:54:45.436Z\n",
      "暗黑新生攻略 2019-08-29T07:54:27.047Z\n",
      "港澳西斯 2019-08-27T06:19:10.672Z\n",
      "香港教育大學 2019-07-12T06:35:02.237Z\n",
      "香港公開大學 2019-07-12T06:33:22.697Z\n",
      "香港恒生大學 2019-07-12T06:32:22.094Z\n",
      "香港樹仁大學 2019-07-12T06:31:09.329Z\n",
      "香港嶺南大學 2019-07-12T06:30:01.400Z\n",
      "香港城市大學 2019-07-12T06:29:24.155Z\n",
      "香港浸會大學 2019-07-12T06:28:17.423Z\n",
      "香港理工大學 2019-07-12T04:41:32.029Z\n",
      "香港科技大學 2019-07-12T04:41:00.999Z\n",
      "香港大學 2019-07-12T04:34:57.095Z\n",
      "港澳 FM 升學 2019-05-13T05:48:19.129Z\n",
      "港澳搞 GAG 2019-04-25T07:04:25.679Z\n",
      "港澳煲劇 2019-04-25T07:02:19.323Z\n",
      "港澳 LGBT 2019-04-25T07:01:35.991Z\n",
      "香港中文大學 2019-04-22T05:08:45.266Z\n",
      "空軍航空技術學院 2019-01-06T03:02:50.556Z\n",
      "港澳女生 2018-12-28T07:08:45.995Z\n",
      "僑生交流 2018-12-28T07:07:50.290Z\n",
      "港澳感情事 2018-12-28T07:07:27.625Z\n",
      "港澳 u life 2018-12-28T07:06:56.597Z\n",
      "中華民國海軍軍官學校 2018-11-05T09:59:16.508Z\n",
      "港澳日常 2018-10-03T03:41:18.556Z\n",
      "87 2018-08-06T06:51:15.844Z\n",
      "逢甲大學二手物交流 2018-07-10T09:17:37.232Z\n",
      "成功大學二手物交流 2018-07-10T09:16:36.328Z\n",
      "國立臺東專科學校 2018-07-09T04:31:45.489Z\n",
      "淡江大學二手物交流 2018-07-09T03:42:43.499Z\n",
      "中信金融管理學院 2018-06-28T07:34:54.275Z\n",
      "進階西斯版 2018-03-30T06:52:31.953Z\n",
      "國立高雄科技大學 2018-03-26T10:02:39.841Z\n",
      "小禮物 2017-12-13T09:55:46.177Z\n",
      "選手 2017-08-22T05:22:03.771Z\n",
      "臺灣警察專科學校 2017-05-16T06:20:22.296Z\n",
      "中華民國陸軍專科學校 2017-04-10T03:17:59.696Z\n",
      "公告 2017-02-25T06:52:03.771Z\n",
      "公告測試區 2017-02-25T06:52:03.771Z\n",
      "國防醫學院 2016-11-21T02:59:11.853Z\n",
      "敏惠醫護管理專科學校 2016-09-23T09:35:46.370Z\n",
      "崇仁醫護管理專科學校 2016-09-23T09:35:46.370Z\n",
      "仁德醫護管理專科學校 2016-09-23T09:35:46.370Z\n",
      "樹人醫護管理專科學校 2016-09-23T09:35:46.370Z\n",
      "耕莘健康管理專科學校 2016-09-23T09:35:46.370Z\n",
      "馬偕醫護管理專科學校 2016-09-23T09:35:46.370Z\n",
      "新生醫護管理專科學校 2016-09-23T09:35:46.370Z\n",
      "慈惠醫護管理專科學校 2016-09-23T09:35:46.370Z\n",
      "國立臺南護理專科學校 2016-09-23T09:35:46.370Z\n",
      "育英醫護管理專科學校 2016-09-23T09:35:46.370Z\n",
      "高美醫護管理專科學校 2016-09-23T09:35:46.370Z\n",
      "康寧醫護暨管理專科學校 2016-09-23T09:35:46.370Z\n",
      "聖母醫護管理專科學校 2016-09-23T09:35:46.370Z\n",
      "崇右影藝科技大學 2016-08-25T18:29:03.231Z\n",
      "東方設計大學 2016-08-25T18:29:03.231Z\n",
      "和春技術學院 2016-08-25T18:29:03.231Z\n",
      "法鼓文理學院 2016-08-25T18:29:03.231Z\n",
      "大同技術學院 2016-08-25T18:29:03.231Z\n",
      "亞太創意技術學院 2016-08-25T18:29:03.231Z\n",
      "臺灣觀光學院 2016-08-25T18:29:03.231Z\n",
      "蘭陽技術學院 2016-08-25T18:29:03.231Z\n",
      "大漢技術學院 2016-08-25T18:29:03.231Z\n",
      "稻江科技暨管理學院 2016-08-18T18:53:54.897Z\n",
      "黎明技術學院 2016-08-18T18:50:23.055Z\n",
      "臺灣戲曲學院 2016-08-18T18:47:58.851Z\n",
      "南亞技術學院 2016-08-18T18:44:16.852Z\n",
      "台北海洋科技大學 2016-08-18T18:38:39.911Z\n",
      "宏國德霖科技大學 2016-08-18T18:35:01.312Z\n",
      "馬偕醫學院 2016-08-18T18:27:41.261Z\n",
      "臺北城市科大 2016-08-18T18:22:48.862Z\n",
      "大華科大 2016-08-11T18:27:45.354Z\n",
      "修平科大 2016-08-11T18:20:03.638Z\n",
      "華夏科大 2016-08-11T18:11:28.240Z\n",
      "中州科大 2016-08-11T18:05:24.012Z\n",
      "南榮科大 2016-08-11T18:02:32.485Z\n",
      "玄奘大學 2016-08-11T17:59:39.117Z\n",
      "台灣首府大學 2016-08-11T17:57:41.668Z\n",
      "大仁科大 2016-08-04T18:23:54.405Z\n",
      "國立體育大學 2016-08-04T18:19:23.896Z\n",
      "元培醫事科大 2016-08-04T18:16:42.779Z\n",
      "中華科大 2016-08-04T18:11:04.073Z\n",
      "高苑科大 2016-08-04T18:04:49.716Z\n",
      "育達科大 2016-08-04T18:01:14.367Z\n",
      "康寧大學 2016-07-28T19:17:49.215Z\n",
      "臺南藝術大學 2016-07-28T19:15:29.137Z\n",
      "美和科大 2016-07-28T19:11:43.700Z\n",
      "明道大學 2016-07-28T19:08:30.462Z\n",
      "聖約翰科大 2016-07-28T19:06:33.725Z\n",
      "南開科大 2016-07-28T19:02:27.416Z\n",
      "東南科大 2016-07-28T19:01:43.032Z\n",
      "建國科大 2016-07-21T19:00:37.222Z\n",
      "經國管理暨健康學院 2016-07-21T18:55:31.107Z\n",
      "亞東技術學院 2016-07-21T18:52:51.982Z\n",
      "萬能科大 2016-07-21T18:49:41.232Z\n",
      "佛光大學 2016-07-21T18:43:04.800Z\n",
      "華梵大學 2016-07-21T18:40:38.584Z\n",
      "醒吾科技大學 2016-07-15T04:06:37.278Z\n",
      "臺灣體育運動大學 2016-07-15T04:06:37.278Z\n",
      "環球科技大學 2016-07-15T04:06:37.278Z\n",
      "中華醫事科技大學 2016-07-15T04:06:37.278Z\n",
      "僑光科技大學 2016-07-15T04:06:37.278Z\n",
      "崑山科大 2016-07-05T17:58:22.279Z\n",
      "國立澎湖科技大學 2016-07-05T17:51:08.282Z\n",
      "中臺科大 2016-07-05T17:46:58.770Z\n",
      "吳鳳科大 2016-07-05T17:39:14.612Z\n",
      "遠東科大 2016-07-05T17:34:13.377Z\n",
      "正修科大 2016-06-29T02:36:10.703Z\n",
      "國立雲林科技大學 2016-06-21T18:50:14.053Z\n",
      "龍華科技大學 2016-06-20T03:02:48.846Z\n",
      "刪文 2016-05-23T02:15:15.879Z\n",
      "景文科大 2016-05-23T01:15:15.877Z\n",
      "德明財經科大 2016-05-23T00:15:15.876Z\n",
      "中華大學 2016-05-22T23:15:15.875Z\n",
      "臺南大學 2016-05-22T22:15:15.873Z\n",
      "弘光科技大學 2016-05-22T21:15:15.872Z\n",
      "開南大學 2016-05-22T20:15:15.870Z\n",
      "致理科技大學 2016-05-22T19:15:15.869Z\n",
      "慈濟大學 2016-05-22T18:15:15.868Z\n",
      "慈濟科技大學 2016-05-22T17:15:15.866Z\n",
      "中國科大 2016-05-22T16:15:15.865Z\n",
      "輔英科技大學 2016-05-22T15:15:15.864Z\n",
      "嶺東科大 2016-05-22T14:15:15.862Z\n",
      "南華大學 2016-05-22T13:15:15.861Z\n",
      "大葉大學 2016-05-22T12:15:15.860Z\n",
      "金門大學 2016-05-22T11:15:15.859Z\n",
      "台南應用科大 2016-05-22T10:15:15.857Z\n",
      "臺東大學 2016-05-22T09:15:15.856Z\n",
      "明新科技大學 2016-05-22T08:15:15.855Z\n",
      "高雄醫學大學 2016-05-22T07:15:15.853Z\n",
      "嘉南藥理大學 2016-05-22T06:15:15.852Z\n",
      "真理大學 2016-05-22T05:15:15.850Z\n",
      "樹德科技大學 2016-05-22T04:15:15.849Z\n",
      "健行科大 2016-05-22T03:15:15.848Z\n",
      "亞洲大學 2016-05-22T02:15:15.846Z\n",
      "明志科大 2016-05-22T01:15:15.845Z\n",
      "屏科大 2016-05-22T00:15:15.843Z\n",
      "長榮大學 2016-05-21T23:15:15.842Z\n",
      "中國醫藥大學 2016-05-21T22:15:15.841Z\n",
      "高雄餐旅大學 2016-05-21T21:15:15.839Z\n",
      "南臺科大 2016-05-21T20:15:15.838Z\n",
      "國防大學 2016-05-21T19:15:15.836Z\n",
      "朝陽科大 2016-05-21T18:15:15.835Z\n",
      "高雄海洋科大 2016-05-21T17:15:15.833Z\n",
      "靜宜大學 2016-05-21T16:15:15.832Z\n",
      "屏東大學 2016-05-21T15:15:15.831Z\n",
      "臺中教育大學 2016-05-21T14:15:15.829Z\n",
      "臺北商業大學 2016-05-21T13:15:15.828Z\n",
      "大同大學 2016-05-21T12:15:15.827Z\n",
      "新竹教育大學 2016-05-21T11:15:15.825Z\n",
      "虎尾科大 2016-05-21T10:15:15.824Z\n",
      "宜蘭大學 2016-05-21T09:15:15.823Z\n",
      "銘傳大學 2016-05-21T08:15:15.821Z\n",
      "勤益科大 2016-05-21T07:15:15.820Z\n",
      "長庚科大 2016-05-21T06:15:15.819Z\n",
      "高應大 2016-05-21T05:15:15.817Z\n",
      "文藻外語大學 2016-05-21T04:15:15.816Z\n",
      "中山醫學大學 2016-05-21T03:15:15.814Z\n",
      "中原大學 2016-05-21T02:15:15.813Z\n",
      "臺北醫學大學 2016-05-21T01:15:15.812Z\n",
      "長庚大學 2016-05-21T00:15:15.811Z\n",
      "義守大學 2016-05-20T23:15:15.809Z\n",
      "國北護 2016-05-20T22:15:15.808Z\n",
      "中科大 2016-05-20T21:15:15.806Z\n",
      "高雄大學 2016-05-20T20:15:15.805Z\n",
      "嘉義大學 2016-05-20T19:15:15.803Z\n",
      "東吳大學 2016-05-20T18:15:15.802Z\n",
      "文化大學 2016-05-20T17:15:15.801Z\n",
      "臺北市立大學 2016-05-20T16:15:15.799Z\n",
      "臺北藝術大學 2016-05-20T15:15:15.798Z\n",
      "臺北教育大學 2016-05-20T14:15:15.796Z\n",
      "世新大學 2016-05-20T13:15:15.794Z\n",
      "臺灣藝術大學 2016-05-20T12:15:15.793Z\n",
      "陽明大學 2016-05-20T11:15:15.792Z\n",
      "實踐大學 2016-05-20T10:15:15.790Z\n",
      "中正大學 2016-05-20T09:15:15.788Z\n",
      "中央警察大學 2016-05-20T08:15:15.787Z\n",
      "臺北大學 2016-05-20T07:15:15.786Z\n",
      "中山大學 2016-05-20T06:15:15.784Z\n",
      "海洋大學 2016-05-20T05:15:15.783Z\n",
      "聯合大學 2016-05-20T04:15:15.782Z\n",
      "元智大學 2016-05-20T03:15:15.780Z\n",
      "中興大學 2016-05-20T02:15:15.779Z\n",
      "台科大 2016-05-20T01:15:15.777Z\n",
      "高雄第一科大 2016-05-20T00:15:15.776Z\n",
      "東海大學 2016-05-19T23:15:15.774Z\n",
      "暨南大學 2016-05-19T22:15:15.773Z\n",
      "清華大學 2016-05-19T21:15:15.771Z\n",
      "逢甲大學 2016-05-19T20:15:15.770Z\n",
      "中央大學 2016-05-19T19:15:15.768Z\n",
      "彰化師範大學 2016-05-19T18:15:15.767Z\n",
      "高雄師範大學 2016-05-19T17:15:15.765Z\n",
      "師範大學 2016-05-19T16:15:15.764Z\n",
      "輔仁大學 2016-05-19T15:15:15.762Z\n",
      "北科大 2016-05-19T14:15:15.761Z\n",
      "成功大學 2016-05-19T13:15:15.759Z\n",
      "東華大學 2016-05-19T12:15:15.757Z\n",
      "淡江大學 2016-05-19T11:15:15.756Z\n",
      "交通大學 2016-05-19T10:15:15.754Z\n",
      "政治大學 2016-05-19T09:15:15.753Z\n",
      "臺灣大學 2016-05-19T08:15:15.752Z\n",
      "臨時回報 2016-05-18T07:20:35.139Z\n",
      "五週年紀念 2016-05-18T07:20:35.139Z\n",
      "父親節 2016-05-17T00:12:15.741Z\n",
      "聖誕CiaoCiao 2016-05-17T00:11:15.741Z\n",
      "母親節 2016-05-14T22:15:15.698Z\n",
      "時光膠囊 2016-05-14T20:15:15.698Z\n",
      "午夜實驗室 2016-05-14T19:15:15.698Z\n"
     ]
    }
   ],
   "source": [
    "# 參考解答：⑤ 請問最新建立的看板是哪一個？\n",
    "\n",
    "sortData = sorted(data, key=lambda k: k['createdAt'])\n",
    "\n",
    "for d in sortData[::-1]:\n",
    "    print(d['name'], d['createdAt'])"
   ]
  },
  {
   "cell_type": "markdown",
   "metadata": {},
   "source": [
    "### 練習：利用下列 API，計算每個地區（縣市層級）的剩餘口罩數量：\n",
    "* URL：https://quality.data.gov.tw/dq_download_json.php?nid=116285&md5_url=2150b333756e64325bdbc4a5fd45fad1"
   ]
  },
  {
   "cell_type": "code",
   "execution_count": 18,
   "metadata": {},
   "outputs": [
    {
     "data": {
      "text/plain": [
       "'\\nYour Code\\n'"
      ]
     },
     "execution_count": 18,
     "metadata": {},
     "output_type": "execute_result"
    }
   ],
   "source": [
    "# 練習：利用下列 API，計算每個地區（縣市層級）的剩餘口罩數量：\n",
    "# URL：https://quality.data.gov.tw/dq_download_json.php?nid=116285&md5_url=2150b333756e64325bdbc4a5fd45fad1\n",
    "\n",
    "import requests\n",
    "# 引入函式庫\n",
    "\n",
    "r = requests.get('https://raw.githubusercontent.com/kiang/pharmacies/master/json/points.json')\n",
    "# 想要爬資料的目標網址\n",
    "response = r.text\n",
    "# 模擬發送請求的動作\n",
    "\n",
    "import json\n",
    "data = json.loads(response)\n",
    "\n",
    "\n",
    "'''\n",
    "Your Code\n",
    "'''"
   ]
  },
  {
   "cell_type": "code",
   "execution_count": 19,
   "metadata": {},
   "outputs": [
    {
     "data": {
      "text/plain": [
       "{'花蓮縣': 142509,\n",
       " '臺東縣': 129737,\n",
       " '澎湖縣': 63550,\n",
       " '屏東縣': 447064,\n",
       " '高雄市': 1024577,\n",
       " '臺南市': 998594,\n",
       " '嘉義縣': 229251,\n",
       " '雲林縣': 418504,\n",
       " '嘉義市': 143906,\n",
       " '南投縣': 230928,\n",
       " '彰化縣': 676596,\n",
       " '臺中市': 1340688,\n",
       " '桃園市': 977191,\n",
       " '新竹縣': 185230,\n",
       " '苗栗縣': 250140,\n",
       " '新竹市': 138021,\n",
       " '新北市': 1647643,\n",
       " '宜蘭縣': 325820,\n",
       " '基隆市': 231185,\n",
       " '臺北市': 896731,\n",
       " '金門縣': 34538,\n",
       " '台東縣': 1053,\n",
       " '連江縣': 13418,\n",
       " '台北市': 106617}"
      ]
     },
     "execution_count": 19,
     "metadata": {},
     "output_type": "execute_result"
    }
   ],
   "source": [
    "# 參考解答\n",
    "\n",
    "r = {}\n",
    "\n",
    "for d in data['features']:\n",
    "\n",
    "    addr = d['properties']['address'][:3]\n",
    "    masks = d['properties']['mask_adult']\n",
    "    \n",
    "    r[addr] = r.get(addr, 0) + masks\n",
    "    \n",
    "r"
   ]
  },
  {
   "cell_type": "markdown",
   "metadata": {},
   "source": [
    "## 05 如何使用 Python 存取 網頁 資料"
   ]
  },
  {
   "cell_type": "markdown",
   "metadata": {},
   "source": [
    "### 網頁資料取得： Requests"
   ]
  },
  {
   "cell_type": "code",
   "execution_count": 134,
   "metadata": {},
   "outputs": [],
   "source": [
    "import requests\n",
    "# 引入函式庫\n",
    "r = requests.get('https://github.com/timeline.json')\n",
    "# 想要爬資料的目標網址\n",
    "response = r.text\n",
    "# 模擬發送請求的動作"
   ]
  },
  {
   "cell_type": "code",
   "execution_count": 135,
   "metadata": {},
   "outputs": [
    {
     "name": "stdout",
     "output_type": "stream",
     "text": [
      "{\"message\":\"Hello there, wayfaring stranger. If you’re reading this then you probably didn’t see our blog post a couple of years back announcing that this API would go away: http://git.io/17AROg Fear not, you should be able to get what you need from the shiny new Events API instead.\",\"documentation_url\":\"https://developer.github.com/v3/activity/events/#list-public-events\"}\n"
     ]
    },
    {
     "ename": "TypeError",
     "evalue": "string indices must be integers",
     "output_type": "error",
     "traceback": [
      "\u001b[0;31m----------------------------------------------------------------------\u001b[0m",
      "\u001b[0;31mTypeError\u001b[0m                            Traceback (most recent call last)",
      "\u001b[0;32m<ipython-input-135-74366ae2a7a5>\u001b[0m in \u001b[0;36m<module>\u001b[0;34m()\u001b[0m\n\u001b[1;32m      1\u001b[0m \u001b[0mprint\u001b[0m\u001b[0;34m(\u001b[0m\u001b[0mresponse\u001b[0m\u001b[0;34m)\u001b[0m\u001b[0;34m\u001b[0m\u001b[0m\n\u001b[0;32m----> 2\u001b[0;31m \u001b[0mresponse\u001b[0m\u001b[0;34m[\u001b[0m\u001b[0;34m'message'\u001b[0m\u001b[0;34m]\u001b[0m\u001b[0;34m\u001b[0m\u001b[0m\n\u001b[0m",
      "\u001b[0;31mTypeError\u001b[0m: string indices must be integers"
     ]
    }
   ],
   "source": [
    "print(response)\n",
    "response['message']"
   ]
  },
  {
   "cell_type": "code",
   "execution_count": 143,
   "metadata": {},
   "outputs": [
    {
     "name": "stdout",
     "output_type": "stream",
     "text": [
      "<class 'str'>\n",
      "{\"message\":\"Hello there, wayfaring stranger. If you’re reading this then you probably didn’t see our\n"
     ]
    }
   ],
   "source": [
    "print(type(response))\n",
    "print(response[:100])"
   ]
  },
  {
   "cell_type": "code",
   "execution_count": 144,
   "metadata": {},
   "outputs": [
    {
     "name": "stdout",
     "output_type": "stream",
     "text": [
      "<class 'dict'>\n",
      "Hello there, wayfaring stranger. If you’re reading this then you probably didn’t see our blog post a couple of years back announcing that this API would go away: http://git.io/17AROg Fear not, you should be able to get what you need from the shiny new Events API instead.\n"
     ]
    }
   ],
   "source": [
    "import json\n",
    "response = json.loads(response)\n",
    "\n",
    "print(type(response))\n",
    "print(response['message'])"
   ]
  },
  {
   "cell_type": "markdown",
   "metadata": {},
   "source": [
    "### 怎麼帶參數？"
   ]
  },
  {
   "cell_type": "code",
   "execution_count": 145,
   "metadata": {},
   "outputs": [
    {
     "name": "stdout",
     "output_type": "stream",
     "text": [
      "http://httpbin.org/get?key1=value1&key2=value2\n"
     ]
    }
   ],
   "source": [
    "payload = {'key1': 'value1', 'key2': 'value2'}\n",
    "r = requests.get(\"http://httpbin.org/get\", params=payload)\n",
    "print(r.url)"
   ]
  },
  {
   "cell_type": "code",
   "execution_count": 146,
   "metadata": {},
   "outputs": [
    {
     "name": "stdout",
     "output_type": "stream",
     "text": [
      "http://httpbin.org/get?key1=value1&key2=value2\n"
     ]
    }
   ],
   "source": [
    "r = requests.get(\"http://httpbin.org/get?key1=value1&key2=value2\")\n",
    "print(r.url)"
   ]
  },
  {
   "cell_type": "code",
   "execution_count": 133,
   "metadata": {
    "scrolled": true
   },
   "outputs": [
    {
     "name": "stdout",
     "output_type": "stream",
     "text": [
      "http://httpbin.org/get\n"
     ]
    }
   ],
   "source": [
    "payload= {'key1': 'value1', 'key2': 'value2'}\n",
    "r = requests.post(\"http://httpbin.org/get\", data=payload)\n",
    "print(r.url)"
   ]
  },
  {
   "cell_type": "markdown",
   "metadata": {},
   "source": [
    "### Example：AICoin"
   ]
  },
  {
   "cell_type": "code",
   "execution_count": 20,
   "metadata": {},
   "outputs": [
    {
     "name": "stdout",
     "output_type": "stream",
     "text": [
      "<!DOCTYPE html><html style=\"height:100%;width:100%\"><head><meta http-equiv=\"Content-Type\" content=\"text/html; charset=utf-8\" /><meta http-equiv=\"Server\" content=\"CloudWAF\" /><title id=\"title\">访问被拦截！</title><script>function bindall() {var requestid = \"30-30-13-20200512231913-de234a90\";if(requestid==null || requestid == \"\"){return;}document.getElementById(\"d\").innerText = requestid;}</script></head><body onload=\"bindall()\" style=\"height:100%;width:100%;margin:0px;font-family:Microsoft yahei\"><div><style type=\"text/css\">\t.button{float:right;margin-right:2rem;text-decoration:none;background:white;color:#e94d4c;padding: 5px 15px 5px 15px;font-size:1rem;font-family: 微软雅黑,宋体,Arial,Helvetica,Verdana,sans-serif;font-weight:bold;border-radius:0rem;border: none;-webkit-transition:all linear 0.30s;-moz-transition:all linear 0.30s;}.button:hover{text-decoration:none;background:#e94d4c;color:#f2f2f2;}</style><input type=\"button\" class=\"button\" onclick=\"changeLanguageZh()\" value=\"中文\"/><input type=\"button\" class=\"button\"  onclick=\"changeLanguageEn()\" value=\"English\"/></div><div style=\"min-height:13.125rem;height:17%;width:100%\"><div style=\"margin-top:3.75rem;margin-left:18.4375rem;height:52.38;width:83.04%;\"><svg xmlns=\"http://www.w3.org/2000/svg\" style=\"width: 3.125rem;height: 3.125rem\" viewBox=\"0 0 50 50\"><path fill=\"#e84e4c\" d=\"M25,0A25,25,0,1,0,50,25,25,25,0,0,0,25,0Zm1.6,37.16H22.85V33.41H26.6Zm0-6.63H22.85L22.35,13H27.1Z\"/></svg><font style=\"font-family:MicrosoftYaHei;font-size:4.375rem;color:#e94d4c;margin-left: 0.75rem;font-weight: bold;\">418</font></div><div style=\"margin-left:18.4375rem;height:47.62%;width:83.04%;\"><font id=\"a\" style=\"font-family:MicrosoftYaHei;font-size:1.875rem;color:#999999;word-wrap:break-word;\">您的请求疑似攻击行为！</font><p style=\"font-family:MicrosoftYaHei;font-size:0.9rem;color:#999999;word-wrap:break-word;\"><span id=\"c\">事件ID：</span><span style=\"color:#499df2\" id=\"d\">False alarm ID</p></div></div><div style=\"height:15.625rem;width:100%;min-width:105rem;\"><div style=\"margin-left:18.4375rem;float:left;width:50rem\"><p id=\"b\" style=\"margin-top:10px\">如果您是站长，您可以前往WAF控制台进行误报屏蔽设置，让您的访问不再被拦截</p></div></div></body><script>function changeLanguageZh() {document.getElementById(\"title\").innerHTML = \"访问被拦截！\";document.getElementById(\"a\").innerHTML = \"您的请求疑似攻击行为！\";document.getElementById(\"b\").innerHTML = \"如果您是站长，您可以前往WAF控制台进行误报屏蔽设置，让您的访问不再被拦截\";document.getElementById(\"c\").innerHTML = \"事件ID：\";}function changeLanguageEn() {document.getElementById(\"title\").innerHTML = \"The access is blocked.\";document.getElementById(\"a\").innerHTML = \"Sorry, your request has been intercepted because it appears to be an attack.\";document.getElementById(\"b\").innerHTML = \"If you are the webmaster, configure related parameters on the WAF console to allow your requests.\";document.getElementById(\"c\").innerHTML = \"Event ID:\";}var language = navigator.language || navigator.browserLanguage;if (language.indexOf('zh') > -1) {changeLanguageZh();} else if (language.indexOf('en') > -1) {changeLanguageEn();} else{changeLanguageZh();}</script></html>\n",
      "\n"
     ]
    }
   ],
   "source": [
    "# Example（沒有加 Headers 會失敗）： https://www.aicoin.cn/\n",
    "import requests\n",
    "\n",
    "url = 'https://www.aicoin.cn/'\n",
    "r = requests.get(url)\n",
    "r.encoding = 'utf-8'\n",
    "print(r.text)\n"
   ]
  },
  {
   "cell_type": "code",
   "execution_count": 21,
   "metadata": {},
   "outputs": [
    {
     "name": "stdout",
     "output_type": "stream",
     "text": [
      "https://www.aicoin.cn/\n",
      "<!DOCTYPE html><html lang=\"zh\"><head><meta charSet=\"utf-8\" class=\"next-head\"/><meta name=\"viewport\" content=\"width=device-width, initial-scale=1\" class=\"jsx-1021118270 next-head\"/><meta name=\"description\" content=\"AICoin拥有全面而优质的区块链资源，提供实时行情、专业K线、数据分析、资产管理等专业服务，更高效地提供有价值的信息，提升资产管理的效率，成为行情数据分析的领跑者。\" class=\"jsx-1021118270 next-head\"/><link rel=\"canonical\" href=\"https://www.aicoin.cn?lang=zh\" class=\"jsx-1021118270 next-head\"/><title class=\"jsx-1021118270 next-head\">AICoin - 为价值 · 更高效</title><link rel=\"preload\" href=\"https://assets-www.aicoin.net.cn/beta-v20/_next/static/eslbDhYekPIHA5yNh4Th_/pages\n"
     ]
    }
   ],
   "source": [
    "# Example（加 Headers）： https://www.aicoin.cn/\n",
    "import requests\n",
    "\n",
    "url = 'https://www.aicoin.cn/'\n",
    "headers = {\n",
    "    'Accept': 'text/html,application/xhtml+xml,application/xml;q=0.9,image/webp,image/apng,*/*;q=0.8,application/signed-exchange;v=b3',\n",
    "    'Accept-Encoding': 'gzip, deflate, br',\n",
    "    'Accept-Language': 'zh-TW,zh;q=0.9,en-US;q=0.8,en;q=0.7,zh-CN;q=0.6,ja;q=0.5',\n",
    "    'Cache-Control': 'max-age=0',\n",
    "    'Connection': 'keep-alive',\n",
    "    'Upgrade-Insecure-Requests': '1',\n",
    "    'User-Agent': 'Mozilla/5.0 (Macintosh; Intel Mac OS X 10_13_6) AppleWebKit/537.36 (KHTML, like Gecko) Chrome/73.0.3683.103 Safari/537.36'\n",
    "}\n",
    "r = requests.get(url, headers=headers)\n",
    "r.encoding = 'utf-8'\n",
    "print(r.url)\n",
    "# 加 Headers 可以成功取得資料\n",
    "print(r.text[0:600])"
   ]
  },
  {
   "cell_type": "markdown",
   "metadata": {},
   "source": [
    "### Example： Simple HTML"
   ]
  },
  {
   "cell_type": "code",
   "execution_count": 23,
   "metadata": {},
   "outputs": [
    {
     "name": "stdout",
     "output_type": "stream",
     "text": [
      "<html>\n",
      "    <head>\n",
      "        <title>The Links</title>\n",
      "    </head>\n",
      "    <body>\n",
      "        <p class=\"title\" id=\"title\">\n",
      "            <b>The Links</b>\n",
      "        </p>\n",
      "        <p class=\"story\">\n",
      "            <a href=\"http://example.com/link1\" class=\"link\" id=\"link1\">Link 1</a>,\n",
      "            <a href=\"http://example.com/link2\" class=\"link\" id=\"link2\">Link 2</a>,\n",
      "            <a href=\"http://example.com/link3\" class=\"link\" id=\"link3\">Link 3</a>\n",
      "        </p>\n",
      "        <p class=\"story\">\n",
      "            Hello World\n",
      "        </p>\n",
      "    </body>\n",
      "</html>\n",
      "\n",
      "<class 'str'>\n"
     ]
    }
   ],
   "source": [
    "# Example： https://optimalrosyelement--v123582.repl.co/\n",
    "\n",
    "import requests\n",
    "\n",
    "url = 'https://optimalrosyelement--v123582.repl.co/'\n",
    "r = requests.get(url)\n",
    "print(r.text)\n",
    "print(type(r.text))"
   ]
  },
  {
   "cell_type": "markdown",
   "metadata": {},
   "source": [
    "### 動手實作\n",
    "\n",
    "判斷下列網站需不需要加上 Headers 才能正常回傳：\n",
    "\n",
    "* https://www.104.com.tw/cust/list/index/\n",
    "* https://www.dcard.tw/f\n",
    "* https://www.zhihu.com/explore\n"
   ]
  },
  {
   "cell_type": "markdown",
   "metadata": {},
   "source": [
    "### 動手實作\n",
    "\n",
    "* https://www.104.com.tw/cust/list/index/"
   ]
  },
  {
   "cell_type": "code",
   "execution_count": 24,
   "metadata": {},
   "outputs": [
    {
     "data": {
      "text/plain": [
       "'\\nYour Code\\n'"
      ]
     },
     "execution_count": 24,
     "metadata": {},
     "output_type": "execute_result"
    }
   ],
   "source": [
    "'''\n",
    "Your Code\n",
    "'''"
   ]
  },
  {
   "cell_type": "code",
   "execution_count": 25,
   "metadata": {},
   "outputs": [
    {
     "name": "stdout",
     "output_type": "stream",
     "text": [
      "<!DOCTYPE html>\r\n",
      "<!--[if lt IE 7]>     <html class=\"lt-ie9 lt-ie8 lt-ie7\"> <![endif]-->\r\n",
      "<!--[if IE 7]>        <html class=\"lt-ie9 lt-ie8\"> <![endif]-->\r\n",
      "<!--[if IE 8]>        <html class=\"lt-ie9\"> <![endif]-->\r\n",
      "<!--[if gt IE 8]><!--><html lang=\"zh-tw\"><!--<![endif]-->\r\n",
      "<head>\r\n",
      "<meta charset=\"UTF-8\">\r\n",
      "<meta http-equiv=\"X-UA-Compatible\" content=\"IE=edge\" />\r\n",
      "<meta http-equiv=\"pragma\" content=\"no-cache\" />\r\n",
      "<meta http-equiv=\"cache-control\" content=\"no-cache\" />\r\n",
      "\r\n",
      "\r\n",
      "<link rel=\"stylesheet\" type=\"text/css\" href=\"https://static.104.com.tw/104main/jb/css/common.css?v=20170330\" />\n",
      "<link rel=\"stylesheet\" type=\"text/css\" href=\"https://static.104.com.tw/bubble/css/alert.css?v=20170330\" />\n",
      "<link rel=\"stylesheet\" type=\"text/css\" href=\"https://static.104.com.tw/104main/pda/css/category_org.css?v=20170330\" />\n",
      "<link rel=\"stylesheet\" type=\"text/css\" href=\"https://www.104.com.tw/css/AutoSuggest.css?v=20170330\" />\n",
      "<link rel=\"stylesheet\" type=\"text/css\" href=\"https://static.104.com.tw/104main/jb/css/search.css?v=20170330\" />\n",
      "<script type=\"text/javascript\" src=\"https://static.104.com.tw/104main/js/jquery/jquery.min.js?v=20170330\"></script>\n",
      "<script type=\"text/javascript\" src=\"https://static.104.com.tw/104main/jb/js/jbajax.js?v=20170330\"></script>\n",
      "<script type=\"text/javascript\" src=\"https://static.104.com.tw/bubble/js/mainjs.js?by=jbbar&amp;v=20170330\" charset=\"UTF-8\"></script>\n",
      "<script type=\"text/javascript\" charset=\"UTF-8\">\n",
      "/*<![CDATA[*/\n",
      "var mateLetter=''; var toPlus='false';\n",
      "var enPid='';\n",
      "var companyConds={\"page\":\"1\",\"order\":{\"no\":1},\"mode\":\"s\",\"jobsource\":\"checkc\"};\n",
      "var g_baseUrl='/cust';\n",
      "var g_staticUrl='https://static.104.com.tw/104main';\n",
      "var g_mainUrl='https://www.104.com.tw';\n",
      "var g_pdaUrl='https://pda.104.com.tw';\n",
      "var g_accountsUrl='https://accounts.104.com.tw';\n",
      "/*]]>*/\n",
      "</script>\n",
      "<title>全部公司 - 104 人力銀行</title>\r\n",
      "<meta name=\"description\" content=\"104是最多求職者使用的人力銀行，提供專業便利的求職服務，包括查詢工作、刊登履歷、薪資行情、職涯測驗、手機找工作等，並榮獲國際ISO 27001資安認證，更重視求職者個資安全 - 104人力銀行，不只找工作，為你找方向！\">\r\n",
      "<meta name=\"keyword\" content=\"104,工作,找工作,求職,全職,兼職,工讀,打工,履歷,自傳,就業,薪資行情,104人力銀行,人力銀行,派遣,獵才,家教,外包,接案,教育,進修,證照,job,career,resume\">\r\n",
      "<!--[if lt IE 9]>\r\n",
      "<script src=\"https://static.104.com.tw/104main/js/html5shiv.js\"></script>\r\n",
      "<script src=\"https://static.104.com.tw/104main/jb/js/lib/es5-shim.min.js\"></script>\r\n",
      "<script src=\"https://static.104.com.tw/104main/jb/js/lib/es5-sham.min.js\"></script>\r\n",
      "<![endif]-->\r\n",
      "</head>\r\n",
      "<body>\r\n",
      "<div id=\"globalbar\"><div id=\"bar_m104\"><div id=\"global_bk\"></div></div></div>\r\n",
      "<header id=\"hd-min\">\r\n",
      "\t<h1>\r\n",
      "\t\t<a href=\"https://www.104.com.tw\" title=\"104人力銀行\">\r\n",
      "\t\t\t<img src=\"https://static.104.com.tw/logo/104logo_o_119x24.png\" alt=\"104 人力銀行\">\r\n",
      "\t\t</a>\r\n",
      "\t</h1>\r\n",
      "\t<div class=\"ad-box banner\">\r\n",
      "\t\t<div id=\"aidma_130\"></div>\r\n",
      "\t</div>\r\n",
      "\t<div class=\"ad-box text\">強力放送\r\n",
      "\t\t<div id=\"aidma_134\"></div>\r\n",
      "\t</div>\r\n",
      "</header>\r\n",
      "\n",
      "<div id=\"hd-search\">\n",
      "\t<div class=\"mid\">\n",
      "\t\t<div class=\"fillin\">\n",
      "\t\t\t<form action=\"/cust/list/index\" method=\"post\" id=\"hd-conds\">\n",
      "                <input type=\"text\" id=\"fill-keyword\" class=\"fi\n"
     ]
    }
   ],
   "source": [
    "# 參考解答：https://www.104.com.tw/cust/list/index/\n",
    "url = 'https://www.104.com.tw/cust/list/index/'\n",
    "r = requests.get(url)\n",
    "r.encoding = 'utf-8'\n",
    "\n",
    "print(r.text[0:3000])"
   ]
  },
  {
   "cell_type": "markdown",
   "metadata": {},
   "source": [
    "### 動手實作\n",
    "\n",
    "* https://www.dcard.tw/f"
   ]
  },
  {
   "cell_type": "code",
   "execution_count": 26,
   "metadata": {},
   "outputs": [
    {
     "data": {
      "text/plain": [
       "'\\nYour Code\\n'"
      ]
     },
     "execution_count": 26,
     "metadata": {},
     "output_type": "execute_result"
    }
   ],
   "source": [
    "'''\n",
    "Your Code\n",
    "'''"
   ]
  },
  {
   "cell_type": "code",
   "execution_count": 27,
   "metadata": {},
   "outputs": [
    {
     "name": "stdout",
     "output_type": "stream",
     "text": [
      "<!DOCTYPE html><html lang=\"zh-TW\"><head prefix=\"og: http://ogp.me/ns#\" itemscope=\"\" itemType=\"https://schema.org/WebSite\"><meta charSet=\"utf-8\"/><meta http-equiv=\"X-UA-Compatible\" content=\"IE=edge\"/><meta name=\"viewport\" content=\"width=device-width, initial-scale=1, minimum-scale=1\"/><meta name=\"apple-mobile-web-app-status-bar-style\" content=\"default\"/><link rel=\"stylesheet\" type=\"text/css\" href=\"https://fonts.googleapis.com/css?family=Roboto:400,300\"/><meta name=\"application-name\" content=\"Dcard\"/><meta name=\"apple-itunes-app\" content=\"app-id=951353454\"/><meta name=\"theme-color\" content=\"#006aa6\"/><meta name=\"mobile-web-app-capable\" content=\"yes\"/><meta name=\"apple-mobile-web-app-capable\" content=\"yes\"/><meta name=\"supported-color-schemes\" content=\"light\"/><meta property=\"fb:app_id\" content=\"211628828926493\"/><meta property=\"fb:pages\" content=\"178875832200695,577748865730563,1333515469994506,619122564952487,804004803032067,178024805867764\"/><meta property=\"al:ios:app_store_id\" content=\"951353454\"/><meta property=\"al:ios:app_name\" content=\"Dcard\"/><meta property=\"al:android:package\" content=\"com.sparkslab.dcardreader\"/><meta property=\"al:android:app_name\" content=\"Dcard\"/><link rel=\"manifest\" href=\"/_next/static/manifest.json\"/><link rel=\"icon\" type=\"image/png\" sizes=\"16x16\" href=\"/_next/static/images/icon-16-1daa7474e5fe761a7239d12c56b88680.png\"/><link rel=\"icon\" type=\"image/png\" sizes=\"24x24\" href=\"/_next/static/images/icon-24-7bfd8a52a6756e15edaa617b106a5c55.png\"/><link rel=\"icon\" type=\"image/png\" sizes=\"32x32\" href=\"/_next/static/images/icon-32-54392e6e864b1f822d54a543ee54a0f9.png\"/><link rel=\"icon\" type=\"image/png\" sizes=\"192x192\" href=\"/_next/static/images/icon-192-49149beb434e1f6bccac918f6608564c.png\"/><link rel=\"apple-touch-icon\" type=\"image/png\" sizes=\"57x57\" href=\"/_next/static/images/icon-57-c95fcd930b41dbc6de0495348939582f.png\"/><link rel=\"apple-touch-icon\" type=\"image/png\" sizes=\"72x72\" href=\"/_next/static/images/icon-72-69b64cb9aadc811dce34ea6ac772cd8f.png\"/><link rel=\"apple-touch-icon\" type=\"image/png\" sizes=\"76x76\" href=\"/_next/static/images/icon-76-67203a784694f8378d2f51f24970e2f7.png\"/><link rel=\"apple-touch-icon\" type=\"image/png\" sizes=\"114x114\" href=\"/_next/static/images/icon-114-c58f911deb58868e8cc68ea1e09cc688.png\"/><link rel=\"apple-touch-icon\" type=\"image/png\" sizes=\"120x120\" href=\"/_next/static/images/icon-120-f3ada61716c0cc460c2cbe72b18fb9b4.png\"/><link rel=\"apple-touch-icon\" type=\"image/png\" sizes=\"144x144\" href=\"/_next/static/images/icon-144-679d873aa4b58f1117915545d3fdfa1d.png\"/><link rel=\"apple-touch-icon\" type=\"image/png\" sizes=\"152x152\" href=\"/_next/static/images/icon-152-b7ec982f1f49f590c97611e0e5e9f7f3.png\"/><link rel=\"apple-touch-icon\" type=\"image/png\" sizes=\"180x180\" href=\"/_next/static/images/icon-180-2665760e1b88b5af7a3cfbdc532bae20.png\"/><link rel=\"shortcut icon\" type=\"image/png\" href=\"/_next/static/images/icon-32-54392e6e864b1f822d54a543ee54a0f9.png\"/><script>(function(w,d,s,l,i){w[l]=w[l]||[];w[l].push({'gtm.start':\n",
      "      new Date().getTime(),event:'gtm.js'});var f=d.getElementsByTagName(s)[0],\n",
      "      j=d.createElement(s),dl=l!='dataLayer'?'&l='+l:'';j.async=true;j.src=\n",
      "      'https://www.googletagmanager.com/gtm.js?id='+i+dl;f.parentNode.insertBefore(j,f);\n",
      "      })(window,document,'script','dataLayer','GTM-TWLTW4M');</script><meta name=\"viewport\" content=\"width=device-width\"/><meta charSet=\"utf-8\"/><meta name=\"description\" content=\"廣受年輕人喜愛的 Dcard 是台灣最大的匿名交流平台，舉凡時事話題、感情心情、吃喝玩樂、學習工作等，都有卡友陪你聊！\"/><meta property=\"og:description\" content=\"廣受年輕人喜愛的 Dcard 是台灣最大的匿名交流平台，舉凡時事話題、感情心情、吃喝玩樂、學習工作等，都有卡友陪你聊！\"/><meta property=\"og:type\" content=\"website\"/><meta property=\"twitter:description\" content=\"廣受年輕人喜愛的 Dcard 是台灣最大的匿名交流平台，舉凡時事話題、感情心情、吃喝玩樂、學習工作等，都有卡友陪你聊！\"/><meta name=\"image\" itemProp=\"image\" content=\"https://www.dcard.tw/images/landing.png\"/><meta property=\"og:image\" content=\"https://www.dcard.tw/images/landing.png\"/><meta property=\"og:image:secure_url\" content=\"https://www.dcard.tw/images/landing.png\"/><meta property=\"twitter:image\" content=\"https://www.dcard.tw/images/landing.png\"/><title>Dcard</title><link rel=\"canonical\" href=\"https://www.dcard.tw/f\"/><meta name=\"url\" itemProp=\"url\" content=\"https://www.dcard.tw/f\"/><meta property=\"og:site_name\" content=\"Dcard\"/><meta property=\"og:title\" content=\"Dcard\"/><meta property=\"og:url\" content=\"https://www.dcard.tw/f\"/><meta property=\"twitter:title\" content=\"Dcard\"/><meta property=\"al:android:url\" content=\"dcard://category/all/%E5%85%A8%E9%83%A8/hot\"/><meta property=\"al:ios:url\" content=\"dcard://category\"/><script type=\"application/ld+json\">{\"@context\":\"https://schema.org\",\"@type\":\"CollectionPage\",\"name\":\"Dcard\",\"url\":\"https://www.dcard.tw/f\",\"description\":\"廣受年輕人喜愛的 Dcard 是台灣最大的匿名交流平台，舉凡時事話題、感情心情、吃喝玩樂、學習工作等，都有卡友陪你聊！\"}</script><script type=\"application/ld+json\">{\"@context\":\"https://schema.org\",\"@type\":\"BreadcrumbList\",\"itemListElement\":[{\"@type\":\"ListItem\",\"position\":1,\"name\":\"Dcard\",\"item\":\"https://www.dcard.tw\"},{\"@type\":\"ListItem\",\"position\":2,\"name\":\"全部\",\"item\":\"https://www.dcard.tw/f\"}]}</script><meta name=\"next-head-count\" content=\"21\"/><link rel=\"preload\" href=\"/_next/static/css/6d1bbc10820647a103b8.css\" as=\"style\"/><link rel=\"stylesheet\" href=\"/_next/static/css/6d1bbc10820647a103b8.css\"/><link rel=\"preload\" href=\"/_next/static/52bcf242ee60235fe24ce9c48a524cce9b77aaa6/pages/_app.js\" as=\"script\"/><link rel=\"preload\" href=\"/_next/static/52bcf242ee60235fe24ce9c48a524cce9b77aaa6/pages/forum.js\" as=\"script\"/><link rel=\"preload\" href=\"/_next/static/chunks/commons.ef6f81eac3f4e187fc2b.js\" as=\"script\"/><link rel=\"preload\" href=\"/_next/static/chunks/c3d12abc2ad7d44878c3e6cf5badb48fdc119785.bb2bd2a6ee1764715c76.js\" as=\"script\"/><link rel=\"preload\" href=\"/_next/static/chunks/0b88e6cdfe80eecdb0b20888cf123300043074ab.0cb6d5524a8e67e93889.js\" as=\"script\"/><link rel=\"preload\" href=\"/_next/static/chunks/107.5ee0261ddb6944fa4227.js\" as=\"script\"/><link rel=\"preload\" href=\"/_next/static/chunks/b8fe1adef5fd6531526f2c96176fe229521\n"
     ]
    }
   ],
   "source": [
    "# 參考解答：https://www.dcard.tw/f\n",
    "\n",
    "url = 'https://www.dcard.tw/f'\n",
    "r = requests.get(url)\n",
    "r.encoding = 'utf-8'\n",
    "\n",
    "print(r.text[0:6000])"
   ]
  },
  {
   "cell_type": "markdown",
   "metadata": {},
   "source": [
    "### 動手實作\n",
    "\n",
    "* https://www.zhihu.com/explore"
   ]
  },
  {
   "cell_type": "code",
   "execution_count": 28,
   "metadata": {},
   "outputs": [
    {
     "data": {
      "text/plain": [
       "'\\nYour Code\\n'"
      ]
     },
     "execution_count": 28,
     "metadata": {},
     "output_type": "execute_result"
    }
   ],
   "source": [
    "'''\n",
    "Your Code\n",
    "'''"
   ]
  },
  {
   "cell_type": "code",
   "execution_count": 29,
   "metadata": {},
   "outputs": [
    {
     "name": "stdout",
     "output_type": "stream",
     "text": [
      "<html>\r\n",
      "<head><title>400 Bad Request</title></head>\r\n",
      "<body bgcolor=\"white\">\r\n",
      "<center><h1>400 Bad Request</h1></center>\r\n",
      "<hr><center>openresty</center>\r\n",
      "</body>\r\n",
      "</html>\r\n",
      "\n"
     ]
    }
   ],
   "source": [
    "# 參考解答：https://www.zhihu.com/explore\n",
    "\n",
    "url = 'https://www.zhihu.com/explore'\n",
    "r = requests.get(url)\n",
    "r.encoding = 'utf-8'\n",
    "\n",
    "print(r.text[0:600])"
   ]
  },
  {
   "cell_type": "markdown",
   "metadata": {},
   "source": [
    "### 怎麼檢查 Request 要帶哪些 Header？"
   ]
  },
  {
   "cell_type": "code",
   "execution_count": 30,
   "metadata": {},
   "outputs": [
    {
     "ename": "AttributeError",
     "evalue": "'set' object has no attribute 'items'",
     "output_type": "error",
     "traceback": [
      "\u001b[0;31m---------------------------------------------------------------------------\u001b[0m",
      "\u001b[0;31mAttributeError\u001b[0m                            Traceback (most recent call last)",
      "\u001b[0;32m<ipython-input-30-fe5f1dca058c>\u001b[0m in \u001b[0;36m<module>\u001b[0;34m()\u001b[0m\n\u001b[1;32m      9\u001b[0m     '''\n\u001b[1;32m     10\u001b[0m }\n\u001b[0;32m---> 11\u001b[0;31m \u001b[0mr\u001b[0m \u001b[0;34m=\u001b[0m \u001b[0mrequests\u001b[0m\u001b[0;34m.\u001b[0m\u001b[0mget\u001b[0m\u001b[0;34m(\u001b[0m\u001b[0murl\u001b[0m\u001b[0;34m,\u001b[0m \u001b[0mheaders\u001b[0m\u001b[0;34m=\u001b[0m\u001b[0mheaders\u001b[0m\u001b[0;34m)\u001b[0m\u001b[0;34m\u001b[0m\u001b[0m\n\u001b[0m\u001b[1;32m     12\u001b[0m \u001b[0;34m\u001b[0m\u001b[0m\n\u001b[1;32m     13\u001b[0m \u001b[0mr\u001b[0m\u001b[0;34m.\u001b[0m\u001b[0mencoding\u001b[0m \u001b[0;34m=\u001b[0m \u001b[0;34m'utf-8'\u001b[0m\u001b[0;34m\u001b[0m\u001b[0m\n",
      "\u001b[0;32m~/.virtualenvs/py3/lib/python3.6/site-packages/requests/api.py\u001b[0m in \u001b[0;36mget\u001b[0;34m(url, params, **kwargs)\u001b[0m\n\u001b[1;32m     70\u001b[0m \u001b[0;34m\u001b[0m\u001b[0m\n\u001b[1;32m     71\u001b[0m     \u001b[0mkwargs\u001b[0m\u001b[0;34m.\u001b[0m\u001b[0msetdefault\u001b[0m\u001b[0;34m(\u001b[0m\u001b[0;34m'allow_redirects'\u001b[0m\u001b[0;34m,\u001b[0m \u001b[0;32mTrue\u001b[0m\u001b[0;34m)\u001b[0m\u001b[0;34m\u001b[0m\u001b[0m\n\u001b[0;32m---> 72\u001b[0;31m     \u001b[0;32mreturn\u001b[0m \u001b[0mrequest\u001b[0m\u001b[0;34m(\u001b[0m\u001b[0;34m'get'\u001b[0m\u001b[0;34m,\u001b[0m \u001b[0murl\u001b[0m\u001b[0;34m,\u001b[0m \u001b[0mparams\u001b[0m\u001b[0;34m=\u001b[0m\u001b[0mparams\u001b[0m\u001b[0;34m,\u001b[0m \u001b[0;34m**\u001b[0m\u001b[0mkwargs\u001b[0m\u001b[0;34m)\u001b[0m\u001b[0;34m\u001b[0m\u001b[0m\n\u001b[0m\u001b[1;32m     73\u001b[0m \u001b[0;34m\u001b[0m\u001b[0m\n\u001b[1;32m     74\u001b[0m \u001b[0;34m\u001b[0m\u001b[0m\n",
      "\u001b[0;32m~/.virtualenvs/py3/lib/python3.6/site-packages/requests/api.py\u001b[0m in \u001b[0;36mrequest\u001b[0;34m(method, url, **kwargs)\u001b[0m\n\u001b[1;32m     56\u001b[0m     \u001b[0;31m# cases, and look like a memory leak in others.\u001b[0m\u001b[0;34m\u001b[0m\u001b[0;34m\u001b[0m\u001b[0m\n\u001b[1;32m     57\u001b[0m     \u001b[0;32mwith\u001b[0m \u001b[0msessions\u001b[0m\u001b[0;34m.\u001b[0m\u001b[0mSession\u001b[0m\u001b[0;34m(\u001b[0m\u001b[0;34m)\u001b[0m \u001b[0;32mas\u001b[0m \u001b[0msession\u001b[0m\u001b[0;34m:\u001b[0m\u001b[0;34m\u001b[0m\u001b[0m\n\u001b[0;32m---> 58\u001b[0;31m         \u001b[0;32mreturn\u001b[0m \u001b[0msession\u001b[0m\u001b[0;34m.\u001b[0m\u001b[0mrequest\u001b[0m\u001b[0;34m(\u001b[0m\u001b[0mmethod\u001b[0m\u001b[0;34m=\u001b[0m\u001b[0mmethod\u001b[0m\u001b[0;34m,\u001b[0m \u001b[0murl\u001b[0m\u001b[0;34m=\u001b[0m\u001b[0murl\u001b[0m\u001b[0;34m,\u001b[0m \u001b[0;34m**\u001b[0m\u001b[0mkwargs\u001b[0m\u001b[0;34m)\u001b[0m\u001b[0;34m\u001b[0m\u001b[0m\n\u001b[0m\u001b[1;32m     59\u001b[0m \u001b[0;34m\u001b[0m\u001b[0m\n\u001b[1;32m     60\u001b[0m \u001b[0;34m\u001b[0m\u001b[0m\n",
      "\u001b[0;32m~/.virtualenvs/py3/lib/python3.6/site-packages/requests/sessions.py\u001b[0m in \u001b[0;36mrequest\u001b[0;34m(self, method, url, params, data, headers, cookies, files, auth, timeout, allow_redirects, proxies, hooks, stream, verify, cert, json)\u001b[0m\n\u001b[1;32m    496\u001b[0m             \u001b[0mhooks\u001b[0m\u001b[0;34m=\u001b[0m\u001b[0mhooks\u001b[0m\u001b[0;34m,\u001b[0m\u001b[0;34m\u001b[0m\u001b[0m\n\u001b[1;32m    497\u001b[0m         )\n\u001b[0;32m--> 498\u001b[0;31m         \u001b[0mprep\u001b[0m \u001b[0;34m=\u001b[0m \u001b[0mself\u001b[0m\u001b[0;34m.\u001b[0m\u001b[0mprepare_request\u001b[0m\u001b[0;34m(\u001b[0m\u001b[0mreq\u001b[0m\u001b[0;34m)\u001b[0m\u001b[0;34m\u001b[0m\u001b[0m\n\u001b[0m\u001b[1;32m    499\u001b[0m \u001b[0;34m\u001b[0m\u001b[0m\n\u001b[1;32m    500\u001b[0m         \u001b[0mproxies\u001b[0m \u001b[0;34m=\u001b[0m \u001b[0mproxies\u001b[0m \u001b[0;32mor\u001b[0m \u001b[0;34m{\u001b[0m\u001b[0;34m}\u001b[0m\u001b[0;34m\u001b[0m\u001b[0m\n",
      "\u001b[0;32m~/.virtualenvs/py3/lib/python3.6/site-packages/requests/sessions.py\u001b[0m in \u001b[0;36mprepare_request\u001b[0;34m(self, request)\u001b[0m\n\u001b[1;32m    439\u001b[0m             \u001b[0mauth\u001b[0m\u001b[0;34m=\u001b[0m\u001b[0mmerge_setting\u001b[0m\u001b[0;34m(\u001b[0m\u001b[0mauth\u001b[0m\u001b[0;34m,\u001b[0m \u001b[0mself\u001b[0m\u001b[0;34m.\u001b[0m\u001b[0mauth\u001b[0m\u001b[0;34m)\u001b[0m\u001b[0;34m,\u001b[0m\u001b[0;34m\u001b[0m\u001b[0m\n\u001b[1;32m    440\u001b[0m             \u001b[0mcookies\u001b[0m\u001b[0;34m=\u001b[0m\u001b[0mmerged_cookies\u001b[0m\u001b[0;34m,\u001b[0m\u001b[0;34m\u001b[0m\u001b[0m\n\u001b[0;32m--> 441\u001b[0;31m             \u001b[0mhooks\u001b[0m\u001b[0;34m=\u001b[0m\u001b[0mmerge_hooks\u001b[0m\u001b[0;34m(\u001b[0m\u001b[0mrequest\u001b[0m\u001b[0;34m.\u001b[0m\u001b[0mhooks\u001b[0m\u001b[0;34m,\u001b[0m \u001b[0mself\u001b[0m\u001b[0;34m.\u001b[0m\u001b[0mhooks\u001b[0m\u001b[0;34m)\u001b[0m\u001b[0;34m,\u001b[0m\u001b[0;34m\u001b[0m\u001b[0m\n\u001b[0m\u001b[1;32m    442\u001b[0m         )\n\u001b[1;32m    443\u001b[0m         \u001b[0;32mreturn\u001b[0m \u001b[0mp\u001b[0m\u001b[0;34m\u001b[0m\u001b[0m\n",
      "\u001b[0;32m~/.virtualenvs/py3/lib/python3.6/site-packages/requests/models.py\u001b[0m in \u001b[0;36mprepare\u001b[0;34m(self, method, url, headers, files, data, params, auth, cookies, hooks, json)\u001b[0m\n\u001b[1;32m    308\u001b[0m         \u001b[0mself\u001b[0m\u001b[0;34m.\u001b[0m\u001b[0mprepare_method\u001b[0m\u001b[0;34m(\u001b[0m\u001b[0mmethod\u001b[0m\u001b[0;34m)\u001b[0m\u001b[0;34m\u001b[0m\u001b[0m\n\u001b[1;32m    309\u001b[0m         \u001b[0mself\u001b[0m\u001b[0;34m.\u001b[0m\u001b[0mprepare_url\u001b[0m\u001b[0;34m(\u001b[0m\u001b[0murl\u001b[0m\u001b[0;34m,\u001b[0m \u001b[0mparams\u001b[0m\u001b[0;34m)\u001b[0m\u001b[0;34m\u001b[0m\u001b[0m\n\u001b[0;32m--> 310\u001b[0;31m         \u001b[0mself\u001b[0m\u001b[0;34m.\u001b[0m\u001b[0mprepare_headers\u001b[0m\u001b[0;34m(\u001b[0m\u001b[0mheaders\u001b[0m\u001b[0;34m)\u001b[0m\u001b[0;34m\u001b[0m\u001b[0m\n\u001b[0m\u001b[1;32m    311\u001b[0m         \u001b[0mself\u001b[0m\u001b[0;34m.\u001b[0m\u001b[0mprepare_cookies\u001b[0m\u001b[0;34m(\u001b[0m\u001b[0mcookies\u001b[0m\u001b[0;34m)\u001b[0m\u001b[0;34m\u001b[0m\u001b[0m\n\u001b[1;32m    312\u001b[0m         \u001b[0mself\u001b[0m\u001b[0;34m.\u001b[0m\u001b[0mprepare_body\u001b[0m\u001b[0;34m(\u001b[0m\u001b[0mdata\u001b[0m\u001b[0;34m,\u001b[0m \u001b[0mfiles\u001b[0m\u001b[0;34m,\u001b[0m \u001b[0mjson\u001b[0m\u001b[0;34m)\u001b[0m\u001b[0;34m\u001b[0m\u001b[0m\n",
      "\u001b[0;32m~/.virtualenvs/py3/lib/python3.6/site-packages/requests/models.py\u001b[0m in \u001b[0;36mprepare_headers\u001b[0;34m(self, headers)\u001b[0m\n\u001b[1;32m    440\u001b[0m         \u001b[0mself\u001b[0m\u001b[0;34m.\u001b[0m\u001b[0mheaders\u001b[0m \u001b[0;34m=\u001b[0m \u001b[0mCaseInsensitiveDict\u001b[0m\u001b[0;34m(\u001b[0m\u001b[0;34m)\u001b[0m\u001b[0;34m\u001b[0m\u001b[0m\n\u001b[1;32m    441\u001b[0m         \u001b[0;32mif\u001b[0m \u001b[0mheaders\u001b[0m\u001b[0;34m:\u001b[0m\u001b[0;34m\u001b[0m\u001b[0m\n\u001b[0;32m--> 442\u001b[0;31m             \u001b[0;32mfor\u001b[0m \u001b[0mheader\u001b[0m \u001b[0;32min\u001b[0m \u001b[0mheaders\u001b[0m\u001b[0;34m.\u001b[0m\u001b[0mitems\u001b[0m\u001b[0;34m(\u001b[0m\u001b[0;34m)\u001b[0m\u001b[0;34m:\u001b[0m\u001b[0;34m\u001b[0m\u001b[0m\n\u001b[0m\u001b[1;32m    443\u001b[0m                 \u001b[0;31m# Raise exception on invalid header value.\u001b[0m\u001b[0;34m\u001b[0m\u001b[0;34m\u001b[0m\u001b[0m\n\u001b[1;32m    444\u001b[0m                 \u001b[0mcheck_header_validity\u001b[0m\u001b[0;34m(\u001b[0m\u001b[0mheader\u001b[0m\u001b[0;34m)\u001b[0m\u001b[0;34m\u001b[0m\u001b[0m\n",
      "\u001b[0;31mAttributeError\u001b[0m: 'set' object has no attribute 'items'"
     ]
    }
   ],
   "source": [
    "# 練習：怎麼檢查 Request 要帶哪些 Header？\n",
    "\n",
    "import requests\n",
    "url = 'https://www.zhihu.com/explore'\n",
    "\n",
    "headers = {\n",
    "    '''\n",
    "    Your Code\n",
    "    '''\n",
    "}\n",
    "r = requests.get(url, headers=headers)\n",
    "\n",
    "r.encoding = 'utf-8'\n",
    "print(r.text[0:600])"
   ]
  },
  {
   "cell_type": "code",
   "execution_count": 31,
   "metadata": {},
   "outputs": [
    {
     "ename": "SyntaxError",
     "evalue": "invalid syntax (<ipython-input-31-d0ba87e2ed95>, line 4)",
     "output_type": "error",
     "traceback": [
      "\u001b[0;36m  File \u001b[0;32m\"<ipython-input-31-d0ba87e2ed95>\"\u001b[0;36m, line \u001b[0;32m4\u001b[0m\n\u001b[0;31m    'accept-language': zh-TW,zh;q=0.9,en-US;q=0.8,en;q=0.7,zh-CN;q=0.6,ja;q=0.5\u001b[0m\n\u001b[0m                               ^\u001b[0m\n\u001b[0;31mSyntaxError\u001b[0m\u001b[0;31m:\u001b[0m invalid syntax\n"
     ]
    }
   ],
   "source": [
    "headers = {\n",
    "    'accept': 'text/html,application/xhtml+xml,application/xml;q=0.9,image/webp,image/apng,*/*;q=0.8,application/signed-exchange;v=b3;q=0.9',\n",
    "    'accept-encoding': 'gzip, deflate, br',\n",
    "    'accept-language': zh-TW,zh;q=0.9,en-US;q=0.8,en;q=0.7,zh-CN;q=0.6,ja;q=0.5\n",
    "    cache-control: no-cache\n",
    "    cookie: _zap=a5634a47-a806-4828-8ab4-2cbc03734bda; d_c0=\"AFBoGjc1fg6PTus2_H76YgMM3xvztVHRnCs=|1541767835\"; __gads=ID=18e1196642fc5994:T=1544975081:S=ALNI_MZ2lQjiLHPlLxjVqGGH6o-EiL2luQ; __utmv=51854390.100--|2=registration_date=20190226=1^3=entry_date=20181130=1; __utma=51854390.567487929.1560948518.1560950333.1562469680.3; z_c0=\"2|1:0|10:1568132466|4:z_c0|92:Mi4xM1FkMERnQUFBQUFBVUdnYU56Vi1EaVlBQUFCZ0FsVk5jaHRsWGdEZnktdlNOVW9OQVhIVmdwSDhRQnBhZFJxdFZn|2a5c80e94bf2d0c3fe1ab599b0d7196bc802954d5ddc51b6ff448a11b066ccf5\"; _xsrf=Xiqr2GJtbvMqFt9KpGijOi6fiAGXUz1I; q_c1=aed50b9b158344d6ac78a230c8970d83|1582555593000|1543510922000; _ga=GA1.2.567487929.1560948518; tst=r; _gid=GA1.2.881543629.1583648832; Hm_lvt_98beee57fd2ef70ccdd5ca52b9740c49=1583419242,1583419305,1583500274,1583648833; Hm_lpvt_98beee57fd2ef70ccdd5ca52b9740c49=1583649291; KLBRSID=53650870f91603bc3193342a80cf198c|1583649291|1583648831\n",
    "    pragma: no-cache\n",
    "    referer: https://www.zhihu.com/explore\n",
    "    sec-fetch-dest: document\n",
    "    sec-fetch-mode: navigate\n",
    "    sec-fetch-site: same-origin\n",
    "    sec-fetch-user: ?1\n",
    "    upgrade-insecure-requests: 1\n",
    "    user-agent: Mozilla/5.0 (Macintosh; Intel Mac OS X 10_13_6) AppleWebKit/537.36 (KHTML, like Gecko) Chrome/80.0.3987.132 Safari/537.36\n",
    "\n",
    "}"
   ]
  },
  {
   "cell_type": "code",
   "execution_count": 32,
   "metadata": {},
   "outputs": [
    {
     "name": "stdout",
     "output_type": "stream",
     "text": [
      "<!doctype html>\n",
      "<html lang=\"zh\" data-hairline=\"true\" data-theme=\"light\"><head><meta charSet=\"utf-8\"/><title data-react-helmet=\"true\">发现 - 知乎</title><meta name=\"viewport\" content=\"width=device-width,initial-scale=1,maximum-scale=1\"/><meta name=\"renderer\" content=\"webkit\"/><meta name=\"force-rendering\" content=\"webkit\"/><meta http-equiv=\"X-UA-Compatible\" content=\"IE=edge,chrome=1\"/><meta name=\"google-site-verification\" content=\"FTeR0c8arOPKh8c5DYh_9uu98_zJbaWw53J-Sch9MTg\"/><meta name=\"description\" property=\"og:description\" content=\"有问题，上知乎。知乎，可信赖的问答社区，以让每个人高效获得可信赖的解答为使命。知乎凭借认真、专业和友善的社区氛围，结构化、易获得的\n"
     ]
    }
   ],
   "source": [
    "# 參考解答\n",
    "\n",
    "import requests\n",
    "url = 'https://www.zhihu.com/explore'\n",
    "\n",
    "headers = {\n",
    "    'accept': 'text/html,application/xhtml+xml,application/xml;q=0.9,image/webp,image/apng,*/*;q=0.8,application/signed-exchange;v=b3',\n",
    "    'accept-encoding': 'gzip, deflate, br',\n",
    "    'accept-language': 'zh-TW,zh;q=0.9,en-US;q=0.8,en;q=0.7,zh-CN;q=0.6,ja;q=0.5',\n",
    "    'cache-control': 'max-age=0',\n",
    "    'cookie': '_zap=a5634a47-a806-4828-8ab4-2cbc03734bda; d_c0=\"AFBoGjc1fg6PTus2_H76YgMM3xvztVHRnCs=|1541767835\"; __gads=ID=18e1196642fc5994:T=1544975081:S=ALNI_MZ2lQjiLHPlLxjVqGGH6o-EiL2luQ; z_c0=\"2|1:0|10:1551204934|4:z_c0|92:Mi4xM1FkMERnQUFBQUFBVUdnYU56Vi1EaVlBQUFCZ0FsVk5SdEJpWFFDUXZ6REVHVWw0QWtXblh6WGt4T183ekdxNFhn|fa542d11758c34207cdd6a1edf85de768ac02624c8cb53aa687017af49accd7b\"; tst=r; q_c1=aed50b9b158344d6ac78a230c8970d83|1560948516000|1543510922000; __utmv=51854390.100--|2=registration_date=20190226=1^3=entry_date=20181130=1; _xsrf=13cd498d-6139-4c50-99a6-df5c749dd64c; tgw_l7_route=4860b599c6644634a0abcd4d10d37251; __utma=51854390.567487929.1560948518.1560950333.1562469680.3; __utmb=51854390.0.10.1562469680; __utmc=51854390; __utmz=51854390.1562469680.3.3.utmcsr=localhost:8888|utmccn=(referral)|utmcmd=referral|utmcct=/notebooks/day2-example.ipynb',\n",
    "    'referer': 'http://localhost:8888/notebooks/day2-example.ipynb',\n",
    "    'upgrade-insecure-requests': '1',\n",
    "    'user-agent': 'Mozilla/5.0 (Macintosh; Intel Mac OS X 10_13_6) AppleWebKit/537.36 (KHTML, like Gecko) Chrome/75.0.3770.100 Safari/537.36'\n",
    "}\n",
    "r = requests.get(url, headers=headers)\n",
    "\n",
    "r.encoding = 'utf-8'\n",
    "print(r.text[0:600])"
   ]
  },
  {
   "cell_type": "code",
   "execution_count": 154,
   "metadata": {
    "scrolled": true
   },
   "outputs": [
    {
     "name": "stdout",
     "output_type": "stream",
     "text": [
      "<!doctype html>\n",
      "<html lang=\"zh\" data-hairline=\"true\" data-theme=\"light\"><head><meta charSet=\"utf-8\"/><title data-react-helmet=\"true\">发现 - 知乎</title><meta name=\"viewport\" content=\"width=device-width,initial-scale=1,maximum-scale=1\"/><meta name=\"renderer\" content=\"webkit\"/><meta name=\"force-rendering\" content=\"webkit\"/><meta http-equiv=\"X-UA-Compatible\" content=\"IE=edge,chrome=1\"/><meta name=\"google-site-verification\" content=\"FTeR0c8arOPKh8c5DYh_9uu98_zJbaWw53J-Sch9MTg\"/><meta name=\"description\" property=\"og:description\" content=\"有问题，上知乎。知乎，可信赖的问答社区，以让每个人高效获得可信赖的解答为使命。知乎凭借认真、专业和友善的社区氛围，结构化、易获得的优质内容，基于问答的内容生产方式和独特的社区机制，吸引、聚集了各行各业中大量的亲历者、内行人、领域专家、领域爱好者，将高质量的内容透过人的节点来成规模地生产和分享。用户通过问答等交流方式建立信任和连接，打造和提升个人影响力，并发现、获得新机会。\"/><link data-react-helmet=\"true\" rel=\"apple-touch-icon\" href=\"https://static.zhihu.com/heifetz/assets/apple-touch-icon-152.67c7b278.png\"/><link data-react-helmet=\"true\" rel=\"apple-touch-icon\" href=\"https://static.zhihu.com/heifetz/assets/apple-touch-icon-152.67c7b278.png\" sizes=\"152x152\"/><link data-react-helmet=\"true\" rel=\"apple-touch-icon\" href=\"https://static.zhihu.com/heifetz/assets/apple-touch-icon-120.b3e6278d.png\" sizes=\"120x120\"/><link data-react-helmet=\"true\" rel=\"apple-touch-icon\" href=\"https://static.zhihu.com/heifetz/assets/apple-touch-icon-76.7a750095.png\" sizes=\"76x76\"/><link data-react-helmet=\"true\" rel=\"apple-touch-icon\" href=\"https://static.zhihu.com/heifetz/assets/apple-touch-icon-60.a4a761d4.png\" sizes=\"60x60\"/><link rel=\"shortcut icon\" type=\"image/x-icon\" href=\"https://static.zhihu.com/static/favicon.ico\"/><link rel=\"search\" type=\"application/opensearchdescription+xml\" href=\"https://static.zhihu.com/static/search.xml\" title=\"知乎\"/><link rel=\"dns-prefetch\" href=\"//static.zhimg.com\"/><link rel=\"dns-prefetch\" href=\"//pic1.zhimg.com\"/><link rel=\"dns-prefetch\" href=\"//pic2.zhimg.com\"/><link rel=\"dns-prefetch\" href=\"//pic3.zhimg.com\"/><link rel=\"dns-prefetch\" href=\"//pic4.zhimg.com\"/><style>\n",
      ".u-safeAreaInset-top {\n",
      "  height: constant(safe-area-inset-top) !important;\n",
      "  height: env(safe-area-inset-top) !important;\n",
      "  \n",
      "}\n",
      ".u-safeAreaInset-bottom {\n",
      "  height: constant(safe-area-inset-bottom) !important;\n",
      "  height: env(safe-area-inset-bottom) !important;\n",
      "  \n",
      "}\n",
      "</style><link href=\"https://static.zhihu.com/heifetz/main.app.216a26f4.5aeece57a6b599eb2c17.css\" rel=\"stylesheet\"/><link href=\"https://static.zhihu.com/heifetz/main.explore-routes.216a26f4.c0a09bfe5d98d1f06a66.css\" rel=\"stylesheet\"/><script defer=\"\" crossorigin=\"anonymous\" src=\"https://unpkg.zhimg.com/@cfe/sentry-script@latest/dist/init.js\" data-sentry-config=\"{&quot;dsn&quot;:&quot;https://2d8d764432cc4f6fb3bc78ab9528299d@crash2.zhihu.com/1224&quot;,&quot;sampleRate&quot;:0.1,&quot;release&quot;:&quot;995-e5533a49&quot;,&quot;ignoreErrorNames&quot;:[&quot;NetworkError&quot;,&quot;SecurityError&quot;],&quot;ignoreErrors&quot;:[&quot;origin message&quot;,&quot;Network request failed&quot;,&quot;Loading chunk&quot;,&quot;这个系统不支持该功能。&quot;,&quot;Can&#x27;t find variable: webkit&quot\n"
     ]
    }
   ],
   "source": [
    "headers = {\n",
    "    'User-Agent': 'Mozilla/5.0 (Macintosh; Intel Mac OS X 10_13_6) AppleWebKit/537.36 (KHTML, like Gecko) Chrome/71.0.3578.98 Safari/537.36'\n",
    "}\n",
    "url = 'https://www.zhihu.com/explore'\n",
    "r = requests.get(url, headers=headers)\n",
    "r.encoding = 'utf-8'\n",
    "print(r.text[0:3000])"
   ]
  },
  {
   "cell_type": "markdown",
   "metadata": {},
   "source": [
    "### 網頁解析器： BeatifulSoup"
   ]
  },
  {
   "cell_type": "code",
   "execution_count": 33,
   "metadata": {},
   "outputs": [
    {
     "name": "stdout",
     "output_type": "stream",
     "text": [
      "\n",
      "<html>\n",
      "    <head>\n",
      "        <title>The Links</title>\n",
      "    </head>\n",
      "    <body>\n",
      "        <p class=\"title\" id=\"title\">\n",
      "            <b>The Links</b>\n",
      "        </p>\n",
      "        <p class=\"story\">\n",
      "            <a href=\"http://example.com/link1\" class=\"link\" id=\"link1\">Link 1</a>,\n",
      "            <a href=\"http://example.com/link2\" class=\"link\" id=\"link2\">Link 2</a>,\n",
      "            <a href=\"http://example.com/link3\" class=\"link\" id=\"link3\">Link 3</a>\n",
      "        </p>\n",
      "        <p class=\"story\">\n",
      "            Hello World\n",
      "        </p>\n",
      "    </body>\n",
      "</html>\n",
      "\n",
      "<class 'str'>\n"
     ]
    }
   ],
   "source": [
    "html_doc = \"\"\"\n",
    "<html>\n",
    "    <head>\n",
    "        <title>The Links</title>\n",
    "    </head>\n",
    "    <body>\n",
    "        <p class=\"title\" id=\"title\">\n",
    "            <b>The Links</b>\n",
    "        </p>\n",
    "        <p class=\"story\">\n",
    "            <a href=\"http://example.com/link1\" class=\"link\" id=\"link1\">Link 1</a>,\n",
    "            <a href=\"http://example.com/link2\" class=\"link\" id=\"link2\">Link 2</a>,\n",
    "            <a href=\"http://example.com/link3\" class=\"link\" id=\"link3\">Link 3</a>\n",
    "        </p>\n",
    "        <p class=\"story\">\n",
    "            Hello World\n",
    "        </p>\n",
    "    </body>\n",
    "</html>\n",
    "\"\"\"\n",
    "\n",
    "print(html_doc)\n",
    "print(type(html_doc))"
   ]
  },
  {
   "cell_type": "code",
   "execution_count": 34,
   "metadata": {},
   "outputs": [],
   "source": [
    "from bs4 import BeautifulSoup\n",
    "\n",
    "soup = BeautifulSoup(html_doc, 'lxml')"
   ]
  },
  {
   "cell_type": "code",
   "execution_count": 35,
   "metadata": {},
   "outputs": [
    {
     "name": "stdout",
     "output_type": "stream",
     "text": [
      "<html>\n",
      "<head>\n",
      "<title>The Links</title>\n",
      "</head>\n",
      "<body>\n",
      "<p class=\"title\" id=\"title\">\n",
      "<b>The Links</b>\n",
      "</p>\n",
      "<p class=\"story\">\n",
      "<a class=\"link\" href=\"http://example.com/link1\" id=\"link1\">Link 1</a>,\n",
      "            <a class=\"link\" href=\"http://example.com/link2\" id=\"link2\">Link 2</a>,\n",
      "            <a class=\"link\" href=\"http://example.com/link3\" id=\"link3\">Link 3</a>\n",
      "</p>\n",
      "<p class=\"story\">\n",
      "            Hello World\n",
      "        </p>\n",
      "</body>\n",
      "</html>\n",
      "\n",
      "<class 'bs4.BeautifulSoup'>\n"
     ]
    }
   ],
   "source": [
    "print(soup)\n",
    "print(type(soup))"
   ]
  },
  {
   "cell_type": "code",
   "execution_count": 36,
   "metadata": {},
   "outputs": [
    {
     "name": "stdout",
     "output_type": "stream",
     "text": [
      "\n",
      "<html>\n",
      "    <head>\n",
      "        <title>The Links</title>\n",
      "    </head>\n",
      "    <body>\n",
      "        <p class=\"title\" \n"
     ]
    }
   ],
   "source": [
    "print(html_doc[0:100])"
   ]
  },
  {
   "cell_type": "code",
   "execution_count": 37,
   "metadata": {},
   "outputs": [
    {
     "ename": "TypeError",
     "evalue": "string indices must be integers",
     "output_type": "error",
     "traceback": [
      "\u001b[0;31m---------------------------------------------------------------------------\u001b[0m",
      "\u001b[0;31mTypeError\u001b[0m                                 Traceback (most recent call last)",
      "\u001b[0;32m<ipython-input-37-2bd08fced845>\u001b[0m in \u001b[0;36m<module>\u001b[0;34m()\u001b[0m\n\u001b[0;32m----> 1\u001b[0;31m \u001b[0mprint\u001b[0m\u001b[0;34m(\u001b[0m\u001b[0mhtml_doc\u001b[0m\u001b[0;34m[\u001b[0m\u001b[0;34m'title'\u001b[0m\u001b[0;34m]\u001b[0m\u001b[0;34m)\u001b[0m\u001b[0;34m\u001b[0m\u001b[0m\n\u001b[0m",
      "\u001b[0;31mTypeError\u001b[0m: string indices must be integers"
     ]
    }
   ],
   "source": [
    "print(html_doc['title'])"
   ]
  },
  {
   "cell_type": "code",
   "execution_count": 38,
   "metadata": {},
   "outputs": [
    {
     "name": "stdout",
     "output_type": "stream",
     "text": [
      "<title>The Links</title>\n"
     ]
    }
   ],
   "source": [
    "print(soup.title)"
   ]
  },
  {
   "cell_type": "markdown",
   "metadata": {},
   "source": [
    "#### 物件結構的基本的用法"
   ]
  },
  {
   "cell_type": "code",
   "execution_count": 43,
   "metadata": {},
   "outputs": [
    {
     "name": "stdout",
     "output_type": "stream",
     "text": [
      "<title>The Links</title>\n",
      "title\n",
      "The Links\n"
     ]
    }
   ],
   "source": [
    "# 物件結構的基本的用法\n",
    "\n",
    "print(soup.title)\n",
    "print(soup.title.name)\n",
    "print(soup.title.text)"
   ]
  },
  {
   "cell_type": "markdown",
   "metadata": {},
   "source": [
    "#### HTML 是一種樹狀結構"
   ]
  },
  {
   "cell_type": "code",
   "execution_count": 194,
   "metadata": {},
   "outputs": [
    {
     "name": "stdout",
     "output_type": "stream",
     "text": [
      "<head>\n",
      "<title>The Links</title>\n",
      "</head>\n",
      "head\n",
      "\n",
      "The Links\n",
      "\n"
     ]
    }
   ],
   "source": [
    "# HTML 是一種樹狀結構\n",
    "\n",
    "print(soup.title.parent)\n",
    "print(soup.title.parent.name)\n",
    "print(soup.title.parent.text)"
   ]
  },
  {
   "cell_type": "markdown",
   "metadata": {},
   "source": [
    "#### 用 . 取得標籤與用 [] 取得屬性 - p"
   ]
  },
  {
   "cell_type": "code",
   "execution_count": 44,
   "metadata": {},
   "outputs": [
    {
     "name": "stdout",
     "output_type": "stream",
     "text": [
      "<p class=\"title\" id=\"title\">\n",
      "<b>The Links</b>\n",
      "</p>\n",
      "p\n",
      "['title']\n",
      "title\n",
      "\n",
      "The Links\n",
      "\n"
     ]
    }
   ],
   "source": [
    "# 用 . 取得標籤與用 [] 取得屬性 - p\n",
    " \n",
    "print(soup.p)\n",
    "print(soup.p.name)\n",
    "print(soup.p['class'])\n",
    "print(soup.p['id'])\n",
    "print(soup.p.text)"
   ]
  },
  {
   "cell_type": "markdown",
   "metadata": {},
   "source": [
    "#### 取 . 取得標籤與用 [] 取得屬性 - a"
   ]
  },
  {
   "cell_type": "code",
   "execution_count": 45,
   "metadata": {},
   "outputs": [
    {
     "name": "stdout",
     "output_type": "stream",
     "text": [
      "<a class=\"link\" href=\"http://example.com/link1\" id=\"link1\">Link 1</a>\n",
      "a\n",
      "link1\n",
      "['link']\n",
      "http://example.com/link1\n",
      "Link 1\n"
     ]
    }
   ],
   "source": [
    "# 取 . 取得標籤與用 [] 取得屬性 - a\n",
    " \n",
    "print(soup.a)\n",
    "print(soup.a.name)\n",
    "print(soup.a['id'])\n",
    "print(soup.a['class'])\n",
    "print(soup.a['href'])\n",
    "print(soup.a.text)"
   ]
  },
  {
   "cell_type": "markdown",
   "metadata": {},
   "source": [
    "#### 也可以用 find & find_all 找到更多"
   ]
  },
  {
   "cell_type": "code",
   "execution_count": 46,
   "metadata": {},
   "outputs": [
    {
     "name": "stdout",
     "output_type": "stream",
     "text": [
      "<a class=\"link\" href=\"http://example.com/link1\" id=\"link1\">Link 1</a>\n",
      "[<a class=\"link\" href=\"http://example.com/link1\" id=\"link1\">Link 1</a>, <a class=\"link\" href=\"http://example.com/link2\" id=\"link2\">Link 2</a>, <a class=\"link\" href=\"http://example.com/link3\" id=\"link3\">Link 3</a>]\n"
     ]
    }
   ],
   "source": [
    "# 也可以用 find & find_all 找到更多\n",
    "\n",
    "print(soup.find('a')) # soup.a\n",
    "print(soup.find_all('a'))"
   ]
  },
  {
   "cell_type": "code",
   "execution_count": 47,
   "metadata": {},
   "outputs": [
    {
     "name": "stdout",
     "output_type": "stream",
     "text": [
      "http://example.com/link1\n",
      "http://example.com/link2\n",
      "http://example.com/link3\n"
     ]
    }
   ],
   "source": [
    "for a in soup.find_all('a'):\n",
    "    print(a['href'])"
   ]
  },
  {
   "cell_type": "markdown",
   "metadata": {},
   "source": [
    "#### 利用 id & class 限縮條件"
   ]
  },
  {
   "cell_type": "code",
   "execution_count": 48,
   "metadata": {},
   "outputs": [
    {
     "name": "stdout",
     "output_type": "stream",
     "text": [
      "<p class=\"story\">\n",
      "<a class=\"link\" href=\"http://example.com/link1\" id=\"link1\">Link 1</a>,\n",
      "            <a class=\"link\" href=\"http://example.com/link2\" id=\"link2\">Link 2</a>,\n",
      "            <a class=\"link\" href=\"http://example.com/link3\" id=\"link3\">Link 3</a>\n",
      "</p>\n"
     ]
    }
   ],
   "source": [
    "# 利用 id & class 限縮條件\n",
    "\n",
    "p = soup.find('p', class_=\"story\")\n",
    "print(p)"
   ]
  },
  {
   "cell_type": "code",
   "execution_count": 49,
   "metadata": {},
   "outputs": [
    {
     "name": "stdout",
     "output_type": "stream",
     "text": [
      "<p class=\"title\" id=\"title\">\n",
      "<b>The Links</b>\n",
      "</p>\n"
     ]
    }
   ],
   "source": [
    "title = soup.find(\"p\", class_=\"title\")\n",
    "print(title)"
   ]
  },
  {
   "cell_type": "code",
   "execution_count": 50,
   "metadata": {},
   "outputs": [
    {
     "name": "stdout",
     "output_type": "stream",
     "text": [
      "<p class=\"title\" id=\"title\">\n",
      "<b>The Links</b>\n",
      "</p>\n"
     ]
    }
   ],
   "source": [
    "title = soup.find(\"p\", id=\"title\")\n",
    "print(title)"
   ]
  },
  {
   "cell_type": "code",
   "execution_count": 51,
   "metadata": {},
   "outputs": [
    {
     "name": "stdout",
     "output_type": "stream",
     "text": [
      "<a class=\"link\" href=\"http://example.com/link3\" id=\"link3\">Link 3</a>\n"
     ]
    }
   ],
   "source": [
    "a = soup.find('a', id='link3')\n",
    "print(a)"
   ]
  },
  {
   "cell_type": "code",
   "execution_count": 52,
   "metadata": {
    "scrolled": true
   },
   "outputs": [
    {
     "name": "stdout",
     "output_type": "stream",
     "text": [
      "[<a class=\"link\" href=\"http://example.com/link1\" id=\"link1\">Link 1</a>, <a class=\"link\" href=\"http://example.com/link2\" id=\"link2\">Link 2</a>, <a class=\"link\" href=\"http://example.com/link3\" id=\"link3\">Link 3</a>]\n"
     ]
    }
   ],
   "source": [
    "a = soup.find_all(\"a\", class_=\"link\")\n",
    "print(a)"
   ]
  },
  {
   "cell_type": "markdown",
   "metadata": {},
   "source": [
    "### Example： 從 Request 到 BeatifulSoup"
   ]
  },
  {
   "cell_type": "code",
   "execution_count": 53,
   "metadata": {
    "scrolled": true
   },
   "outputs": [
    {
     "data": {
      "text/plain": [
       "'http://example.com/link3'"
      ]
     },
     "execution_count": 53,
     "metadata": {},
     "output_type": "execute_result"
    }
   ],
   "source": [
    "# Example： Requests + BeatifulSoup\n",
    "\n",
    "import requests\n",
    "from bs4 import BeautifulSoup\n",
    "\n",
    "url = 'https://redspectacularmention--v123582.repl.co/'\n",
    "r = requests.get(url)\n",
    "soup = BeautifulSoup(r.text, \"html5lib\")\n",
    "\n",
    "soup\n",
    "soup.find('a', id='link3')['href']"
   ]
  },
  {
   "cell_type": "markdown",
   "metadata": {},
   "source": [
    "### Example： 奇摩電影"
   ]
  },
  {
   "cell_type": "code",
   "execution_count": 172,
   "metadata": {
    "scrolled": true
   },
   "outputs": [
    {
     "name": "stdout",
     "output_type": "stream",
     "text": [
      "===== 網頁標題（分頁顯示名稱） =====\n",
      "本週新片 - Yahoo奇摩電影\n",
      "===== 第一部電影的資訊 =====\n",
      "\n",
      "                  金都\n",
      "===== 所有電影資訊 =====\n",
      "金都\n",
      "觸不到的愛\n",
      "陪你玩最大\n",
      "黑暗戰域\n",
      "初戀\n",
      "老娘就要這麼活\n",
      "劇場版白箱\n",
      "素人特工\n",
      "閉嘴！彈琴\n"
     ]
    }
   ],
   "source": [
    "# Example： 奇摩電影\n",
    "\n",
    "import requests\n",
    "from bs4 import BeautifulSoup\n",
    "\n",
    "url = 'https://movies.yahoo.com.tw/movie_thisweek.html'\n",
    "r = requests.get(url)\n",
    "soup = BeautifulSoup(r.text, \"html5lib\")\n",
    "\n",
    "print('===== 網頁標題（分頁顯示名稱） =====')\n",
    "print(soup.title.text)\n",
    "\n",
    "print('===== 第一部電影的資訊 =====')\n",
    "print(soup.find('div', class_=\"release_movie_name\").find('a', class_='gabtn').text)\n",
    "\n",
    "print('===== 所有電影資訊 =====')\n",
    "for d in soup.find_all('div', class_=\"release_movie_name\"):\n",
    "    print(d.find('a', class_='gabtn').text.replace(' ', '').replace('\\n', ''))\n",
    "    "
   ]
  },
  {
   "cell_type": "markdown",
   "metadata": {},
   "source": [
    "### 動手實作\n",
    "\n",
    "* ① 取出本週熱門新片的「中英文名稱」、「上映日期」、「期待度」、「滿意度」，還有「封面照片網址」（有沒有覺得哪個資料怪怪的？）\n",
    "* ② 用一個你覺得適合的型態存到一個變數內"
   ]
  },
  {
   "cell_type": "markdown",
   "metadata": {},
   "source": [
    "#### ① 取出本週熱門新片的「中英文名稱」、「上映日期」、「期待度」、「滿意度」，還有「封面照片網址」（有沒有覺得哪個資料怪怪的？）"
   ]
  },
  {
   "cell_type": "code",
   "execution_count": null,
   "metadata": {},
   "outputs": [],
   "source": [
    "'''\n",
    "Your Code\n",
    "'''"
   ]
  },
  {
   "cell_type": "code",
   "execution_count": 180,
   "metadata": {},
   "outputs": [
    {
     "name": "stdout",
     "output_type": "stream",
     "text": [
      "金都\n",
      "MyPrinceEdward\n",
      "上映日期 ： 2020-05-08\n",
      "93%\n",
      "觸不到的愛\n",
      "Endless\n",
      "上映日期 ： 2020-05-08\n",
      "80%\n",
      "陪你玩最大\n",
      "TheBestisYettoCome\n",
      "上映日期 ： 2020-05-08\n",
      "63%\n",
      "黑暗戰域\n",
      "TheBlackout\n",
      "上映日期 ： 2020-05-08\n",
      "96%\n",
      "初戀\n",
      "FirstLove\n",
      "上映日期 ： 2020-05-08\n",
      "93%\n",
      "老娘就要這麼活\n",
      "LalaEveryYou\n",
      "上映日期 ： 2020-05-08\n",
      "60%\n",
      "劇場版白箱\n",
      "SHIROBAKOTheMovie\n",
      "上映日期 ： 2020-05-08\n",
      "91%\n",
      "素人特工\n",
      "TheRookies\n",
      "上映日期 ： 2020-05-08\n",
      "74%\n",
      "閉嘴！彈琴\n",
      "ShutUpandPlaythePiano\n",
      "上映日期 ： 2020-05-08\n",
      "75%\n",
      "https://movies.yahoo.com.tw/x/r/w420/i/o/production/movies/February2020/GZ92R9hq8YRrr8XbLIHR-514x720.jpg\n",
      "https://movies.yahoo.com.tw/x/r/w420/i/o/production/movies/April2020/jpmPh38Jrz1TNddOSiU1-1280x1829.jpg\n",
      "https://movies.yahoo.com.tw/x/r/w420/i/o/production/movies/April2020/lGhHaMcvTZePJcgUDMSh-1280x1828.jpg\n",
      "https://movies.yahoo.com.tw/x/r/w420/i/o/production/movies/April2020/JAMjue3LZZ2DDxGkWzhT-1984x2835.jpg\n",
      "https://movies.yahoo.com.tw/x/r/w420/i/o/production/movies/April2020/2cQn9jmWaEUaNxcaBGVL-1080x1920.jpg\n",
      "https://movies.yahoo.com.tw/x/r/w420/i/o/production/movies/April2020/rx1G0GWPyfQary2KRi8d-499x720.jpg\n",
      "https://movies.yahoo.com.tw/x/r/w420/i/o/production/movies/April2020/aeE8YS6jzKVNHqrhj2Je-504x720.JPG\n",
      "https://movies.yahoo.com.tw/x/r/w420/i/o/production/movies/April2020/VnzQJ4ar4zD9oqkgg1Hf-1280x1829.jpg\n",
      "https://movies.yahoo.com.tw/x/r/w420/i/o/production/movies/April2020/8YPsmA8LQHGNp93ztPv6-1280x1836.jpg\n"
     ]
    }
   ],
   "source": [
    "# 參考解答：① 取出本週新片的「中英文名稱」、「上映日期」、「期待度」、「滿意度」，還有「封面照片網址」\n",
    "#（有沒有覺得哪個資料怪怪的？）\n",
    "\n",
    "import requests\n",
    "from bs4 import BeautifulSoup\n",
    "\n",
    "url = 'https://movies.yahoo.com.tw/movie_thisweek.html'\n",
    "r = requests.get(url)\n",
    "soup = BeautifulSoup(r.text, \"html5lib\")\n",
    "\n",
    "for d in soup.find_all('div', class_=\"release_info\"):\n",
    "    # 中文名稱\n",
    "    print(d.find('div', class_=\"release_movie_name\").find('a', class_='gabtn').text.replace(' ', '').replace('\\n', ''))\n",
    "    # 英文名稱\n",
    "    print(d.find('div', class_=\"release_movie_name\").find('div', class_='en').find('a', class_='gabtn').text.replace(' ', '').replace('\\n', ''))\n",
    "    # 上映日期\n",
    "    print(d.find('div', class_='release_movie_time').text)\n",
    "    # 期待度\n",
    "    print(d.find('div', class_='leveltext').span.text)\n",
    "    # 滿意度\n",
    "    # print(d.find_all('div', class_='leveltext')[-1].span['data-num'])\n",
    "    \n",
    "for d in soup.find_all('div', class_='release_foto'):\n",
    "    # 封面照片網址\n",
    "    print(d.img['src'])"
   ]
  },
  {
   "cell_type": "markdown",
   "metadata": {},
   "source": [
    "#### ② 用一個你覺得適合的型態存到一個變數內"
   ]
  },
  {
   "cell_type": "code",
   "execution_count": null,
   "metadata": {},
   "outputs": [],
   "source": [
    "'''\n",
    "Your Code\n",
    "'''"
   ]
  },
  {
   "cell_type": "code",
   "execution_count": 182,
   "metadata": {},
   "outputs": [
    {
     "name": "stdout",
     "output_type": "stream",
     "text": [
      "[{'中文名稱': '金都', '英文名稱': 'MyPrinceEdward', '上映日期': '2020-05-08', '期待度': '93%'}, {'中文名稱': '觸不到的愛', '英文名稱': 'Endless', '上映日期': '2020-05-08', '期待度': '80%'}, {'中文名稱': '陪你玩最大', '英文名稱': 'TheBestisYettoCome', '上映日期': '2020-05-08', '期待度': '63%'}, {'中文名稱': '黑暗戰域', '英文名稱': 'TheBlackout', '上映日期': '2020-05-08', '期待度': '96%'}, {'中文名稱': '初戀', '英文名稱': 'FirstLove', '上映日期': '2020-05-08', '期待度': '93%'}, {'中文名稱': '老娘就要這麼活', '英文名稱': 'LalaEveryYou', '上映日期': '2020-05-08', '期待度': '60%'}, {'中文名稱': '劇場版白箱', '英文名稱': 'SHIROBAKOTheMovie', '上映日期': '2020-05-08', '期待度': '91%'}, {'中文名稱': '素人特工', '英文名稱': 'TheRookies', '上映日期': '2020-05-08', '期待度': '74%'}, {'中文名稱': '閉嘴！彈琴', '英文名稱': 'ShutUpandPlaythePiano', '上映日期': '2020-05-08', '期待度': '75%'}]\n",
      "[{'封面照片網址': 'https://movies.yahoo.com.tw/x/r/w420/i/o/production/movies/February2020/GZ92R9hq8YRrr8XbLIHR-514x720.jpg'}, {'封面照片網址': 'https://movies.yahoo.com.tw/x/r/w420/i/o/production/movies/April2020/jpmPh38Jrz1TNddOSiU1-1280x1829.jpg'}, {'封面照片網址': 'https://movies.yahoo.com.tw/x/r/w420/i/o/production/movies/April2020/lGhHaMcvTZePJcgUDMSh-1280x1828.jpg'}, {'封面照片網址': 'https://movies.yahoo.com.tw/x/r/w420/i/o/production/movies/April2020/JAMjue3LZZ2DDxGkWzhT-1984x2835.jpg'}, {'封面照片網址': 'https://movies.yahoo.com.tw/x/r/w420/i/o/production/movies/April2020/2cQn9jmWaEUaNxcaBGVL-1080x1920.jpg'}, {'封面照片網址': 'https://movies.yahoo.com.tw/x/r/w420/i/o/production/movies/April2020/rx1G0GWPyfQary2KRi8d-499x720.jpg'}, {'封面照片網址': 'https://movies.yahoo.com.tw/x/r/w420/i/o/production/movies/April2020/aeE8YS6jzKVNHqrhj2Je-504x720.JPG'}, {'封面照片網址': 'https://movies.yahoo.com.tw/x/r/w420/i/o/production/movies/April2020/VnzQJ4ar4zD9oqkgg1Hf-1280x1829.jpg'}, {'封面照片網址': 'https://movies.yahoo.com.tw/x/r/w420/i/o/production/movies/April2020/8YPsmA8LQHGNp93ztPv6-1280x1836.jpg'}]\n"
     ]
    }
   ],
   "source": [
    "# 參考解答：② 用一個你覺得適合的型態存到一個變數內\n",
    "# Hint： list of dict\n",
    "\n",
    "import requests\n",
    "from bs4 import BeautifulSoup\n",
    "\n",
    "url = 'https://movies.yahoo.com.tw/movie_thisweek.html'\n",
    "r = requests.get(url)\n",
    "soup = BeautifulSoup(r.text, \"html5lib\")\n",
    "\n",
    "infos = []\n",
    "imgs = []\n",
    "\n",
    "for d in soup.find_all('div', class_=\"release_info\"):\n",
    "    \n",
    "    info = {}\n",
    "    info['中文名稱'] = d.find('div', class_=\"release_movie_name\").find('a', class_='gabtn').text.replace(' ', '').replace('\\n', '')\n",
    "    info['英文名稱'] = d.find('div', class_=\"release_movie_name\").find('div', class_='en').find('a', class_='gabtn').text.replace(' ', '').replace('\\n', '')\n",
    "    info['上映日期'] = d.find('div', class_='release_movie_time').text.replace('上映日期 ： ', '')\n",
    "    info['期待度'] = d.find('div', class_='leveltext').span.text\n",
    "    # info['滿意度'] = d.find_all('div', class_='leveltext')[-1].span['data-num']  \n",
    "    infos.append(info)\n",
    "\n",
    "for d in soup.find_all('div', class_='release_foto'):\n",
    "    img = {}\n",
    "    img['封面照片網址'] = d.img['src']\n",
    "    imgs.append(img)\n",
    "\n",
    "print(infos)\n",
    "print(imgs)"
   ]
  },
  {
   "cell_type": "code",
   "execution_count": 184,
   "metadata": {},
   "outputs": [
    {
     "name": "stdout",
     "output_type": "stream",
     "text": [
      "[{'中文名稱': '金都', '英文名稱': 'MyPrinceEdward', '上映日期': '2020-05-08', '期待度': '93%', '封面照片網址': 'https://movies.yahoo.com.tw/x/r/w420/i/o/production/movies/February2020/GZ92R9hq8YRrr8XbLIHR-514x720.jpg'}, {'中文名稱': '觸不到的愛', '英文名稱': 'Endless', '上映日期': '2020-05-08', '期待度': '80%', '封面照片網址': 'https://movies.yahoo.com.tw/x/r/w420/i/o/production/movies/April2020/jpmPh38Jrz1TNddOSiU1-1280x1829.jpg'}, {'中文名稱': '陪你玩最大', '英文名稱': 'TheBestisYettoCome', '上映日期': '2020-05-08', '期待度': '63%', '封面照片網址': 'https://movies.yahoo.com.tw/x/r/w420/i/o/production/movies/April2020/lGhHaMcvTZePJcgUDMSh-1280x1828.jpg'}, {'中文名稱': '黑暗戰域', '英文名稱': 'TheBlackout', '上映日期': '2020-05-08', '期待度': '96%', '封面照片網址': 'https://movies.yahoo.com.tw/x/r/w420/i/o/production/movies/April2020/JAMjue3LZZ2DDxGkWzhT-1984x2835.jpg'}, {'中文名稱': '初戀', '英文名稱': 'FirstLove', '上映日期': '2020-05-08', '期待度': '93%', '封面照片網址': 'https://movies.yahoo.com.tw/x/r/w420/i/o/production/movies/April2020/2cQn9jmWaEUaNxcaBGVL-1080x1920.jpg'}, {'中文名稱': '老娘就要這麼活', '英文名稱': 'LalaEveryYou', '上映日期': '2020-05-08', '期待度': '60%', '封面照片網址': 'https://movies.yahoo.com.tw/x/r/w420/i/o/production/movies/April2020/rx1G0GWPyfQary2KRi8d-499x720.jpg'}, {'中文名稱': '劇場版白箱', '英文名稱': 'SHIROBAKOTheMovie', '上映日期': '2020-05-08', '期待度': '91%', '封面照片網址': 'https://movies.yahoo.com.tw/x/r/w420/i/o/production/movies/April2020/aeE8YS6jzKVNHqrhj2Je-504x720.JPG'}, {'中文名稱': '素人特工', '英文名稱': 'TheRookies', '上映日期': '2020-05-08', '期待度': '74%', '封面照片網址': 'https://movies.yahoo.com.tw/x/r/w420/i/o/production/movies/April2020/VnzQJ4ar4zD9oqkgg1Hf-1280x1829.jpg'}, {'中文名稱': '閉嘴！彈琴', '英文名稱': 'ShutUpandPlaythePiano', '上映日期': '2020-05-08', '期待度': '75%', '封面照片網址': 'https://movies.yahoo.com.tw/x/r/w420/i/o/production/movies/April2020/8YPsmA8LQHGNp93ztPv6-1280x1836.jpg'}]\n"
     ]
    }
   ],
   "source": [
    "results = []\n",
    "\n",
    "for info, img in zip(infos, imgs):\n",
    "    results.append(dict(list(info.items()) + list(img.items())))\n",
    "\n",
    "print(results)"
   ]
  },
  {
   "cell_type": "markdown",
   "metadata": {},
   "source": [
    "#### 補充一：利用 DF 存取 / 另存成 CSV"
   ]
  },
  {
   "cell_type": "code",
   "execution_count": 186,
   "metadata": {},
   "outputs": [
    {
     "data": {
      "text/html": [
       "<div>\n",
       "<style scoped>\n",
       "    .dataframe tbody tr th:only-of-type {\n",
       "        vertical-align: middle;\n",
       "    }\n",
       "\n",
       "    .dataframe tbody tr th {\n",
       "        vertical-align: top;\n",
       "    }\n",
       "\n",
       "    .dataframe thead th {\n",
       "        text-align: right;\n",
       "    }\n",
       "</style>\n",
       "<table border=\"1\" class=\"dataframe\">\n",
       "  <thead>\n",
       "    <tr style=\"text-align: right;\">\n",
       "      <th></th>\n",
       "      <th>上映日期</th>\n",
       "      <th>中文名稱</th>\n",
       "      <th>封面照片網址</th>\n",
       "      <th>期待度</th>\n",
       "      <th>英文名稱</th>\n",
       "    </tr>\n",
       "  </thead>\n",
       "  <tbody>\n",
       "    <tr>\n",
       "      <th>0</th>\n",
       "      <td>2020-05-08</td>\n",
       "      <td>金都</td>\n",
       "      <td>https://movies.yahoo.com.tw/x/r/w420/i/o/produ...</td>\n",
       "      <td>93%</td>\n",
       "      <td>MyPrinceEdward</td>\n",
       "    </tr>\n",
       "    <tr>\n",
       "      <th>1</th>\n",
       "      <td>2020-05-08</td>\n",
       "      <td>觸不到的愛</td>\n",
       "      <td>https://movies.yahoo.com.tw/x/r/w420/i/o/produ...</td>\n",
       "      <td>80%</td>\n",
       "      <td>Endless</td>\n",
       "    </tr>\n",
       "    <tr>\n",
       "      <th>2</th>\n",
       "      <td>2020-05-08</td>\n",
       "      <td>陪你玩最大</td>\n",
       "      <td>https://movies.yahoo.com.tw/x/r/w420/i/o/produ...</td>\n",
       "      <td>63%</td>\n",
       "      <td>TheBestisYettoCome</td>\n",
       "    </tr>\n",
       "    <tr>\n",
       "      <th>3</th>\n",
       "      <td>2020-05-08</td>\n",
       "      <td>黑暗戰域</td>\n",
       "      <td>https://movies.yahoo.com.tw/x/r/w420/i/o/produ...</td>\n",
       "      <td>96%</td>\n",
       "      <td>TheBlackout</td>\n",
       "    </tr>\n",
       "    <tr>\n",
       "      <th>4</th>\n",
       "      <td>2020-05-08</td>\n",
       "      <td>初戀</td>\n",
       "      <td>https://movies.yahoo.com.tw/x/r/w420/i/o/produ...</td>\n",
       "      <td>93%</td>\n",
       "      <td>FirstLove</td>\n",
       "    </tr>\n",
       "    <tr>\n",
       "      <th>5</th>\n",
       "      <td>2020-05-08</td>\n",
       "      <td>老娘就要這麼活</td>\n",
       "      <td>https://movies.yahoo.com.tw/x/r/w420/i/o/produ...</td>\n",
       "      <td>60%</td>\n",
       "      <td>LalaEveryYou</td>\n",
       "    </tr>\n",
       "    <tr>\n",
       "      <th>6</th>\n",
       "      <td>2020-05-08</td>\n",
       "      <td>劇場版白箱</td>\n",
       "      <td>https://movies.yahoo.com.tw/x/r/w420/i/o/produ...</td>\n",
       "      <td>91%</td>\n",
       "      <td>SHIROBAKOTheMovie</td>\n",
       "    </tr>\n",
       "    <tr>\n",
       "      <th>7</th>\n",
       "      <td>2020-05-08</td>\n",
       "      <td>素人特工</td>\n",
       "      <td>https://movies.yahoo.com.tw/x/r/w420/i/o/produ...</td>\n",
       "      <td>74%</td>\n",
       "      <td>TheRookies</td>\n",
       "    </tr>\n",
       "    <tr>\n",
       "      <th>8</th>\n",
       "      <td>2020-05-08</td>\n",
       "      <td>閉嘴！彈琴</td>\n",
       "      <td>https://movies.yahoo.com.tw/x/r/w420/i/o/produ...</td>\n",
       "      <td>75%</td>\n",
       "      <td>ShutUpandPlaythePiano</td>\n",
       "    </tr>\n",
       "  </tbody>\n",
       "</table>\n",
       "</div>"
      ],
      "text/plain": [
       "         上映日期     中文名稱                                             封面照片網址  \\\n",
       "0  2020-05-08       金都  https://movies.yahoo.com.tw/x/r/w420/i/o/produ...   \n",
       "1  2020-05-08    觸不到的愛  https://movies.yahoo.com.tw/x/r/w420/i/o/produ...   \n",
       "2  2020-05-08    陪你玩最大  https://movies.yahoo.com.tw/x/r/w420/i/o/produ...   \n",
       "3  2020-05-08     黑暗戰域  https://movies.yahoo.com.tw/x/r/w420/i/o/produ...   \n",
       "4  2020-05-08       初戀  https://movies.yahoo.com.tw/x/r/w420/i/o/produ...   \n",
       "5  2020-05-08  老娘就要這麼活  https://movies.yahoo.com.tw/x/r/w420/i/o/produ...   \n",
       "6  2020-05-08    劇場版白箱  https://movies.yahoo.com.tw/x/r/w420/i/o/produ...   \n",
       "7  2020-05-08     素人特工  https://movies.yahoo.com.tw/x/r/w420/i/o/produ...   \n",
       "8  2020-05-08    閉嘴！彈琴  https://movies.yahoo.com.tw/x/r/w420/i/o/produ...   \n",
       "\n",
       "   期待度                   英文名稱  \n",
       "0  93%         MyPrinceEdward  \n",
       "1  80%                Endless  \n",
       "2  63%     TheBestisYettoCome  \n",
       "3  96%            TheBlackout  \n",
       "4  93%              FirstLove  \n",
       "5  60%           LalaEveryYou  \n",
       "6  91%      SHIROBAKOTheMovie  \n",
       "7  74%             TheRookies  \n",
       "8  75%  ShutUpandPlaythePiano  "
      ]
     },
     "execution_count": 186,
     "metadata": {},
     "output_type": "execute_result"
    }
   ],
   "source": [
    "# 補充一：利用 DF 存取 / 另存成 CSV\n",
    "\n",
    "import pandas as pd\n",
    "\n",
    "df = pd.DataFrame(results)\n",
    "df.to_csv('movies.csv', encoding='utf_8_sig')\n",
    "\n",
    "df"
   ]
  },
  {
   "cell_type": "markdown",
   "metadata": {},
   "source": [
    "#### 補充二：下載封面照片"
   ]
  },
  {
   "cell_type": "code",
   "execution_count": 190,
   "metadata": {
    "scrolled": true
   },
   "outputs": [
    {
     "name": "stdout",
     "output_type": "stream",
     "text": [
      "金都 https://movies.yahoo.com.tw/x/r/w420/i/o/production/movies/February2020/GZ92R9hq8YRrr8XbLIHR-514x720.jpg\n",
      "觸不到的愛 https://movies.yahoo.com.tw/x/r/w420/i/o/production/movies/April2020/jpmPh38Jrz1TNddOSiU1-1280x1829.jpg\n",
      "陪你玩最大 https://movies.yahoo.com.tw/x/r/w420/i/o/production/movies/April2020/lGhHaMcvTZePJcgUDMSh-1280x1828.jpg\n",
      "黑暗戰域 https://movies.yahoo.com.tw/x/r/w420/i/o/production/movies/April2020/JAMjue3LZZ2DDxGkWzhT-1984x2835.jpg\n",
      "初戀 https://movies.yahoo.com.tw/x/r/w420/i/o/production/movies/April2020/2cQn9jmWaEUaNxcaBGVL-1080x1920.jpg\n",
      "老娘就要這麼活 https://movies.yahoo.com.tw/x/r/w420/i/o/production/movies/April2020/rx1G0GWPyfQary2KRi8d-499x720.jpg\n",
      "劇場版白箱 https://movies.yahoo.com.tw/x/r/w420/i/o/production/movies/April2020/aeE8YS6jzKVNHqrhj2Je-504x720.JPG\n",
      "素人特工 https://movies.yahoo.com.tw/x/r/w420/i/o/production/movies/April2020/VnzQJ4ar4zD9oqkgg1Hf-1280x1829.jpg\n",
      "閉嘴！彈琴 https://movies.yahoo.com.tw/x/r/w420/i/o/production/movies/April2020/8YPsmA8LQHGNp93ztPv6-1280x1836.jpg\n"
     ]
    }
   ],
   "source": [
    "# 補充二：下載封面照片\n",
    "\n",
    "import urllib\n",
    "\n",
    "for d in results:\n",
    "    print(d['中文名稱'], d['封面照片網址'])\n",
    "    urllib.request.urlretrieve(d['封面照片網址'], './data/imgs/%s.jpg' % d['中文名稱'])\n",
    "    "
   ]
  },
  {
   "cell_type": "markdown",
   "metadata": {},
   "source": [
    "### 動手實作\n",
    "\n",
    "* ③ 取出上映中的電影「中英文名稱」、「上映日期」、「期待度」、「滿意度」，還有「封面照片網址」\n",
    "* ④ 請問上映中的電影，滿意度前五高的分別是哪些？"
   ]
  },
  {
   "cell_type": "markdown",
   "metadata": {},
   "source": [
    "#### ③ 取出上映中的電影「中英文名稱」、「上映日期」、「期待度」、「滿意度」，還有「封面照片網址」"
   ]
  },
  {
   "cell_type": "code",
   "execution_count": null,
   "metadata": {},
   "outputs": [],
   "source": [
    "'''\n",
    "Your Code\n",
    "'''"
   ]
  },
  {
   "cell_type": "code",
   "execution_count": 192,
   "metadata": {},
   "outputs": [
    {
     "name": "stdout",
     "output_type": "stream",
     "text": [
      "[{'中文名稱': '熊熊大作戰', '英文名稱': 'LaFameuseInvasiondesoursenSicile', '上映日期': '2020-04-30', '期待度': '83%', '滿意度': '3.6', '封面照片網址': 'https://movies.yahoo.com.tw/x/r/w420/i/o/production/movies/April2020/TF3exDUzf0ppuzNbOGwZ-1960x2797.jpg'}, {'中文名稱': '如果我擁抱你請不要害怕', '英文名稱': 'Volare', '上映日期': '2020-04-30', '期待度': '70%', '滿意度': '3.8', '封面照片網址': 'https://movies.yahoo.com.tw/x/r/w420/i/o/production/movies/March2020/dFGxQYjPzCb2uJCel4lK-627x891.jpg'}, {'中文名稱': '帕華洛帝：世紀男高音', '英文名稱': 'Pavarotti', '上映日期': '2020-04-30', '期待度': '92%', '滿意度': '4.3', '封面照片網址': 'https://movies.yahoo.com.tw/x/r/w420/i/o/production/movies/March2020/wi2SiX9s4w8dpn5oCA5Q-504x720.JPG'}, {'中文名稱': '流感', '英文名稱': 'TheFlu', '上映日期': '2020-04-30', '期待度': '87%', '滿意度': '4.0', '封面照片網址': 'https://movies.yahoo.com.tw/x/r/w420/i/o/production/movies/April2020/v7EYYu3DPqQLUOvJpoMg-1080x1920.jpg'}, {'中文名稱': '抽屍剝繭', '英文名稱': 'CutOff', '上映日期': '2020-04-30', '期待度': '79%', '滿意度': '3.6', '封面照片網址': 'https://movies.yahoo.com.tw/x/r/w420/i/o/production/movies/March2020/bVQsEr7htb33kkfkSotj-504x720.jpg'}, {'中文名稱': '見鬼的戀愛季節', '英文名稱': 'LowSeason', '上映日期': '2020-04-30', '期待度': '87%', '滿意度': '4.0', '封面照片網址': 'https://movies.yahoo.com.tw/x/r/w420/i/o/production/movies/April2020/7Rv3pTAnJMliEjU3DXOB-702x1000.jpg'}, {'中文名稱': '正在相愛嗎？', '英文名稱': 'AreYouinLove?', '上映日期': '2020-04-30', '期待度': '83%', '滿意度': '2.9', '封面照片網址': 'https://movies.yahoo.com.tw/x/r/w420/i/o/production/movies/April2020/TvNB5m90mOBMqZB3KFuw-504x720.jpg'}, {'中文名稱': '鎖命佈局', '英文名稱': 'Inheritance', '上映日期': '2020-04-30', '期待度': '87%', '滿意度': '4.1', '封面照片網址': 'https://movies.yahoo.com.tw/x/r/w420/i/o/production/movies/April2020/qhnshm2q0HUlaapVe4d5-840x1200.jpg'}, {'中文名稱': '壞教育', '英文名稱': 'BadEducation', '上映日期': '2020-04-30', '期待度': '98%', '滿意度': '4.2', '封面照片網址': 'https://movies.yahoo.com.tw/x/r/w420/i/o/production/movies/April2020/S7LwnMQvUlamRn5BYO0j-1280x1829.jpg'}, {'中文名稱': '現屍報', '英文名稱': 'Morgue', '上映日期': '2020-04-30', '期待度': '86%', '滿意度': '3.1', '封面照片網址': 'https://movies.yahoo.com.tw/x/r/w420/i/o/production/movies/April2020/yaxtdj8U7L3s10kSzmDW-504x720.jpg'}]\n"
     ]
    }
   ],
   "source": [
    "# 參考解答：③ 取出上映中的電影「中英文名稱」、「上映日期」、「期待度」、「滿意度」，還有「封面照片網址」\n",
    "\n",
    "import requests\n",
    "from bs4 import BeautifulSoup\n",
    "\n",
    "url = 'https://movies.yahoo.com.tw/movie_intheaters.html'\n",
    "r = requests.get(url)\n",
    "soup = BeautifulSoup(r.text, \"html5lib\")\n",
    "\n",
    "infos = []\n",
    "imgs = []\n",
    "\n",
    "for d in soup.find_all('div', class_=\"release_info\"):\n",
    "    \n",
    "    info = {}\n",
    "    info['中文名稱'] = d.find('div', class_=\"release_movie_name\").find('a', class_='gabtn').text.replace(' ', '').replace('\\n', '')\n",
    "    info['英文名稱'] = d.find('div', class_=\"release_movie_name\").find('div', class_='en').find('a', class_='gabtn').text.replace(' ', '').replace('\\n', '')\n",
    "    info['上映日期'] = d.find('div', class_='release_movie_time').text.replace('上映日期 ： ', '')\n",
    "    info['期待度'] = d.find('div', class_='leveltext').span.text\n",
    "    info['滿意度'] = d.find_all('div', class_='leveltext')[-1].span['data-num']\n",
    "    \n",
    "    infos.append(info)\n",
    "\n",
    "for d in soup.find_all('div', class_='release_foto'):\n",
    "    \n",
    "    img = {}\n",
    "    img['封面照片網址'] = d.img['src']\n",
    "    imgs.append(img)\n",
    "\n",
    "results = []\n",
    "\n",
    "for info, img in zip(infos, imgs):\n",
    "    results.append(dict(list(info.items()) + list(img.items())))\n",
    "\n",
    "print(results)"
   ]
  },
  {
   "cell_type": "markdown",
   "metadata": {},
   "source": [
    "#### ④ 請問上映中的電影，滿意度前五高的分別是哪些？"
   ]
  },
  {
   "cell_type": "code",
   "execution_count": null,
   "metadata": {},
   "outputs": [],
   "source": [
    "'''\n",
    "Your Code\n",
    "'''"
   ]
  },
  {
   "cell_type": "code",
   "execution_count": 193,
   "metadata": {},
   "outputs": [
    {
     "name": "stdout",
     "output_type": "stream",
     "text": [
      "帕華洛帝：世紀男高音 4.3\n",
      "壞教育 4.2\n",
      "鎖命佈局 4.1\n",
      "見鬼的戀愛季節 4.0\n",
      "流感 4.0\n"
     ]
    }
   ],
   "source": [
    "# 參考解答：④ 請問上映中的電影，滿意度前五高的分別是哪些？\n",
    "\n",
    "for d in sorted(results, key=lambda d: d['滿意度'])[::-1][:5]:\n",
    "    print(d['中文名稱'], d['滿意度'])"
   ]
  },
  {
   "cell_type": "markdown",
   "metadata": {},
   "source": [
    "#### 補充：如何取得更多頁的資訊？"
   ]
  },
  {
   "cell_type": "code",
   "execution_count": 194,
   "metadata": {},
   "outputs": [
    {
     "name": "stdout",
     "output_type": "stream",
     "text": [
      "https://movies.yahoo.com.tw/movie_intheaters.html?page=1\n",
      "https://movies.yahoo.com.tw/movie_intheaters.html?page=2\n",
      "[{'中文名稱': '熊熊大作戰', '英文名稱': 'LaFameuseInvasiondesoursenSicile', '上映日期': '2020-04-30', '期待度': '83%', '滿意度': '3.6', '封面照片網址': 'https://movies.yahoo.com.tw/x/r/w420/i/o/production/movies/April2020/TF3exDUzf0ppuzNbOGwZ-1960x2797.jpg'}, {'中文名稱': '如果我擁抱你請不要害怕', '英文名稱': 'Volare', '上映日期': '2020-04-30', '期待度': '70%', '滿意度': '3.8', '封面照片網址': 'https://movies.yahoo.com.tw/x/r/w420/i/o/production/movies/March2020/dFGxQYjPzCb2uJCel4lK-627x891.jpg'}, {'中文名稱': '帕華洛帝：世紀男高音', '英文名稱': 'Pavarotti', '上映日期': '2020-04-30', '期待度': '92%', '滿意度': '4.3', '封面照片網址': 'https://movies.yahoo.com.tw/x/r/w420/i/o/production/movies/March2020/wi2SiX9s4w8dpn5oCA5Q-504x720.JPG'}, {'中文名稱': '流感', '英文名稱': 'TheFlu', '上映日期': '2020-04-30', '期待度': '87%', '滿意度': '4.0', '封面照片網址': 'https://movies.yahoo.com.tw/x/r/w420/i/o/production/movies/April2020/v7EYYu3DPqQLUOvJpoMg-1080x1920.jpg'}, {'中文名稱': '抽屍剝繭', '英文名稱': 'CutOff', '上映日期': '2020-04-30', '期待度': '79%', '滿意度': '3.6', '封面照片網址': 'https://movies.yahoo.com.tw/x/r/w420/i/o/production/movies/March2020/bVQsEr7htb33kkfkSotj-504x720.jpg'}, {'中文名稱': '見鬼的戀愛季節', '英文名稱': 'LowSeason', '上映日期': '2020-04-30', '期待度': '87%', '滿意度': '4.0', '封面照片網址': 'https://movies.yahoo.com.tw/x/r/w420/i/o/production/movies/April2020/7Rv3pTAnJMliEjU3DXOB-702x1000.jpg'}, {'中文名稱': '正在相愛嗎？', '英文名稱': 'AreYouinLove?', '上映日期': '2020-04-30', '期待度': '83%', '滿意度': '2.9', '封面照片網址': 'https://movies.yahoo.com.tw/x/r/w420/i/o/production/movies/April2020/TvNB5m90mOBMqZB3KFuw-504x720.jpg'}, {'中文名稱': '鎖命佈局', '英文名稱': 'Inheritance', '上映日期': '2020-04-30', '期待度': '87%', '滿意度': '4.1', '封面照片網址': 'https://movies.yahoo.com.tw/x/r/w420/i/o/production/movies/April2020/qhnshm2q0HUlaapVe4d5-840x1200.jpg'}, {'中文名稱': '壞教育', '英文名稱': 'BadEducation', '上映日期': '2020-04-30', '期待度': '98%', '滿意度': '4.2', '封面照片網址': 'https://movies.yahoo.com.tw/x/r/w420/i/o/production/movies/April2020/S7LwnMQvUlamRn5BYO0j-1280x1829.jpg'}, {'中文名稱': '現屍報', '英文名稱': 'Morgue', '上映日期': '2020-04-30', '期待度': '86%', '滿意度': '3.1', '封面照片網址': 'https://movies.yahoo.com.tw/x/r/w420/i/o/production/movies/April2020/yaxtdj8U7L3s10kSzmDW-504x720.jpg'}, {'中文名稱': '監禁100呎', '英文名稱': '10x10', '上映日期': '2020-04-30', '期待度': '93%', '滿意度': '3.8', '封面照片網址': 'https://movies.yahoo.com.tw/x/r/w420/i/o/production/movies/April2020/tFCIm0VCPfB2KlCzfCGN-992x1418.JPG'}, {'中文名稱': '聽教父的話', '英文名稱': 'TheMayorofRioneSanità', '上映日期': '2020-04-30', '期待度': '0%', '滿意度': '0.0', '封面照片網址': 'https://movies.yahoo.com.tw/x/r/w420/i/o/production/movies/April2020/YqdCMzhihKJVWlASsRJp-504x720.jpg'}, {'中文名稱': '搭火車旅行好吃驚', '英文名稱': 'AdvantagesofTravellingbyTrain', '上映日期': '2020-04-24', '期待度': '87%', '滿意度': '4.1', '封面照片網址': 'https://movies.yahoo.com.tw/x/r/w420/i/o/production/movies/February2020/cs033mOI16HfZ0V9FgKV-1280x1828.jpg'}, {'中文名稱': '緣來想見妳', '英文名稱': '#iamhere', '上映日期': '2020-04-24', '期待度': '76%', '滿意度': '4.0', '封面照片網址': 'https://movies.yahoo.com.tw/x/r/w420/i/o/production/movies/March2020/M9mqyvCVDsscb3LWdBgU-504x720.jpg'}, {'中文名稱': '美好拾光公司', '英文名稱': 'LaBelleEpoque', '上映日期': '2020-04-24', '期待度': '81%', '滿意度': '4.2', '封面照片網址': 'https://movies.yahoo.com.tw/x/r/w420/i/o/production/movies/March2020/e5ip7r3FiTsLWXSUofpW-505x720.jpg'}, {'中文名稱': '這一刻，想見你', '英文名稱': 'InMyHeart', '上映日期': '2020-04-24', '期待度': '58%', '滿意度': '3.7', '封面照片網址': 'https://movies.yahoo.com.tw/x/r/w420/i/o/production/movies/March2020/BiROj50IOVlixYYXZwgk-504x720.jpg'}, {'中文名稱': '吞噬', '英文名稱': 'Swallow', '上映日期': '2020-04-24', '期待度': '83%', '滿意度': '3.6', '封面照片網址': 'https://movies.yahoo.com.tw/x/r/w420/i/o/production/movies/March2020/UmBfa8B6BiiF2S8n9Mnb-1985x2835.jpg'}, {'中文名稱': '數碼寶貝LASTEVOLUTION絆', '英文名稱': 'DIGIMONADVENTURELastEvolutionKIZUNA', '上映日期': '2020-04-24', '期待度': '88%', '滿意度': '4.4', '封面照片網址': 'https://movies.yahoo.com.tw/x/r/w420/i/o/production/movies/March2020/hpmCQ2W3sG3NPg6n81oh-493x720.jpg'}, {'中文名稱': '靈異孤兒院', '英文名稱': 'TheOrphanage', '上映日期': '2020-04-24', '期待度': '94%', '滿意度': '4.4', '封面照片網址': 'https://movies.yahoo.com.tw/x/r/w420/i/o/production/movies/March2020/buPV67h987ELeGaNofVA-504x720.jpg'}, {'中文名稱': '長沙里之戰：被遺忘的英雄', '英文名稱': 'BattleofJangsari', '上映日期': '2020-04-24', '期待度': '90%', '滿意度': '4.0', '封面照片網址': 'https://movies.yahoo.com.tw/x/r/w420/i/o/production/movies/March2020/3b3eMsq6AcR2yBSWWVtr-504x720.JPG'}]\n"
     ]
    }
   ],
   "source": [
    "# 補充：如何取得更多頁的資訊？\n",
    "\n",
    "import requests\n",
    "from bs4 import BeautifulSoup\n",
    "\n",
    "infos = []\n",
    "imgs = []\n",
    "\n",
    "for page in range(1, 3):\n",
    "    url = 'https://movies.yahoo.com.tw/movie_intheaters.html?page=%s' % page\n",
    "    print(url)\n",
    "    r = requests.get(url)\n",
    "    soup = BeautifulSoup(r.text, \"html5lib\")\n",
    "\n",
    "    for d in soup.find_all('div', class_=\"release_info\"):\n",
    "\n",
    "        info = {}\n",
    "        info['中文名稱'] = d.find('div', class_=\"release_movie_name\").find('a', class_='gabtn').text.replace(' ', '').replace('\\n', '')\n",
    "        info['英文名稱'] = d.find('div', class_=\"release_movie_name\").find('div', class_='en').find('a', class_='gabtn').text.replace(' ', '').replace('\\n', '')\n",
    "        info['上映日期'] = d.find('div', class_='release_movie_time').text.replace('上映日期 ： ', '')\n",
    "        info['期待度'] = d.find('div', class_='leveltext').span.text\n",
    "        info['滿意度'] = d.find_all('div', class_='leveltext')[-1].span['data-num']\n",
    "\n",
    "        infos.append(info)\n",
    "\n",
    "    for d in soup.find_all('div', class_='release_foto'):\n",
    "\n",
    "        img = {}\n",
    "        img['封面照片網址'] = d.img['src']\n",
    "        imgs.append(img)\n",
    "\n",
    "\n",
    "results = []\n",
    "for info, img in zip(infos, imgs):\n",
    "    results.append(dict(list(info.items()) + list(img.items())))\n",
    "print(results)\n",
    "\n"
   ]
  },
  {
   "cell_type": "code",
   "execution_count": 195,
   "metadata": {
    "scrolled": true
   },
   "outputs": [
    {
     "name": "stdout",
     "output_type": "stream",
     "text": [
      "靈異孤兒院 4.4\n",
      "數碼寶貝LASTEVOLUTION絆 4.4\n",
      "帕華洛帝：世紀男高音 4.3\n",
      "美好拾光公司 4.2\n",
      "壞教育 4.2\n",
      "搭火車旅行好吃驚 4.1\n",
      "鎖命佈局 4.1\n",
      "長沙里之戰：被遺忘的英雄 4.0\n",
      "緣來想見妳 4.0\n",
      "見鬼的戀愛季節 4.0\n",
      "流感 4.0\n",
      "監禁100呎 3.8\n",
      "如果我擁抱你請不要害怕 3.8\n",
      "這一刻，想見你 3.7\n",
      "吞噬 3.6\n",
      "抽屍剝繭 3.6\n",
      "熊熊大作戰 3.6\n",
      "現屍報 3.1\n",
      "正在相愛嗎？ 2.9\n",
      "聽教父的話 0.0\n"
     ]
    }
   ],
   "source": [
    "# 請問上映中的電影，滿意度前五高的分別是哪些？\n",
    "\n",
    "for d in sorted(results, key=lambda d: d['滿意度'])[::-1]:\n",
    "    print(d['中文名稱'], d['滿意度'])"
   ]
  },
  {
   "attachments": {},
   "cell_type": "markdown",
   "metadata": {},
   "source": [
    "## 07 動態網頁的資料爬蟲"
   ]
  },
  {
   "cell_type": "markdown",
   "metadata": {},
   "source": [
    "### Example：Hahow 好學校"
   ]
  },
  {
   "cell_type": "code",
   "execution_count": 55,
   "metadata": {},
   "outputs": [
    {
     "data": {
      "text/plain": [
       "'[Element.prototype,Document.prototype,DocumentFragment.prototype].forEach((function(e){e.hasOwnProperty(\"prepend\")||Object.defineProperty(e,\"prepend\",{configurable:!0,enumerable:!0,writable:!0,value:function(){var e=Array.prototype.slice.call(arguments),t=document.createDocumentFragment();e.forEach((function(e){var n=e instanceof Node;t.appendChild(n?e:document.createTextNode(String(e)))})),this.insertBefore(t,this.firstChild)}})}));var loadDeferredStyles=function(){var e=document.getElementById(\"deferred-styles\"),t=document.createElement(\"div\");t.innerHTML=e.textContent,document.head.prepend(t),e.parentElement.removeChild(e)},raf=window.requestAnimationFrame||window.mozRequestAnimationFrame||window.webkitRequestAnimationFrame||window.msRequestAnimationFrame;raf?raf((function(){window.setTimeout(loadDeferredStyles,0)})):window.addEventListener(\"load\",loadDeferredStyles)!function(t,h,e,j,s,n){t.hj=t.hj||function(){(t.hj.q=t.hj.q||[]).push(arguments)},t._hjSettings={hjid:301739,hjsv:6},s=h.getElementsByTagName(\"head\")[0],(n=h.createElement(\"script\")).async=1,n.src=\"https://static.hotjar.com/c/hotjar-\"+t._hjSettings.hjid+\".js?sv=\"+t._hjSettings.hjsv,s.appendChild(n)}(window,document)!function(e){function c(c){for(var d,a,n=c[0],o=c[1],b=c[2],u=0,l=[];u<n.length;u++)a=n[u],Object.prototype.hasOwnProperty.call(t,a)&&t[a]&&l.push(t[a][0]),t[a]=0;for(d in o)Object.prototype.hasOwnProperty.call(o,d)&&(e[d]=o[d]);for(i&&i(c);l.length;)l.shift()();return r.push.apply(r,b||[]),f()}function f(){for(var e,c=0;c<r.length;c++){for(var f=r[c],d=!0,a=1;a<f.length;a++){var o=f[a];0!==t[o]&&(d=!1)}d&&(r.splice(c--,1),e=n(n.s=f[0]))}return e}var d={},a={23:0},t={23:0},r=[];function n(c){if(d[c])return d[c].exports;var f=d[c]={i:c,l:!1,exports:{}};return e[c].call(f.exports,f,f.exports,n),f.l=!0,f.exports}n.e=function(e){var c=[];a[e]?c.push(a[e]):0!==a[e]&&{7:1,16:1,17:1,30:1,34:1,37:1,50:1,51:1,116:1,120:1}[e]&&c.push(a[e]=new Promise((function(c,f){for(var d=\"static/css/\"+({}[e]||e)+\".\"+{0:\"31d6cfe0\",1:\"31d6cfe0\",2:\"31d6cfe0\",3:\"31d6cfe0\",4:\"31d6cfe0\",5:\"31d6cfe0\",6:\"31d6cfe0\",7:\"22fcc149\",8:\"31d6cfe0\",9:\"31d6cfe0\",10:\"31d6cfe0\",11:\"31d6cfe0\",12:\"31d6cfe0\",13:\"31d6cfe0\",14:\"31d6cfe0\",15:\"31d6cfe0\",16:\"6e7b7be2\",17:\"7c365a51\",18:\"31d6cfe0\",19:\"31d6cfe0\",20:\"31d6cfe0\",21:\"31d6cfe0\",25:\"31d6cfe0\",26:\"31d6cfe0\",27:\"31d6cfe0\",28:\"31d6cfe0\",29:\"31d6cfe0\",30:\"7c365a51\",31:\"31d6cfe0\",32:\"31d6cfe0\",33:\"31d6cfe0\",34:\"22fcc149\",35:\"31d6cfe0\",36:\"31d6cfe0\",37:\"22fcc149\",38:\"31d6cfe0\",39:\"31d6cfe0\",40:\"31d6cfe0\",41:\"31d6cfe0\",42:\"31d6cfe0\",43:\"31d6cfe0\",44:\"31d6cfe0\",45:\"31d6cfe0\",46:\"31d6cfe0\",47:\"31d6cfe0\",48:\"31d6cfe0\",49:\"31d6cfe0\",50:\"7c365a51\",51:\"7c365a51\",52:\"31d6cfe0\",53:\"31d6cfe0\",54:\"31d6cfe0\",55:\"31d6cfe0\",56:\"31d6cfe0\",57:\"31d6cfe0\",58:\"31d6cfe0\",59:\"31d6cfe0\",60:\"31d6cfe0\",61:\"31d6cfe0\",62:\"31d6cfe0\",63:\"31d6cfe0\",64:\"31d6cfe0\",65:\"31d6cfe0\",66:\"31d6cfe0\",67:\"31d6cfe0\",68:\"31d6cfe0\",69:\"31d6cfe0\",70:\"31d6cfe0\",71:\"31d6cfe0\",72:\"31d6cfe0\",73:\"31d6cfe0\",74:\"31d6cfe0\",75:\"31d6cfe0\",76:\"31d6cfe0\",77:\"31d6cfe0\",78:\"31d6cfe0\",79:\"31d6cfe0\",80:\"31d6cfe0\",81:\"31d6cfe0\",82:\"31d6cfe0\",83:\"31d6cfe0\",84:\"31d6cfe0\",85:\"31d6cfe0\",86:\"31d6cfe0\",87:\"31d6cfe0\",88:\"31d6cfe0\",89:\"31d6cfe0\",90:\"31d6cfe0\",91:\"31d6cfe0\",92:\"31d6cfe0\",93:\"31d6cfe0\",94:\"31d6cfe0\",95:\"31d6cfe0\",96:\"31d6cfe0\",97:\"31d6cfe0\",98:\"31d6cfe0\",99:\"31d6cfe0\",100:\"31d6cfe0\",101:\"31d6cfe0\",102:\"31d6cfe0\",103:\"31d6cfe0\",104:\"31d6cfe0\",105:\"31d6cfe0\",106:\"31d6cfe0\",107:\"31d6cfe0\",108:\"31d6cfe0\",109:\"31d6cfe0\",110:\"31d6cfe0\",111:\"31d6cfe0\",112:\"31d6cfe0\",113:\"31d6cfe0\",114:\"31d6cfe0\",115:\"31d6cfe0\",116:\"d28f2505\",117:\"31d6cfe0\",118:\"31d6cfe0\",119:\"31d6cfe0\",120:\"11f61336\",121:\"31d6cfe0\",122:\"31d6cfe0\",123:\"31d6cfe0\",124:\"31d6cfe0\",125:\"31d6cfe0\",126:\"31d6cfe0\",127:\"31d6cfe0\",128:\"31d6cfe0\",129:\"31d6cfe0\",130:\"31d6cfe0\",131:\"31d6cfe0\",132:\"31d6cfe0\",133:\"31d6cfe0\",134:\"31d6cfe0\",135:\"31d6cfe0\",136:\"31d6cfe0\",137:\"31d6cfe0\",138:\"31d6cfe0\",139:\"31d6cfe0\",140:\"31d6cfe0\",141:\"31d6cfe0\",142:\"31d6cfe0\"}[e]+\".chunk.css\",t=n.p+d,r=document.getElementsByTagName(\"link\"),o=0;o<r.length;o++){var b=(i=r[o]).getAttribute(\"data-href\")||i.getAttribute(\"href\");if(\"stylesheet\"===i.rel&&(b===d||b===t))return c()}var u=document.getElementsByTagName(\"style\");for(o=0;o<u.length;o++){var i;if((b=(i=u[o]).getAttribute(\"data-href\"))===d||b===t)return c()}var l=document.createElement(\"link\");l.rel=\"stylesheet\",l.type=\"text/css\",l.onload=c,l.onerror=function(c){var d=c&&c.target&&c.target.src||t,r=new Error(\"Loading CSS chunk \"+e+\" failed.\\\\n(\"+d+\")\");r.code=\"CSS_CHUNK_LOAD_FAILED\",r.request=d,delete a[e],l.parentNode.removeChild(l),f(r)},l.href=t,document.getElementsByTagName(\"head\")[0].appendChild(l)})).then((function(){a[e]=0})));var f=t[e];if(0!==f)if(f)c.push(f[2]);else{var d=new Promise((function(c,d){f=t[e]=[c,d]}));c.push(f[2]=d);var r,o=document.createElement(\"script\");o.charset=\"utf-8\",o.timeout=120,n.nc&&o.setAttribute(\"nonce\",n.nc),o.src=function(e){return n.p+\"static/js/\"+({}[e]||e)+\".\"+{0:\"3d8119e4\",1:\"998f3e3a\",2:\"0478a8f1\",3:\"fbab3e3d\",4:\"573b9a2d\",5:\"771ee781\",6:\"4b0d441b\",7:\"68a97899\",8:\"760bf0f3\",9:\"b5b2b642\",10:\"cee2a2de\",11:\"fde81bf8\",12:\"a66ff2c1\",13:\"17e770eb\",14:\"176d0e1d\",15:\"ae41cb40\",16:\"d6ba388b\",17:\"ae28e95d\",18:\"fb4a02d0\",19:\"88157da8\",20:\"4a417e82\",21:\"ed7bf0df\",25:\"197ae806\",26:\"b66e9615\",27:\"a1999c58\",28:\"1e2ac4b3\",29:\"dd27188f\",30:\"b89462cb\",31:\"69ab0a43\",32:\"8c0bcd87\",33:\"657f6785\",34:\"a6fd917c\",35:\"5fa63eb4\",36:\"7b2776ec\",37:\"7f9cdd4e\",38:\"80375f57\",39:\"ca260523\",40:\"1e811f67\",41:\"a16ab713\",42:\"8dc29caf\",43:\"80d51717\",44:\"e07503c2\",45:\"842dfac0\",46:\"99b65306\",47:\"48c740ec\",48:\"ad0eee6f\",49:\"cfa1a5e1\",50:\"3547d009\",51:\"cfa6eea4\",52:\"2aa863d9\",53:\"9b055433\",54:\"28d75e81\",55:\"39514bc5\",56:\"d8496c76\",57:\"ed7c68ea\",58:\"96e90ce0\",59:\"b64b1599\",60:\"26c1b91e\",61:\"d40627ee\",62:\"5caa88d2\",63:\"3edddc8f\",64:\"32b71e96\",65:\"7c53ce80\",66:\"f1e156d6\",67:\"f5340630\",68:\"7c21977a\",69:\"52fd8dee\",70:\"894a2644\",71:\"b6bbfd70\",72:\"0627e158\",73:\"bed3d438\",74:\"92e1de91\",75:\"aa5fed2a\",76:\"ad76a0bf\",77:\"3704fec2\",78:\"6626e156\",79:\"78a0025b\",80:\"46306570\",81:\"3d498295\",82:\"ab9c00a2\",83:\"185b9403\",84:\"a9a7a82c\",85:\"33f74260\",86:\"60e6ddbb\",87:\"81e28dd5\",88:\"e0d4abdd\",89:\"61397a8f\",90:\"465b87e5\",91:\"0394d9b9\",92:\"c5feddd8\",93:\"262f1be2\",94:\"14a2f002\",95:\"fffc81d1\",96:\"a910050a\",97:\"f8c37b06\",98:\"6e736704\",99:\"78b219eb\",100:\"fc2a1e44\",101:\"0df68477\",102:\"e4635d27\",103:\"0647a5f7\",104:\"ff81ec53\",105:\"8a7dffe1\",106:\"6e295dba\",107:\"16036d7b\",108:\"7a1f3bcd\",109:\"f8b95341\",110:\"86b917b3\",111:\"24395af0\",112:\"8ab5fc29\",113:\"3289b210\",114:\"0d89f18c\",115:\"cd14ced0\",116:\"992523ca\",117:\"e5392e5a\",118:\"460c4549\",119:\"379a3fca\",120:\"967c82ef\",121:\"832f386a\",122:\"56429302\",123:\"b627a076\",124:\"d9695c2d\",125:\"35d9fd50\",126:\"05368d7e\",127:\"c79a4fb1\",128:\"9b39ef38\",129:\"f40a953b\",130:\"f9cf536d\",131:\"63b88aea\",132:\"00fff2a7\",133:\"13454da1\",134:\"e0707afb\",135:\"bc04feba\",136:\"95dae72c\",137:\"9c998ae8\",138:\"20de3b53\",139:\"53573b5c\",140:\"7167b07c\",141:\"ab884a94\",142:\"e82ca411\"}[e]+\".chunk.js\"}(e);var b=new Error;r=function(c){o.onerror=o.onload=null,clearTimeout(u);var f=t[e];if(0!==f){if(f){var d=c&&(\"load\"===c.type?\"missing\":c.type),a=c&&c.target&&c.target.src;b.message=\"Loading chunk \"+e+\" failed.\\\\n(\"+d+\": \"+a+\")\",b.name=\"ChunkLoadError\",b.type=d,b.request=a,f[1](b)}t[e]=void 0}};var u=setTimeout((function(){r({type:\"timeout\",target:o})}),12e4);o.onerror=o.onload=r,document.head.appendChild(o)}return Promise.all(c)},n.m=e,n.c=d,n.d=function(e,c,f){n.o(e,c)||Object.defineProperty(e,c,{enumerable:!0,get:f})},n.r=function(e){\"undefined\"!=typeof Symbol&&Symbol.toStringTag&&Object.defineProperty(e,Symbol.toStringTag,{value:\"Module\"}),Object.defineProperty(e,\"__esModule\",{value:!0})},n.t=function(e,c){if(1&c&&(e=n(e)),8&c)return e;if(4&c&&\"object\"==typeof e&&e&&e.__esModule)return e;var f=Object.create(null);if(n.r(f),Object.defineProperty(f,\"default\",{enumerable:!0,value:e}),2&c&&\"string\"!=typeof e)for(var d in e)n.d(f,d,function(c){return e[c]}.bind(null,d));return f},n.n=function(e){var c=e&&e.__esModule?function(){return e.default}:function(){return e};return n.d(c,\"a\",c),c},n.o=function(e,c){return Object.prototype.hasOwnProperty.call(e,c)},n.p=\"https://hahow.in/\",n.oe=function(e){throw console.error(e),e};var o=this[\"webpackJsonphh-frontend-react\"]=this[\"webpackJsonphh-frontend-react\"]||[],b=o.push.bind(o);o.push=c,o=o.slice();for(var u=0;u<o.length;u++)c(o[u]);var i=b;f()}([])'"
      ]
     },
     "execution_count": 55,
     "metadata": {},
     "output_type": "execute_result"
    }
   ],
   "source": [
    "import requests\n",
    "from bs4 import BeautifulSoup\n",
    "\n",
    "r = requests.get(\"https://hahow.in/courses\")\n",
    "d = BeautifulSoup(r.text, 'lxml')\n",
    "\n",
    "d.body.text"
   ]
  },
  {
   "cell_type": "code",
   "execution_count": 198,
   "metadata": {},
   "outputs": [],
   "source": [
    "from selenium import webdriver # !pip install selenium\n",
    "from selenium.webdriver.support.ui import Select\n",
    "from bs4 import BeautifulSoup\n",
    "\n",
    "browser = webdriver.Chrome(executable_path='./chromedriver')\n",
    "# https://sites.google.com/a/chromium.org/chromedriver/downloads\n",
    "\n",
    "browser.get(\"https://hahow.in/courses\")"
   ]
  },
  {
   "cell_type": "code",
   "execution_count": 199,
   "metadata": {},
   "outputs": [
    {
     "name": "stdout",
     "output_type": "stream",
     "text": [
      "紙上的美妝師：連禾時尚彩妝畫\n",
      "顧客分類大師：Python x RFM 會員經營新觀點\n",
      "翻轉文字：給孩子好玩的創意寫作課！\n",
      "大人的蠟筆畫：活用油畫知識，寫實生活微光\n",
      "機器學習攻略：實戰心法到求職技巧\n",
      "法式甜點在地魂製作攻略－日日在家菓實日\n",
      "林長揚職場簡報術：一次搞定所有工作簡報！\n",
      "概念式時尚插畫｜我的小小時裝週\n",
      "羅寶鴻的安定教養課：12 個對話練習與心法\n",
      "七日減醣計畫「一週持續執行！」邊吃邊享瘦\n",
      "閱讀攝影的眼神 - 啟動你的影像理解力\n",
      "手機 App 開發入門：App Inventor 2 實作\n",
      "全民防疫通識課：陳建仁副總統來開講\n",
      "省錢攝影術：零基礎拍好美食＆商品！\n",
      "Linux 我來教: CentOS/ RHEL 8 新世代雲端\n",
      "口譯員浩爾的打獵式聆聽＆資訊處理術\n",
      "資料變決策！從零上手 Tableau 大數據視覺化\n",
      "互動藝術程式創作入門 Creative Coding \n",
      "人生管理學：把自己當成公司經營\n",
      "薩克斯風 - 13 堂基本功吹出專輯的美聲\n",
      "用實際案例學設計-美編的 InDesign 排版課\n",
      "動盪時代的資產配置：王伯達人生財務規劃學\n",
      "手繪轉電繪，我選 Procreate！\n",
      "氣球達人不藏私！宋俊霖的塞球雕塑造型課\n"
     ]
    }
   ],
   "source": [
    "# 取得資料\n",
    "html_source = browser.page_source\n",
    "\n",
    "soup = BeautifulSoup(html_source, 'html.parser')\n",
    "for d in soup.find_all('h4', class_='title'):\n",
    "    print(d.text)"
   ]
  },
  {
   "cell_type": "code",
   "execution_count": 200,
   "metadata": {},
   "outputs": [],
   "source": [
    "browser.quit()"
   ]
  },
  {
   "cell_type": "code",
   "execution_count": null,
   "metadata": {},
   "outputs": [],
   "source": []
  }
 ],
 "metadata": {
  "kernelspec": {
   "display_name": "Python 3",
   "language": "python",
   "name": "python3"
  },
  "language_info": {
   "codemirror_mode": {
    "name": "ipython",
    "version": 3
   },
   "file_extension": ".py",
   "mimetype": "text/x-python",
   "name": "python",
   "nbconvert_exporter": "python",
   "pygments_lexer": "ipython3",
   "version": "3.6.5"
  }
 },
 "nbformat": 4,
 "nbformat_minor": 2
}
